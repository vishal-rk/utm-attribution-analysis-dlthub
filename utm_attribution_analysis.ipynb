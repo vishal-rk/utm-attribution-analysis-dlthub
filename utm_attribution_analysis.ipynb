{
 "cells": [
  {
   "cell_type": "markdown",
   "id": "76243a93",
   "metadata": {},
   "source": [
    "# UTM Source Attribution Analysis\n",
    "\n",
    "**Objective:** Analyze which acquisition sources drive high-quality signups and user engagement.\n",
    "\n",
    "**Key Question:** Which acquisition sources bring in users who stay engaged, and which sources are just noise?\n",
    "\n",
    "**Analysis Components:**\n",
    "1. Data loading and validation\n",
    "2. dlt pipeline to DuckDB\n",
    "3. Acquisition, engagement, and retention metrics\n",
    "4. Quality scoring and segmentation\n",
    "5. Business insights and recommendations"
   ]
  },
  {
   "cell_type": "markdown",
   "id": "2837bef5",
   "metadata": {},
   "source": [
    "## Step 1: Configuration and Setup\n",
    "\n",
    "Define analysis parameters and install required packages."
   ]
  },
  {
   "cell_type": "code",
   "execution_count": 2,
   "id": "360a7f4d",
   "metadata": {},
   "outputs": [
    {
     "name": "stdout",
     "output_type": "stream",
     "text": [
      "Defaulting to user installation because normal site-packages is not writeable\n",
      "Requirement already satisfied: pandas in c:\\programdata\\anaconda3\\lib\\site-packages (2.2.2)\n",
      "Requirement already satisfied: matplotlib in c:\\programdata\\anaconda3\\lib\\site-packages (3.9.2)\n",
      "Requirement already satisfied: seaborn in c:\\programdata\\anaconda3\\lib\\site-packages (0.13.2)\n",
      "Requirement already satisfied: plotly in c:\\programdata\\anaconda3\\lib\\site-packages (5.24.1)\n",
      "Requirement already satisfied: scipy in c:\\programdata\\anaconda3\\lib\\site-packages (1.13.1)\n",
      "Requirement already satisfied: scikit-learn in c:\\programdata\\anaconda3\\lib\\site-packages (1.5.1)\n",
      "Requirement already satisfied: dlt[duckdb] in c:\\users\\visha\\appdata\\roaming\\python\\python312\\site-packages (1.17.1)\n",
      "Requirement already satisfied: click>=7.1 in c:\\programdata\\anaconda3\\lib\\site-packages (from dlt[duckdb]) (8.1.7)\n",
      "Requirement already satisfied: fsspec>=2022.4.0 in c:\\users\\visha\\appdata\\roaming\\python\\python312\\site-packages (from dlt[duckdb]) (2024.6.1)\n",
      "Requirement already satisfied: gitpython>=3.1.29 in c:\\programdata\\anaconda3\\lib\\site-packages (from dlt[duckdb]) (3.1.43)\n",
      "Requirement already satisfied: giturlparse>=0.10.0 in c:\\users\\visha\\appdata\\roaming\\python\\python312\\site-packages (from dlt[duckdb]) (0.12.0)\n",
      "Requirement already satisfied: hexbytes>=0.2.2 in c:\\users\\visha\\appdata\\roaming\\python\\python312\\site-packages (from dlt[duckdb]) (1.3.1)\n",
      "Requirement already satisfied: humanize>=4.4.0 in c:\\users\\visha\\appdata\\roaming\\python\\python312\\site-packages (from dlt[duckdb]) (4.14.0)\n",
      "Requirement already satisfied: jsonpath-ng>=1.5.3 in c:\\users\\visha\\appdata\\roaming\\python\\python312\\site-packages (from dlt[duckdb]) (1.7.0)\n",
      "Requirement already satisfied: orjson!=3.10.1,!=3.9.11,!=3.9.12,!=3.9.13,!=3.9.14,<4,>=3.6.7 in c:\\users\\visha\\appdata\\roaming\\python\\python312\\site-packages (from dlt[duckdb]) (3.11.0)\n",
      "Requirement already satisfied: packaging>=21.1 in c:\\users\\visha\\appdata\\roaming\\python\\python312\\site-packages (from dlt[duckdb]) (23.2)\n",
      "Requirement already satisfied: pathvalidate>=2.5.2 in c:\\users\\visha\\appdata\\roaming\\python\\python312\\site-packages (from dlt[duckdb]) (3.3.1)\n",
      "Requirement already satisfied: pendulum>=2.1.2 in c:\\users\\visha\\appdata\\roaming\\python\\python312\\site-packages (from dlt[duckdb]) (3.1.0)\n",
      "Requirement already satisfied: pluggy>=1.3.0 in c:\\users\\visha\\appdata\\roaming\\python\\python312\\site-packages (from dlt[duckdb]) (1.6.0)\n",
      "Requirement already satisfied: pytz>=2022.6 in c:\\programdata\\anaconda3\\lib\\site-packages (from dlt[duckdb]) (2024.1)\n",
      "Requirement already satisfied: pywin32>=306 in c:\\users\\visha\\appdata\\roaming\\python\\python312\\site-packages (from dlt[duckdb]) (306)\n",
      "Requirement already satisfied: pyyaml>=5.4.1 in c:\\programdata\\anaconda3\\lib\\site-packages (from dlt[duckdb]) (6.0.1)\n",
      "Requirement already satisfied: requests>=2.26.0 in c:\\programdata\\anaconda3\\lib\\site-packages (from dlt[duckdb]) (2.32.3)\n",
      "Requirement already satisfied: requirements-parser>=0.5.0 in c:\\users\\visha\\appdata\\roaming\\python\\python312\\site-packages (from dlt[duckdb]) (0.13.0)\n",
      "Requirement already satisfied: rich-argparse>=1.6.0 in c:\\users\\visha\\appdata\\roaming\\python\\python312\\site-packages (from dlt[duckdb]) (1.7.1)\n",
      "Requirement already satisfied: semver>=3.0.0 in c:\\programdata\\anaconda3\\lib\\site-packages (from dlt[duckdb]) (3.0.2)\n",
      "Requirement already satisfied: setuptools>=65.6.0 in c:\\users\\visha\\appdata\\roaming\\python\\python312\\site-packages (from dlt[duckdb]) (70.2.0)\n",
      "Requirement already satisfied: simplejson>=3.17.5 in c:\\users\\visha\\appdata\\roaming\\python\\python312\\site-packages (from dlt[duckdb]) (3.20.2)\n",
      "Requirement already satisfied: sqlglot>=25.4.0 in c:\\users\\visha\\appdata\\roaming\\python\\python312\\site-packages (from dlt[duckdb]) (27.27.0)\n",
      "Requirement already satisfied: tenacity>=8.0.2 in c:\\programdata\\anaconda3\\lib\\site-packages (from dlt[duckdb]) (8.2.3)\n",
      "Requirement already satisfied: tomlkit>=0.11.3 in c:\\users\\visha\\appdata\\roaming\\python\\python312\\site-packages (from dlt[duckdb]) (0.13.3)\n",
      "Requirement already satisfied: typing-extensions>=4.8.0 in c:\\users\\visha\\appdata\\roaming\\python\\python312\\site-packages (from dlt[duckdb]) (4.12.2)\n",
      "Requirement already satisfied: tzdata>=2022.1 in c:\\programdata\\anaconda3\\lib\\site-packages (from dlt[duckdb]) (2023.3)\n",
      "Requirement already satisfied: win-precise-time>=1.4.2 in c:\\users\\visha\\appdata\\roaming\\python\\python312\\site-packages (from dlt[duckdb]) (1.4.2)\n",
      "Requirement already satisfied: duckdb>=0.9 in c:\\users\\visha\\appdata\\roaming\\python\\python312\\site-packages (from dlt[duckdb]) (1.4.1)\n",
      "Requirement already satisfied: numpy>=1.26.0 in c:\\users\\visha\\appdata\\roaming\\python\\python312\\site-packages (from pandas) (1.26.4)\n",
      "Requirement already satisfied: python-dateutil>=2.8.2 in c:\\users\\visha\\appdata\\roaming\\python\\python312\\site-packages (from pandas) (2.8.2)\n",
      "Requirement already satisfied: contourpy>=1.0.1 in c:\\programdata\\anaconda3\\lib\\site-packages (from matplotlib) (1.2.0)\n",
      "Requirement already satisfied: cycler>=0.10 in c:\\programdata\\anaconda3\\lib\\site-packages (from matplotlib) (0.11.0)\n",
      "Requirement already satisfied: fonttools>=4.22.0 in c:\\programdata\\anaconda3\\lib\\site-packages (from matplotlib) (4.51.0)\n",
      "Requirement already satisfied: kiwisolver>=1.3.1 in c:\\programdata\\anaconda3\\lib\\site-packages (from matplotlib) (1.4.4)\n",
      "Requirement already satisfied: pillow>=8 in c:\\users\\visha\\appdata\\roaming\\python\\python312\\site-packages (from matplotlib) (11.0.0)\n",
      "Requirement already satisfied: pyparsing>=2.3.1 in c:\\programdata\\anaconda3\\lib\\site-packages (from matplotlib) (3.1.2)\n",
      "Requirement already satisfied: joblib>=1.2.0 in c:\\programdata\\anaconda3\\lib\\site-packages (from scikit-learn) (1.4.2)\n",
      "Requirement already satisfied: threadpoolctl>=3.1.0 in c:\\programdata\\anaconda3\\lib\\site-packages (from scikit-learn) (3.5.0)\n",
      "Requirement already satisfied: colorama in c:\\users\\visha\\appdata\\roaming\\python\\python312\\site-packages (from click>=7.1->dlt[duckdb]) (0.4.6)\n",
      "Requirement already satisfied: gitdb<5,>=4.0.1 in c:\\programdata\\anaconda3\\lib\\site-packages (from gitpython>=3.1.29->dlt[duckdb]) (4.0.7)\n",
      "Requirement already satisfied: smmap<5,>=3.0.1 in c:\\programdata\\anaconda3\\lib\\site-packages (from gitdb<5,>=4.0.1->gitpython>=3.1.29->dlt[duckdb]) (4.0.0)\n",
      "Requirement already satisfied: ply in c:\\programdata\\anaconda3\\lib\\site-packages (from jsonpath-ng>=1.5.3->dlt[duckdb]) (3.11)\n",
      "Requirement already satisfied: six>=1.5 in c:\\users\\visha\\appdata\\roaming\\python\\python312\\site-packages (from python-dateutil>=2.8.2->pandas) (1.16.0)\n",
      "Requirement already satisfied: charset-normalizer<4,>=2 in c:\\programdata\\anaconda3\\lib\\site-packages (from requests>=2.26.0->dlt[duckdb]) (3.3.2)\n",
      "Requirement already satisfied: idna<4,>=2.5 in c:\\programdata\\anaconda3\\lib\\site-packages (from requests>=2.26.0->dlt[duckdb]) (3.7)\n",
      "Requirement already satisfied: urllib3<3,>=1.21.1 in c:\\programdata\\anaconda3\\lib\\site-packages (from requests>=2.26.0->dlt[duckdb]) (2.2.3)\n",
      "Requirement already satisfied: certifi>=2017.4.17 in c:\\programdata\\anaconda3\\lib\\site-packages (from requests>=2.26.0->dlt[duckdb]) (2025.4.26)\n",
      "Requirement already satisfied: rich>=11.0.0 in c:\\programdata\\anaconda3\\lib\\site-packages (from rich-argparse>=1.6.0->dlt[duckdb]) (13.7.1)\n",
      "Requirement already satisfied: markdown-it-py>=2.2.0 in c:\\programdata\\anaconda3\\lib\\site-packages (from rich>=11.0.0->rich-argparse>=1.6.0->dlt[duckdb]) (2.2.0)\n",
      "Requirement already satisfied: pygments<3.0.0,>=2.13.0 in c:\\users\\visha\\appdata\\roaming\\python\\python312\\site-packages (from rich>=11.0.0->rich-argparse>=1.6.0->dlt[duckdb]) (2.17.2)\n",
      "Requirement already satisfied: mdurl~=0.1 in c:\\programdata\\anaconda3\\lib\\site-packages (from markdown-it-py>=2.2.0->rich>=11.0.0->rich-argparse>=1.6.0->dlt[duckdb]) (0.1.0)\n"
     ]
    },
    {
     "name": "stderr",
     "output_type": "stream",
     "text": [
      "WARNING: Ignoring invalid distribution ~illow (C:\\Users\\visha\\AppData\\Roaming\\Python\\Python312\\site-packages)\n",
      "WARNING: Ignoring invalid distribution ~illow (C:\\Users\\visha\\AppData\\Roaming\\Python\\Python312\\site-packages)\n",
      "WARNING: Ignoring invalid distribution ~illow (C:\\Users\\visha\\AppData\\Roaming\\Python\\Python312\\site-packages)\n",
      "\n",
      "[notice] A new release of pip is available: 25.1.1 -> 25.2\n",
      "[notice] To update, run: python.exe -m pip install --upgrade pip\n"
     ]
    }
   ],
   "source": [
    "# Install required packages\n",
    "!pip install dlt[duckdb] pandas matplotlib seaborn plotly scipy scikit-learn"
   ]
  },
  {
   "cell_type": "code",
   "execution_count": 3,
   "id": "4eb68e83",
   "metadata": {},
   "outputs": [
    {
     "name": "stdout",
     "output_type": "stream",
     "text": [
      "Configuration loaded successfully\n",
      "Input file: WorkingStudentDataTask-dlthub.csv\n",
      "Database: utm_attribution_pipeline.duckdb\n",
      "Quality score weights - Volume: 0.2, Engagement: 0.4, Retention: 0.4\n"
     ]
    }
   ],
   "source": [
    "# Analysis configuration parameters\n",
    "CONFIG = {\n",
    "    # Quality score weights\n",
    "    'volume_weight': 0.2,\n",
    "    'engagement_weight': 0.4,\n",
    "    'retention_weight': 0.4,\n",
    "    \n",
    "    # Quality tier thresholds\n",
    "    'high_quality_threshold': 70,\n",
    "    'medium_quality_threshold': 40,\n",
    "    \n",
    "    # Retention definitions\n",
    "    'retention_min_events': 2,\n",
    "    'retention_min_days': 7,\n",
    "    'retention_month_days': 30,\n",
    "    \n",
    "    # Minimum sample size\n",
    "    'min_users_for_analysis': 5,\n",
    "    \n",
    "    # File paths\n",
    "    'input_file': 'WorkingStudentDataTask-dlthub.csv',\n",
    "    'output_quality_file': 'utm_source_quality_analysis.csv',\n",
    "    'output_summary_file': 'utm_attribution_summary.csv',\n",
    "    'database_name': 'utm_attribution_pipeline.duckdb',\n",
    "    'dataset_name': 'user_attribution'\n",
    "}\n",
    "\n",
    "print(\"Configuration loaded successfully\")\n",
    "print(f\"Input file: {CONFIG['input_file']}\")\n",
    "print(f\"Database: {CONFIG['database_name']}\")\n",
    "print(f\"Quality score weights - Volume: {CONFIG['volume_weight']}, Engagement: {CONFIG['engagement_weight']}, Retention: {CONFIG['retention_weight']}\")"
   ]
  },
  {
   "cell_type": "markdown",
   "id": "3066eebc",
   "metadata": {},
   "source": [
    "## Step 2: Import Libraries"
   ]
  },
  {
   "cell_type": "code",
   "execution_count": 4,
   "id": "6cc22dd3",
   "metadata": {},
   "outputs": [
    {
     "name": "stdout",
     "output_type": "stream",
     "text": [
      "Libraries imported successfully\n"
     ]
    }
   ],
   "source": [
    "import dlt\n",
    "import pandas as pd\n",
    "import duckdb\n",
    "import matplotlib.pyplot as plt\n",
    "import seaborn as sns\n",
    "import plotly.express as px\n",
    "import plotly.graph_objects as go\n",
    "from datetime import datetime, timedelta\n",
    "from scipy import stats\n",
    "from sklearn.preprocessing import MinMaxScaler\n",
    "import warnings\n",
    "\n",
    "warnings.filterwarnings('ignore')\n",
    "sns.set_style(\"whitegrid\")\n",
    "plt.rcParams['figure.figsize'] = (12, 6)\n",
    "\n",
    "print(\"Libraries imported successfully\")"
   ]
  },
  {
   "cell_type": "markdown",
   "id": "94f727ab",
   "metadata": {},
   "source": [
    "## Step 3: Load and Validate Data"
   ]
  },
  {
   "cell_type": "code",
   "execution_count": 5,
   "id": "24c1ba05",
   "metadata": {},
   "outputs": [
    {
     "name": "stdout",
     "output_type": "stream",
     "text": [
      "Dataset loaded: 40345 rows, 12 columns\n",
      "\n",
      "Columns: ['Contact ID', 'Field ID', 'Field Value', 'Contact Create date', 'Contact Update date', 'Fields Title', 'Fields Type', 'Fields Update date', 'Events Category', 'Events Create date', 'Events Hash', 'Events ID']\n",
      "\n",
      "Data preview:\n"
     ]
    },
    {
     "data": {
      "text/html": [
       "<div>\n",
       "<style scoped>\n",
       "    .dataframe tbody tr th:only-of-type {\n",
       "        vertical-align: middle;\n",
       "    }\n",
       "\n",
       "    .dataframe tbody tr th {\n",
       "        vertical-align: top;\n",
       "    }\n",
       "\n",
       "    .dataframe thead th {\n",
       "        text-align: right;\n",
       "    }\n",
       "</style>\n",
       "<table border=\"1\" class=\"dataframe\">\n",
       "  <thead>\n",
       "    <tr style=\"text-align: right;\">\n",
       "      <th></th>\n",
       "      <th>Contact ID</th>\n",
       "      <th>Field ID</th>\n",
       "      <th>Field Value</th>\n",
       "      <th>Contact Create date</th>\n",
       "      <th>Contact Update date</th>\n",
       "      <th>Fields Title</th>\n",
       "      <th>Fields Type</th>\n",
       "      <th>Fields Update date</th>\n",
       "      <th>Events Category</th>\n",
       "      <th>Events Create date</th>\n",
       "      <th>Events Hash</th>\n",
       "      <th>Events ID</th>\n",
       "    </tr>\n",
       "  </thead>\n",
       "  <tbody>\n",
       "    <tr>\n",
       "      <th>0</th>\n",
       "      <td>3414</td>\n",
       "      <td>1</td>\n",
       "      <td>NaN</td>\n",
       "      <td>September 19, 2025, 2:59 AM</td>\n",
       "      <td>September 19, 2025, 2:59 AM</td>\n",
       "      <td>Agree to receive up to date dlthub communication</td>\n",
       "      <td>checkbox</td>\n",
       "      <td>August 16, 2024, 1:00 PM</td>\n",
       "      <td>Education</td>\n",
       "      <td>September 3, 2025, 1:34 PM</td>\n",
       "      <td>Q3A8R9T2</td>\n",
       "      <td>46.0</td>\n",
       "    </tr>\n",
       "    <tr>\n",
       "      <th>1</th>\n",
       "      <td>3425</td>\n",
       "      <td>1</td>\n",
       "      <td>NaN</td>\n",
       "      <td>September 22, 2025, 6:56 PM</td>\n",
       "      <td>September 22, 2025, 6:56 PM</td>\n",
       "      <td>Agree to receive up to date dlthub communication</td>\n",
       "      <td>checkbox</td>\n",
       "      <td>August 16, 2024, 1:00 PM</td>\n",
       "      <td>NaN</td>\n",
       "      <td>NaN</td>\n",
       "      <td>NaN</td>\n",
       "      <td>NaN</td>\n",
       "    </tr>\n",
       "    <tr>\n",
       "      <th>2</th>\n",
       "      <td>3384</td>\n",
       "      <td>1</td>\n",
       "      <td>NaN</td>\n",
       "      <td>September 10, 2025, 2:27 AM</td>\n",
       "      <td>September 10, 2025, 2:27 AM</td>\n",
       "      <td>Agree to receive up to date dlthub communication</td>\n",
       "      <td>checkbox</td>\n",
       "      <td>August 16, 2024, 1:00 PM</td>\n",
       "      <td>Education</td>\n",
       "      <td>September 3, 2025, 1:34 PM</td>\n",
       "      <td>Q3A8R9T2</td>\n",
       "      <td>46.0</td>\n",
       "    </tr>\n",
       "    <tr>\n",
       "      <th>3</th>\n",
       "      <td>3382</td>\n",
       "      <td>1</td>\n",
       "      <td>||Yes||</td>\n",
       "      <td>September 9, 2025, 11:52 AM</td>\n",
       "      <td>September 9, 2025, 11:52 AM</td>\n",
       "      <td>Agree to receive up to date dlthub communication</td>\n",
       "      <td>checkbox</td>\n",
       "      <td>August 16, 2024, 1:00 PM</td>\n",
       "      <td>Education</td>\n",
       "      <td>September 3, 2025, 1:34 PM</td>\n",
       "      <td>Q3A8R9T2</td>\n",
       "      <td>46.0</td>\n",
       "    </tr>\n",
       "    <tr>\n",
       "      <th>4</th>\n",
       "      <td>1909</td>\n",
       "      <td>5</td>\n",
       "      <td>dlt ELT Specialist</td>\n",
       "      <td>March 21, 2025, 12:17 PM</td>\n",
       "      <td>March 21, 2025, 12:17 PM</td>\n",
       "      <td>Certificate Name</td>\n",
       "      <td>text</td>\n",
       "      <td>NaN</td>\n",
       "      <td>Education</td>\n",
       "      <td>October 7, 2024, 3:17 PM</td>\n",
       "      <td>P6G1U8R2</td>\n",
       "      <td>22.0</td>\n",
       "    </tr>\n",
       "  </tbody>\n",
       "</table>\n",
       "</div>"
      ],
      "text/plain": [
       "   Contact ID  Field ID         Field Value          Contact Create date  \\\n",
       "0        3414         1                 NaN  September 19, 2025, 2:59 AM   \n",
       "1        3425         1                 NaN  September 22, 2025, 6:56 PM   \n",
       "2        3384         1                 NaN  September 10, 2025, 2:27 AM   \n",
       "3        3382         1             ||Yes||  September 9, 2025, 11:52 AM   \n",
       "4        1909         5  dlt ELT Specialist     March 21, 2025, 12:17 PM   \n",
       "\n",
       "           Contact Update date  \\\n",
       "0  September 19, 2025, 2:59 AM   \n",
       "1  September 22, 2025, 6:56 PM   \n",
       "2  September 10, 2025, 2:27 AM   \n",
       "3  September 9, 2025, 11:52 AM   \n",
       "4     March 21, 2025, 12:17 PM   \n",
       "\n",
       "                                       Fields Title Fields Type  \\\n",
       "0  Agree to receive up to date dlthub communication    checkbox   \n",
       "1  Agree to receive up to date dlthub communication    checkbox   \n",
       "2  Agree to receive up to date dlthub communication    checkbox   \n",
       "3  Agree to receive up to date dlthub communication    checkbox   \n",
       "4                                  Certificate Name        text   \n",
       "\n",
       "         Fields Update date Events Category          Events Create date  \\\n",
       "0  August 16, 2024, 1:00 PM       Education  September 3, 2025, 1:34 PM   \n",
       "1  August 16, 2024, 1:00 PM             NaN                         NaN   \n",
       "2  August 16, 2024, 1:00 PM       Education  September 3, 2025, 1:34 PM   \n",
       "3  August 16, 2024, 1:00 PM       Education  September 3, 2025, 1:34 PM   \n",
       "4                       NaN       Education    October 7, 2024, 3:17 PM   \n",
       "\n",
       "  Events Hash  Events ID  \n",
       "0    Q3A8R9T2       46.0  \n",
       "1         NaN        NaN  \n",
       "2    Q3A8R9T2       46.0  \n",
       "3    Q3A8R9T2       46.0  \n",
       "4    P6G1U8R2       22.0  "
      ]
     },
     "metadata": {},
     "output_type": "display_data"
    }
   ],
   "source": [
    "# Load the CSV file\n",
    "df = pd.read_csv(CONFIG['input_file'])\n",
    "\n",
    "print(f\"Dataset loaded: {df.shape[0]} rows, {df.shape[1]} columns\")\n",
    "print(f\"\\nColumns: {list(df.columns)}\")\n",
    "print(f\"\\nData preview:\")\n",
    "display(df.head())"
   ]
  },
  {
   "cell_type": "code",
   "execution_count": 6,
   "id": "0ca9d3a7",
   "metadata": {},
   "outputs": [
    {
     "name": "stdout",
     "output_type": "stream",
     "text": [
      "================================================================================\n",
      "DATA VALIDATION REPORT\n",
      "================================================================================\n",
      "\n",
      "Suspicious UTM sources:\n",
      "  - Very short (< 3 chars): 0\n",
      "  - Very long (> 50 chars): 0\n",
      "\n",
      "Contacts with multiple UTM sources: 0\n",
      "\n",
      "Missing values:\n",
      "  - Contact ID: 0\n",
      "  - Events ID: 72\n",
      "\n",
      "Duplicate records: 15983\n",
      "\n",
      "Event count distribution:\n",
      "  - Mean: 15.12\n",
      "  - Median: 7.00\n",
      "  - Max: 162\n",
      "  - Contacts with >100 events: 47\n",
      "\n",
      "================================================================================\n"
     ]
    }
   ],
   "source": [
    "# Data validation function\n",
    "def validate_data(df):\n",
    "    \"\"\"Validate data quality and identify potential issues\"\"\"\n",
    "    \n",
    "    print(\"=\" * 80)\n",
    "    print(\"DATA VALIDATION REPORT\")\n",
    "    print(\"=\" * 80)\n",
    "    \n",
    "    # Check for suspicious UTM sources\n",
    "    utm_data = df[df['Fields Title'].str.contains('utm_source', case=False, na=False)]\n",
    "    if len(utm_data) > 0:\n",
    "        short_utms = utm_data[utm_data['Field Value'].str.len() < 3].shape[0]\n",
    "        long_utms = utm_data[utm_data['Field Value'].str.len() > 50].shape[0]\n",
    "        print(f\"\\nSuspicious UTM sources:\")\n",
    "        print(f\"  - Very short (< 3 chars): {short_utms}\")\n",
    "        print(f\"  - Very long (> 50 chars): {long_utms}\")\n",
    "    \n",
    "    # Check for contacts with multiple UTM sources\n",
    "    contact_utm_mapping = utm_data.groupby('Contact ID')['Field Value'].nunique()\n",
    "    multi_utm = (contact_utm_mapping > 1).sum()\n",
    "    print(f\"\\nContacts with multiple UTM sources: {multi_utm}\")\n",
    "    \n",
    "    # Missing values\n",
    "    print(f\"\\nMissing values:\")\n",
    "    print(f\"  - Contact ID: {df['Contact ID'].isna().sum()}\")\n",
    "    print(f\"  - Events ID: {df['Events ID'].isna().sum()}\")\n",
    "    \n",
    "    # Duplicate records\n",
    "    duplicates = df.duplicated().sum()\n",
    "    print(f\"\\nDuplicate records: {duplicates}\")\n",
    "    \n",
    "    # Event count distribution\n",
    "    events_per_contact = df.groupby('Contact ID')['Events ID'].count()\n",
    "    print(f\"\\nEvent count distribution:\")\n",
    "    print(f\"  - Mean: {events_per_contact.mean():.2f}\")\n",
    "    print(f\"  - Median: {events_per_contact.median():.2f}\")\n",
    "    print(f\"  - Max: {events_per_contact.max()}\")\n",
    "    print(f\"  - Contacts with >100 events: {(events_per_contact > 100).sum()}\")\n",
    "    \n",
    "    print(\"\\n\" + \"=\" * 80)\n",
    "    return df\n",
    "\n",
    "# Run validation\n",
    "df = validate_data(df)"
   ]
  },
  {
   "cell_type": "markdown",
   "id": "39e3063d",
   "metadata": {},
   "source": [
    "## Step 4: Data Cleaning and Preparation"
   ]
  },
  {
   "cell_type": "code",
   "execution_count": 7,
   "id": "83fe1cdc",
   "metadata": {},
   "outputs": [
    {
     "name": "stdout",
     "output_type": "stream",
     "text": [
      "Converted Contact Create date to datetime (0 invalid dates set to NaT)\n",
      "Converted Contact Update date to datetime (0 invalid dates set to NaT)\n",
      "Converted Fields Update date to datetime (16714 invalid dates set to NaT)\n",
      "Converted Events Create date to datetime (736 invalid dates set to NaT)\n",
      "\n",
      "Extracting UTM source data...\n",
      "Extracted 663 contacts with UTM source\n",
      "Unique UTM sources: 5\n",
      "\n",
      "UTM source distribution:\n",
      "utm_source\n",
      "alexey_linkedin    403\n",
      "dtc_newsletter     245\n",
      "ActiveCampaign      12\n",
      "adrian_test          2\n",
      "chatgpt.com          1\n",
      "Name: count, dtype: int64\n",
      "\n",
      "Cleaned dataset: (40345, 15)\n",
      "Data preparation complete\n"
     ]
    }
   ],
   "source": [
    "df_clean = df.copy()\n",
    "\n",
    "# Convert timestamp columns to datetime (handle out-of-bounds dates)\n",
    "timestamp_cols = [col for col in df_clean.columns if 'date' in col.lower() or 'time' in col.lower()]\n",
    "for col in timestamp_cols:\n",
    "    try:\n",
    "        df_clean[col] = pd.to_datetime(df_clean[col], errors='coerce')\n",
    "        invalid_dates = df_clean[col].isna().sum()\n",
    "        print(f\"Converted {col} to datetime ({invalid_dates} invalid dates set to NaT)\")\n",
    "    except Exception as e:\n",
    "        print(f\"Could not convert {col}: {e}\")\n",
    "\n",
    "# Extract UTM source from Field Value where Fields Title contains 'utm_source'\n",
    "print(\"\\nExtracting UTM source data...\")\n",
    "utm_mapping = df_clean[df_clean['Fields Title'].str.contains('utm_source', case=False, na=False)][['Contact ID', 'Field Value']].copy()\n",
    "utm_mapping.columns = ['Contact ID', 'utm_source']\n",
    "utm_mapping = utm_mapping.dropna(subset=['utm_source'])\n",
    "utm_mapping = utm_mapping.drop_duplicates(subset=['Contact ID'])\n",
    "\n",
    "print(f\"Extracted {len(utm_mapping)} contacts with UTM source\")\n",
    "print(f\"Unique UTM sources: {utm_mapping['utm_source'].nunique()}\")\n",
    "print(f\"\\nUTM source distribution:\")\n",
    "print(utm_mapping['utm_source'].value_counts())\n",
    "\n",
    "# Merge UTM source back to main dataframe\n",
    "df_clean = df_clean.merge(utm_mapping, on='Contact ID', how='left')\n",
    "df_clean['utm_source'] = df_clean['utm_source'].fillna('unknown')\n",
    "\n",
    "# Standardize column names\n",
    "if 'Events Category' in df_clean.columns:\n",
    "    df_clean['event_category'] = df_clean['Events Category']\n",
    "if 'Events ID' in df_clean.columns:\n",
    "    df_clean['event_id'] = df_clean['Events ID']\n",
    "\n",
    "print(f\"\\nCleaned dataset: {df_clean.shape}\")\n",
    "print(\"Data preparation complete\")"
   ]
  },
  {
   "cell_type": "markdown",
   "id": "8f204309",
   "metadata": {},
   "source": [
    "## Step 5: Defining dlt Resources and Pipeline\n",
    "A star schema is implicitly created in DuckDB by the dlt pipeline, with contacts as the dimension and events as the fact table"
   ]
  },
  {
   "cell_type": "code",
   "execution_count": 8,
   "id": "d32e4054",
   "metadata": {},
   "outputs": [
    {
     "name": "stdout",
     "output_type": "stream",
     "text": [
      "dlt resources defined successfully\n"
     ]
    }
   ],
   "source": [
    "@dlt.resource(name=\"contacts\", write_disposition=\"replace\")\n",
    "def load_contacts():\n",
    "    \"\"\"Extract unique contacts with UTM source attribution\"\"\"\n",
    "    contacts_df = df_clean[['Contact ID', 'utm_source']].drop_duplicates(subset=['Contact ID']).copy()\n",
    "    contacts_df.columns = ['contact_id', 'utm_source']\n",
    "    \n",
    "    if 'Contact Create date' in df_clean.columns:\n",
    "        first_seen = df_clean.groupby('Contact ID')['Contact Create date'].min().reset_index()\n",
    "        first_seen.columns = ['contact_id', 'first_seen_at']\n",
    "        contacts_df = contacts_df.merge(first_seen, on='contact_id', how='left')\n",
    "    \n",
    "    print(f\"Extracted {len(contacts_df)} unique contacts\")\n",
    "    yield contacts_df.to_dict('records')\n",
    "\n",
    "\n",
    "@dlt.resource(name=\"events\", write_disposition=\"replace\")\n",
    "def load_events():\n",
    "    \"\"\"Extract all user engagement events\"\"\"\n",
    "    events_df = df_clean[df_clean['Events ID'].notna()].copy()\n",
    "    \n",
    "    events_df['contact_id'] = events_df['Contact ID']\n",
    "    if 'event_id' not in events_df.columns:\n",
    "        events_df['event_id'] = events_df['Events ID']\n",
    "    if 'event_category' not in events_df.columns and 'Events Category' in events_df.columns:\n",
    "        events_df['event_category'] = events_df['Events Category']\n",
    "    if 'Events Create date' in events_df.columns:\n",
    "        events_df['event_date'] = events_df['Events Create date']\n",
    "    \n",
    "    print(f\"Extracted {len(events_df)} events\")\n",
    "    yield events_df.to_dict('records')\n",
    "\n",
    "\n",
    "@dlt.resource(name=\"utm_attribution\", write_disposition=\"replace\")\n",
    "def load_utm_attribution():\n",
    "    \"\"\"Create attribution summary by UTM source\"\"\"\n",
    "    attribution_df = df_clean.groupby('utm_source').agg({\n",
    "        'Contact ID': 'nunique',\n",
    "        'Events ID': lambda x: x.notna().sum()\n",
    "    }).reset_index()\n",
    "    \n",
    "    attribution_df.columns = ['utm_source', 'unique_contacts', 'total_events']\n",
    "    \n",
    "    print(f\"Created attribution summary for {len(attribution_df)} sources\")\n",
    "    yield attribution_df.to_dict('records')\n",
    "\n",
    "print(\"dlt resources defined successfully\")"
   ]
  },
  {
   "cell_type": "markdown",
   "id": "9222873a",
   "metadata": {},
   "source": [
    "## Step 6: Execute Pipeline and Load to DuckDB"
   ]
  },
  {
   "cell_type": "code",
   "execution_count": 9,
   "id": "3a4c9140",
   "metadata": {},
   "outputs": [
    {
     "name": "stdout",
     "output_type": "stream",
     "text": [
      "Extracted 2664 unique contacts\n",
      "Extracted 40273 events\n",
      "Created attribution summary for 6 sources\n",
      "\n",
      "Pipeline execution completed\n",
      "Database location: utm_attribution_pipeline.duckdb\n",
      "Dataset name: user_attribution\n"
     ]
    }
   ],
   "source": [
    "# Create and run dlt pipeline\n",
    "pipeline = dlt.pipeline(\n",
    "    pipeline_name=\"utm_attribution_pipeline\",\n",
    "    destination=\"duckdb\",\n",
    "    dataset_name=CONFIG['dataset_name']\n",
    ")\n",
    "\n",
    "load_info = pipeline.run([\n",
    "    load_contacts(),\n",
    "    load_events(),\n",
    "    load_utm_attribution()\n",
    "])\n",
    "\n",
    "print(\"\\nPipeline execution completed\")\n",
    "print(f\"Database location: {CONFIG['database_name']}\")\n",
    "print(f\"Dataset name: {CONFIG['dataset_name']}\")"
   ]
  },
  {
   "cell_type": "markdown",
   "id": "82e199f8",
   "metadata": {},
   "source": [
    "## Step 7: Connect to DuckDB and Optimize Database"
   ]
  },
  {
   "cell_type": "code",
   "execution_count": 10,
   "id": "6e13499a",
   "metadata": {},
   "outputs": [
    {
     "name": "stdout",
     "output_type": "stream",
     "text": [
      "Creating database indexes...\n",
      "Database indexes created successfully\n",
      "\n",
      "Tables in user_attribution schema: ['_dlt_loads', '_dlt_pipeline_state', '_dlt_version', 'contacts', 'events', 'utm_attribution']\n"
     ]
    }
   ],
   "source": [
    "# Connect to DuckDB\n",
    "conn = duckdb.connect(database=CONFIG['database_name'], read_only=False)\n",
    "\n",
    "# Create indexes for better query performance\n",
    "print(\"Creating database indexes...\")\n",
    "try:\n",
    "    conn.execute(\"CREATE INDEX IF NOT EXISTS idx_contacts_utm ON user_attribution.contacts(utm_source)\")\n",
    "    conn.execute(\"CREATE INDEX IF NOT EXISTS idx_events_contact ON user_attribution.events(contact_id)\")\n",
    "    conn.execute(\"CREATE INDEX IF NOT EXISTS idx_events_category ON user_attribution.events(event_category)\")\n",
    "    print(\"Database indexes created successfully\")\n",
    "except Exception as e:\n",
    "    print(f\"Error creating indexes: {e}\")\n",
    "\n",
    "# Verify tables\n",
    "tables = conn.execute(\"SHOW TABLES FROM user_attribution\").fetchdf()\n",
    "print(f\"\\nTables in user_attribution schema: {list(tables['name'])}\")"
   ]
  },
  {
   "cell_type": "markdown",
   "id": "b340e895",
   "metadata": {},
   "source": [
    "## Step 8: Calculate Acquisition Metrics"
   ]
  },
  {
   "cell_type": "code",
   "execution_count": 11,
   "id": "c1b6ebff",
   "metadata": {},
   "outputs": [
    {
     "name": "stdout",
     "output_type": "stream",
     "text": [
      "ACQUISITION VOLUME BY SOURCE\n",
      "        utm_source  total_users  pct_of_total\n",
      "0          unknown         2001         75.11\n",
      "1  alexey_linkedin          403         15.13\n",
      "2   dtc_newsletter          245          9.20\n",
      "3   ActiveCampaign           12          0.45\n",
      "4      adrian_test            2          0.08\n",
      "5      chatgpt.com            1          0.04\n",
      "\n",
      "Total users: 2664\n"
     ]
    }
   ],
   "source": [
    "acquisition_query = \"\"\"\n",
    "SELECT \n",
    "    utm_source,\n",
    "    COUNT(DISTINCT contact_id) as total_users,\n",
    "    ROUND(COUNT(DISTINCT contact_id) * 100.0 / SUM(COUNT(DISTINCT contact_id)) OVER (), 2) as pct_of_total\n",
    "FROM user_attribution.contacts\n",
    "GROUP BY utm_source\n",
    "ORDER BY total_users DESC\n",
    "\"\"\"\n",
    "\n",
    "acquisition_metrics = conn.execute(acquisition_query).fetchdf()\n",
    "print(\"ACQUISITION VOLUME BY SOURCE\")\n",
    "print(acquisition_metrics)\n",
    "print(f\"\\nTotal users: {acquisition_metrics['total_users'].sum()}\")"
   ]
  },
  {
   "cell_type": "markdown",
   "id": "adebb843",
   "metadata": {},
   "source": [
    "## Step 9: Calculating Engagement Metrics"
   ]
  },
  {
   "cell_type": "code",
   "execution_count": 12,
   "id": "e1c03ee4",
   "metadata": {},
   "outputs": [
    {
     "name": "stdout",
     "output_type": "stream",
     "text": [
      "ENGAGEMENT METRICS BY SOURCE\n",
      "        utm_source  total_users  total_events  avg_events_per_user  \\\n",
      "0   ActiveCampaign           12           651            54.250000   \n",
      "1          unknown         2001         33923            16.950001   \n",
      "2  alexey_linkedin          403          4470            11.090000   \n",
      "3   dtc_newsletter          245          1229             5.020000   \n",
      "4      chatgpt.com            1             0             0.000000   \n",
      "5      adrian_test            2             0             0.000000   \n",
      "\n",
      "   engaged_users  engagement_rate  \n",
      "0             12           100.00  \n",
      "1           1951            97.50  \n",
      "2            401            99.50  \n",
      "3            243            99.18  \n",
      "4              0             0.00  \n",
      "5              0             0.00  \n"
     ]
    }
   ],
   "source": [
    "engagement_query = \"\"\"\n",
    "SELECT \n",
    "    c.utm_source,\n",
    "    COUNT(DISTINCT c.contact_id) as total_users,\n",
    "    COUNT(e.contact_id) as total_events,\n",
    "    ROUND(CAST(COUNT(e.contact_id) AS FLOAT) / NULLIF(COUNT(DISTINCT c.contact_id), 0), 2) as avg_events_per_user,\n",
    "    COUNT(DISTINCT CASE WHEN e.contact_id IS NOT NULL THEN c.contact_id END) as engaged_users,\n",
    "    ROUND(CAST(COUNT(DISTINCT CASE WHEN e.contact_id IS NOT NULL THEN c.contact_id END) AS FLOAT) * 100.0 / NULLIF(COUNT(DISTINCT c.contact_id), 0), 2) as engagement_rate\n",
    "FROM user_attribution.contacts c\n",
    "LEFT JOIN user_attribution.events e ON c.contact_id = e.contact_id\n",
    "GROUP BY c.utm_source\n",
    "ORDER BY avg_events_per_user DESC\n",
    "\"\"\"\n",
    "\n",
    "engagement_metrics = conn.execute(engagement_query).fetchdf()\n",
    "print(\"ENGAGEMENT METRICS BY SOURCE\")\n",
    "print(engagement_metrics)"
   ]
  },
  {
   "cell_type": "markdown",
   "id": "abe6d48d",
   "metadata": {},
   "source": [
    "## Step 10: Calculating Retention Metrics"
   ]
  },
  {
   "cell_type": "code",
   "execution_count": 13,
   "id": "64cc4424",
   "metadata": {},
   "outputs": [
    {
     "name": "stdout",
     "output_type": "stream",
     "text": [
      "RETENTION METRICS BY SOURCE (2+ events)\n",
      "        utm_source  total_users  retained_users  retention_rate  \\\n",
      "0   ActiveCampaign           12              12      100.000000   \n",
      "1  alexey_linkedin          403             401       99.500000   \n",
      "2   dtc_newsletter          245             243       99.180000   \n",
      "3          unknown         2001            1833       91.599998   \n",
      "4      adrian_test            2               0        0.000000   \n",
      "5      chatgpt.com            1               0        0.000000   \n",
      "\n",
      "   avg_events_per_user  max_events_per_user  \n",
      "0                54.25                  125  \n",
      "1                11.09                  162  \n",
      "2                 5.02                  155  \n",
      "3                16.95                  148  \n",
      "4                 0.00                    0  \n",
      "5                 0.00                    0  \n"
     ]
    }
   ],
   "source": [
    "# Event-based retention (users with 2+ events)\n",
    "retention_query = f\"\"\"\n",
    "WITH user_event_counts AS (\n",
    "    SELECT \n",
    "        c.utm_source,\n",
    "        c.contact_id,\n",
    "        COUNT(e.contact_id) as event_count\n",
    "    FROM user_attribution.contacts c\n",
    "    LEFT JOIN user_attribution.events e ON c.contact_id = e.contact_id\n",
    "    GROUP BY c.utm_source, c.contact_id\n",
    ")\n",
    "SELECT \n",
    "    utm_source,\n",
    "    COUNT(DISTINCT contact_id) as total_users,\n",
    "    COUNT(DISTINCT CASE WHEN event_count >= {CONFIG['retention_min_events']} THEN contact_id END) as retained_users,\n",
    "    ROUND(CAST(COUNT(DISTINCT CASE WHEN event_count >= {CONFIG['retention_min_events']} THEN contact_id END) AS FLOAT) * 100.0 / NULLIF(COUNT(DISTINCT contact_id), 0), 2) as retention_rate,\n",
    "    ROUND(AVG(event_count), 2) as avg_events_per_user,\n",
    "    MAX(event_count) as max_events_per_user\n",
    "FROM user_event_counts\n",
    "GROUP BY utm_source\n",
    "ORDER BY retention_rate DESC\n",
    "\"\"\"\n",
    "\n",
    "retention_metrics = conn.execute(retention_query).fetchdf()\n",
    "print(f\"RETENTION METRICS BY SOURCE ({CONFIG['retention_min_events']}+ events)\")\n",
    "print(retention_metrics)"
   ]
  },
  {
   "cell_type": "code",
   "execution_count": 14,
   "id": "202bd19d",
   "metadata": {},
   "outputs": [
    {
     "name": "stdout",
     "output_type": "stream",
     "text": [
      "TIME-BASED RETENTION METRICS BY SOURCE\n",
      "        utm_source  total_users  avg_days_active  week_retention_rate  \\\n",
      "0          unknown         1951           174.01                92.41   \n",
      "1   ActiveCampaign           12           226.07                91.67   \n",
      "2  alexey_linkedin          401            85.20                41.90   \n",
      "3   dtc_newsletter          243            74.77                36.63   \n",
      "\n",
      "   month_retention_rate  max_days_active  \n",
      "0                 92.36       383.103472  \n",
      "1                 91.67       383.103472  \n",
      "2                 41.90       383.103472  \n",
      "3                 36.63       383.103472  \n",
      "\n",
      "Week retention = users active for 7+ days\n",
      "Month retention = users active for 30+ days\n"
     ]
    }
   ],
   "source": [
    "# Time-based retention analysis\n",
    "time_retention_query = f\"\"\"\n",
    "WITH valid_events AS (\n",
    "    SELECT *\n",
    "    FROM user_attribution.events\n",
    "    WHERE TRY_CAST(event_date AS TIMESTAMP) IS NOT NULL\n",
    "),\n",
    "first_last_activity AS (\n",
    "    SELECT \n",
    "        c.utm_source,\n",
    "        c.contact_id,\n",
    "        MIN(TRY_CAST(e.event_date AS TIMESTAMP)) AS first_event,\n",
    "        MAX(TRY_CAST(e.event_date AS TIMESTAMP)) AS last_event,\n",
    "        EXTRACT(EPOCH FROM MAX(TRY_CAST(e.event_date AS TIMESTAMP)) - MIN(TRY_CAST(e.event_date AS TIMESTAMP))) / 86400.0 AS days_active\n",
    "    FROM user_attribution.contacts c\n",
    "    JOIN valid_events e \n",
    "        ON c.contact_id = e.contact_id\n",
    "    GROUP BY c.utm_source, c.contact_id\n",
    ")\n",
    "SELECT \n",
    "    utm_source,\n",
    "    COUNT(*) AS total_users,\n",
    "    ROUND(AVG(days_active), 2) AS avg_days_active,\n",
    "    ROUND(COUNT(CASE WHEN days_active >= 7 THEN 1 END) * 100.0 / NULLIF(COUNT(*), 0), 2) AS week_retention_rate,\n",
    "    ROUND(COUNT(CASE WHEN days_active >= 30 THEN 1 END) * 100.0 / NULLIF(COUNT(*), 0), 2) AS month_retention_rate,\n",
    "    MAX(days_active) AS max_days_active\n",
    "FROM first_last_activity\n",
    "GROUP BY utm_source\n",
    "ORDER BY week_retention_rate DESC;\n",
    "\"\"\"\n",
    "\n",
    "try:\n",
    "    time_retention_metrics = conn.execute(time_retention_query).fetchdf()\n",
    "    print(\"TIME-BASED RETENTION METRICS BY SOURCE\")\n",
    "    print(time_retention_metrics)\n",
    "    print(f\"\\nWeek retention = users active for {CONFIG['retention_min_days']}+ days\")\n",
    "    print(f\"Month retention = users active for {CONFIG['retention_month_days']}+ days\")\n",
    "except Exception as e:\n",
    "    print(f\"Error calculating time-based retention: {e}\")\n",
    "    time_retention_metrics = None"
   ]
  },
  {
   "cell_type": "markdown",
   "id": "dc2560bf",
   "metadata": {},
   "source": [
    "## Step 11: Acquisition Visualization,Cohort Analysis and Statistical Testing"
   ]
  },
  {
   "cell_type": "code",
   "execution_count": 15,
   "id": "46cf2fdf",
   "metadata": {},
   "outputs": [
    {
     "data": {
      "application/vnd.plotly.v1+json": {
       "config": {
        "plotlyServerURL": "https://plot.ly"
       },
       "data": [
        {
         "alignmentgroup": "True",
         "hovertemplate": "Number of Users=%{marker.color}<br>UTM Source=%{y}<extra></extra>",
         "legendgroup": "",
         "marker": {
          "color": [
           1,
           2,
           12,
           245,
           403,
           2001
          ],
          "coloraxis": "coloraxis",
          "pattern": {
           "shape": ""
          }
         },
         "name": "",
         "offsetgroup": "",
         "orientation": "h",
         "showlegend": false,
         "text": [
          1,
          2,
          12,
          245,
          403,
          2001
         ],
         "textposition": "outside",
         "type": "bar",
         "x": [
          1,
          2,
          12,
          245,
          403,
          2001
         ],
         "xaxis": "x",
         "y": [
          "chatgpt.com",
          "adrian_test",
          "ActiveCampaign",
          "dtc_newsletter",
          "alexey_linkedin",
          "unknown"
         ],
         "yaxis": "y"
        }
       ],
       "layout": {
        "barmode": "relative",
        "coloraxis": {
         "colorbar": {
          "title": {
           "text": "Number of Users"
          }
         },
         "colorscale": [
          [
           0,
           "rgb(247,251,255)"
          ],
          [
           0.125,
           "rgb(222,235,247)"
          ],
          [
           0.25,
           "rgb(198,219,239)"
          ],
          [
           0.375,
           "rgb(158,202,225)"
          ],
          [
           0.5,
           "rgb(107,174,214)"
          ],
          [
           0.625,
           "rgb(66,146,198)"
          ],
          [
           0.75,
           "rgb(33,113,181)"
          ],
          [
           0.875,
           "rgb(8,81,156)"
          ],
          [
           1,
           "rgb(8,48,107)"
          ]
         ]
        },
        "height": 400,
        "legend": {
         "tracegroupgap": 0
        },
        "showlegend": false,
        "template": {
         "data": {
          "candlestick": [
           {
            "decreasing": {
             "line": {
              "color": "#000033"
             }
            },
            "increasing": {
             "line": {
              "color": "#000032"
             }
            },
            "type": "candlestick"
           }
          ],
          "contour": [
           {
            "colorscale": [
             [
              0,
              "#000011"
             ],
             [
              0.1111111111111111,
              "#000012"
             ],
             [
              0.2222222222222222,
              "#000013"
             ],
             [
              0.3333333333333333,
              "#000014"
             ],
             [
              0.4444444444444444,
              "#000015"
             ],
             [
              0.5555555555555556,
              "#000016"
             ],
             [
              0.6666666666666666,
              "#000017"
             ],
             [
              0.7777777777777778,
              "#000018"
             ],
             [
              0.8888888888888888,
              "#000019"
             ],
             [
              1,
              "#000020"
             ]
            ],
            "type": "contour"
           }
          ],
          "contourcarpet": [
           {
            "colorscale": [
             [
              0,
              "#000011"
             ],
             [
              0.1111111111111111,
              "#000012"
             ],
             [
              0.2222222222222222,
              "#000013"
             ],
             [
              0.3333333333333333,
              "#000014"
             ],
             [
              0.4444444444444444,
              "#000015"
             ],
             [
              0.5555555555555556,
              "#000016"
             ],
             [
              0.6666666666666666,
              "#000017"
             ],
             [
              0.7777777777777778,
              "#000018"
             ],
             [
              0.8888888888888888,
              "#000019"
             ],
             [
              1,
              "#000020"
             ]
            ],
            "type": "contourcarpet"
           }
          ],
          "heatmap": [
           {
            "colorscale": [
             [
              0,
              "#000011"
             ],
             [
              0.1111111111111111,
              "#000012"
             ],
             [
              0.2222222222222222,
              "#000013"
             ],
             [
              0.3333333333333333,
              "#000014"
             ],
             [
              0.4444444444444444,
              "#000015"
             ],
             [
              0.5555555555555556,
              "#000016"
             ],
             [
              0.6666666666666666,
              "#000017"
             ],
             [
              0.7777777777777778,
              "#000018"
             ],
             [
              0.8888888888888888,
              "#000019"
             ],
             [
              1,
              "#000020"
             ]
            ],
            "type": "heatmap"
           }
          ],
          "histogram2d": [
           {
            "colorscale": [
             [
              0,
              "#000011"
             ],
             [
              0.1111111111111111,
              "#000012"
             ],
             [
              0.2222222222222222,
              "#000013"
             ],
             [
              0.3333333333333333,
              "#000014"
             ],
             [
              0.4444444444444444,
              "#000015"
             ],
             [
              0.5555555555555556,
              "#000016"
             ],
             [
              0.6666666666666666,
              "#000017"
             ],
             [
              0.7777777777777778,
              "#000018"
             ],
             [
              0.8888888888888888,
              "#000019"
             ],
             [
              1,
              "#000020"
             ]
            ],
            "type": "histogram2d"
           }
          ],
          "icicle": [
           {
            "textfont": {
             "color": "white"
            },
            "type": "icicle"
           }
          ],
          "sankey": [
           {
            "textfont": {
             "color": "#000036"
            },
            "type": "sankey"
           }
          ],
          "scatter": [
           {
            "marker": {
             "line": {
              "width": 0
             }
            },
            "type": "scatter"
           }
          ],
          "table": [
           {
            "cells": {
             "fill": {
              "color": "#000038"
             },
             "font": {
              "color": "#000037"
             },
             "line": {
              "color": "#000039"
             }
            },
            "header": {
             "fill": {
              "color": "#000040"
             },
             "font": {
              "color": "#000036"
             },
             "line": {
              "color": "#000039"
             }
            },
            "type": "table"
           }
          ],
          "waterfall": [
           {
            "connector": {
             "line": {
              "color": "#000036",
              "width": 2
             }
            },
            "decreasing": {
             "marker": {
              "color": "#000033"
             }
            },
            "increasing": {
             "marker": {
              "color": "#000032"
             }
            },
            "totals": {
             "marker": {
              "color": "#000034"
             }
            },
            "type": "waterfall"
           }
          ]
         },
         "layout": {
          "coloraxis": {
           "colorscale": [
            [
             0,
             "#000011"
            ],
            [
             0.1111111111111111,
             "#000012"
            ],
            [
             0.2222222222222222,
             "#000013"
            ],
            [
             0.3333333333333333,
             "#000014"
            ],
            [
             0.4444444444444444,
             "#000015"
            ],
            [
             0.5555555555555556,
             "#000016"
            ],
            [
             0.6666666666666666,
             "#000017"
            ],
            [
             0.7777777777777778,
             "#000018"
            ],
            [
             0.8888888888888888,
             "#000019"
            ],
            [
             1,
             "#000020"
            ]
           ]
          },
          "colorscale": {
           "diverging": [
            [
             0,
             "#000021"
            ],
            [
             0.1,
             "#000022"
            ],
            [
             0.2,
             "#000023"
            ],
            [
             0.3,
             "#000024"
            ],
            [
             0.4,
             "#000025"
            ],
            [
             0.5,
             "#000026"
            ],
            [
             0.6,
             "#000027"
            ],
            [
             0.7,
             "#000028"
            ],
            [
             0.8,
             "#000029"
            ],
            [
             0.9,
             "#000030"
            ],
            [
             1,
             "#000031"
            ]
           ],
           "sequential": [
            [
             0,
             "#000011"
            ],
            [
             0.1111111111111111,
             "#000012"
            ],
            [
             0.2222222222222222,
             "#000013"
            ],
            [
             0.3333333333333333,
             "#000014"
            ],
            [
             0.4444444444444444,
             "#000015"
            ],
            [
             0.5555555555555556,
             "#000016"
            ],
            [
             0.6666666666666666,
             "#000017"
            ],
            [
             0.7777777777777778,
             "#000018"
            ],
            [
             0.8888888888888888,
             "#000019"
            ],
            [
             1,
             "#000020"
            ]
           ],
           "sequentialminus": [
            [
             0,
             "#000011"
            ],
            [
             0.1111111111111111,
             "#000012"
            ],
            [
             0.2222222222222222,
             "#000013"
            ],
            [
             0.3333333333333333,
             "#000014"
            ],
            [
             0.4444444444444444,
             "#000015"
            ],
            [
             0.5555555555555556,
             "#000016"
            ],
            [
             0.6666666666666666,
             "#000017"
            ],
            [
             0.7777777777777778,
             "#000018"
            ],
            [
             0.8888888888888888,
             "#000019"
            ],
            [
             1,
             "#000020"
            ]
           ]
          },
          "colorway": [
           "#000001",
           "#000002",
           "#000003",
           "#000004",
           "#000005",
           "#000006",
           "#000007",
           "#000008",
           "#000009",
           "#000010"
          ]
         }
        },
        "title": {
         "text": "User Acquisition Volume by UTM Source"
        },
        "xaxis": {
         "anchor": "y",
         "domain": [
          0,
          1
         ],
         "title": {
          "text": "Number of Users"
         }
        },
        "yaxis": {
         "anchor": "x",
         "domain": [
          0,
          1
         ],
         "title": {
          "text": "UTM Source"
         }
        }
       }
      }
     },
     "metadata": {},
     "output_type": "display_data"
    },
    {
     "data": {
      "application/vnd.plotly.v1+json": {
       "config": {
        "plotlyServerURL": "https://plot.ly"
       },
       "data": [
        {
         "customdata": [
          [
           75.11
          ],
          [
           15.13
          ],
          [
           9.2
          ],
          [
           0.45
          ],
          [
           0.08
          ],
          [
           0.04
          ]
         ],
         "domain": {
          "x": [
           0,
           1
          ],
          "y": [
           0,
           1
          ]
         },
         "hovertemplate": "<b>%{label}</b><br>Users: %{value}<br>Market share: %{percent}<extra></extra>",
         "labels": [
          "unknown",
          "alexey_linkedin",
          "dtc_newsletter",
          "ActiveCampaign",
          "adrian_test",
          "chatgpt.com"
         ],
         "legendgroup": "",
         "name": "",
         "showlegend": true,
         "textinfo": "percent+label",
         "textposition": "inside",
         "type": "pie",
         "values": [
          2001,
          403,
          245,
          12,
          2,
          1
         ]
        }
       ],
       "layout": {
        "height": 600,
        "legend": {
         "orientation": "h",
         "tracegroupgap": 0,
         "x": 0.5,
         "xanchor": "center",
         "y": -0.2,
         "yanchor": "bottom"
        },
        "margin": {
         "b": 120,
         "l": 40,
         "r": 40,
         "t": 80
        },
        "piecolorway": [
         "rgb(127, 60, 141)",
         "rgb(17, 165, 121)",
         "rgb(57, 105, 172)",
         "rgb(242, 183, 1)",
         "rgb(231, 63, 116)",
         "rgb(128, 186, 90)",
         "rgb(230, 131, 16)",
         "rgb(0, 134, 149)",
         "rgb(207, 28, 144)",
         "rgb(249, 123, 114)",
         "rgb(165, 170, 153)"
        ],
        "template": {
         "data": {
          "candlestick": [
           {
            "decreasing": {
             "line": {
              "color": "#000033"
             }
            },
            "increasing": {
             "line": {
              "color": "#000032"
             }
            },
            "type": "candlestick"
           }
          ],
          "contour": [
           {
            "colorscale": [
             [
              0,
              "#000011"
             ],
             [
              0.1111111111111111,
              "#000012"
             ],
             [
              0.2222222222222222,
              "#000013"
             ],
             [
              0.3333333333333333,
              "#000014"
             ],
             [
              0.4444444444444444,
              "#000015"
             ],
             [
              0.5555555555555556,
              "#000016"
             ],
             [
              0.6666666666666666,
              "#000017"
             ],
             [
              0.7777777777777778,
              "#000018"
             ],
             [
              0.8888888888888888,
              "#000019"
             ],
             [
              1,
              "#000020"
             ]
            ],
            "type": "contour"
           }
          ],
          "contourcarpet": [
           {
            "colorscale": [
             [
              0,
              "#000011"
             ],
             [
              0.1111111111111111,
              "#000012"
             ],
             [
              0.2222222222222222,
              "#000013"
             ],
             [
              0.3333333333333333,
              "#000014"
             ],
             [
              0.4444444444444444,
              "#000015"
             ],
             [
              0.5555555555555556,
              "#000016"
             ],
             [
              0.6666666666666666,
              "#000017"
             ],
             [
              0.7777777777777778,
              "#000018"
             ],
             [
              0.8888888888888888,
              "#000019"
             ],
             [
              1,
              "#000020"
             ]
            ],
            "type": "contourcarpet"
           }
          ],
          "heatmap": [
           {
            "colorscale": [
             [
              0,
              "#000011"
             ],
             [
              0.1111111111111111,
              "#000012"
             ],
             [
              0.2222222222222222,
              "#000013"
             ],
             [
              0.3333333333333333,
              "#000014"
             ],
             [
              0.4444444444444444,
              "#000015"
             ],
             [
              0.5555555555555556,
              "#000016"
             ],
             [
              0.6666666666666666,
              "#000017"
             ],
             [
              0.7777777777777778,
              "#000018"
             ],
             [
              0.8888888888888888,
              "#000019"
             ],
             [
              1,
              "#000020"
             ]
            ],
            "type": "heatmap"
           }
          ],
          "histogram2d": [
           {
            "colorscale": [
             [
              0,
              "#000011"
             ],
             [
              0.1111111111111111,
              "#000012"
             ],
             [
              0.2222222222222222,
              "#000013"
             ],
             [
              0.3333333333333333,
              "#000014"
             ],
             [
              0.4444444444444444,
              "#000015"
             ],
             [
              0.5555555555555556,
              "#000016"
             ],
             [
              0.6666666666666666,
              "#000017"
             ],
             [
              0.7777777777777778,
              "#000018"
             ],
             [
              0.8888888888888888,
              "#000019"
             ],
             [
              1,
              "#000020"
             ]
            ],
            "type": "histogram2d"
           }
          ],
          "icicle": [
           {
            "textfont": {
             "color": "white"
            },
            "type": "icicle"
           }
          ],
          "sankey": [
           {
            "textfont": {
             "color": "#000036"
            },
            "type": "sankey"
           }
          ],
          "scatter": [
           {
            "marker": {
             "line": {
              "width": 0
             }
            },
            "type": "scatter"
           }
          ],
          "table": [
           {
            "cells": {
             "fill": {
              "color": "#000038"
             },
             "font": {
              "color": "#000037"
             },
             "line": {
              "color": "#000039"
             }
            },
            "header": {
             "fill": {
              "color": "#000040"
             },
             "font": {
              "color": "#000036"
             },
             "line": {
              "color": "#000039"
             }
            },
            "type": "table"
           }
          ],
          "waterfall": [
           {
            "connector": {
             "line": {
              "color": "#000036",
              "width": 2
             }
            },
            "decreasing": {
             "marker": {
              "color": "#000033"
             }
            },
            "increasing": {
             "marker": {
              "color": "#000032"
             }
            },
            "totals": {
             "marker": {
              "color": "#000034"
             }
            },
            "type": "waterfall"
           }
          ]
         },
         "layout": {
          "coloraxis": {
           "colorscale": [
            [
             0,
             "#000011"
            ],
            [
             0.1111111111111111,
             "#000012"
            ],
            [
             0.2222222222222222,
             "#000013"
            ],
            [
             0.3333333333333333,
             "#000014"
            ],
            [
             0.4444444444444444,
             "#000015"
            ],
            [
             0.5555555555555556,
             "#000016"
            ],
            [
             0.6666666666666666,
             "#000017"
            ],
            [
             0.7777777777777778,
             "#000018"
            ],
            [
             0.8888888888888888,
             "#000019"
            ],
            [
             1,
             "#000020"
            ]
           ]
          },
          "colorscale": {
           "diverging": [
            [
             0,
             "#000021"
            ],
            [
             0.1,
             "#000022"
            ],
            [
             0.2,
             "#000023"
            ],
            [
             0.3,
             "#000024"
            ],
            [
             0.4,
             "#000025"
            ],
            [
             0.5,
             "#000026"
            ],
            [
             0.6,
             "#000027"
            ],
            [
             0.7,
             "#000028"
            ],
            [
             0.8,
             "#000029"
            ],
            [
             0.9,
             "#000030"
            ],
            [
             1,
             "#000031"
            ]
           ],
           "sequential": [
            [
             0,
             "#000011"
            ],
            [
             0.1111111111111111,
             "#000012"
            ],
            [
             0.2222222222222222,
             "#000013"
            ],
            [
             0.3333333333333333,
             "#000014"
            ],
            [
             0.4444444444444444,
             "#000015"
            ],
            [
             0.5555555555555556,
             "#000016"
            ],
            [
             0.6666666666666666,
             "#000017"
            ],
            [
             0.7777777777777778,
             "#000018"
            ],
            [
             0.8888888888888888,
             "#000019"
            ],
            [
             1,
             "#000020"
            ]
           ],
           "sequentialminus": [
            [
             0,
             "#000011"
            ],
            [
             0.1111111111111111,
             "#000012"
            ],
            [
             0.2222222222222222,
             "#000013"
            ],
            [
             0.3333333333333333,
             "#000014"
            ],
            [
             0.4444444444444444,
             "#000015"
            ],
            [
             0.5555555555555556,
             "#000016"
            ],
            [
             0.6666666666666666,
             "#000017"
            ],
            [
             0.7777777777777778,
             "#000018"
            ],
            [
             0.8888888888888888,
             "#000019"
            ],
            [
             1,
             "#000020"
            ]
           ]
          },
          "colorway": [
           "#000001",
           "#000002",
           "#000003",
           "#000004",
           "#000005",
           "#000006",
           "#000007",
           "#000008",
           "#000009",
           "#000010"
          ]
         }
        },
        "title": {
         "font": {
          "color": "#333333",
          "size": 20
         },
         "text": "UTM Source Market Share Distribution",
         "x": 0.5,
         "xanchor": "center",
         "y": 0.95,
         "yanchor": "top"
        }
       }
      }
     },
     "metadata": {},
     "output_type": "display_data"
    },
    {
     "data": {
      "application/vnd.plotly.v1+json": {
       "config": {
        "plotlyServerURL": "https://plot.ly"
       },
       "data": [
        {
         "hovertemplate": "Total Users Acquired=%{x}<br>Avg Events Per User=%{marker.color}<br>Total Events=%{marker.size}<br>utm_source=%{text}<extra></extra>",
         "legendgroup": "",
         "marker": {
          "color": [
           54.25,
           16.95,
           11.09,
           5.02,
           0,
           0
          ],
          "coloraxis": "coloraxis",
          "size": [
           651,
           33923,
           4470,
           1229,
           0,
           0
          ],
          "sizemode": "area",
          "sizeref": 84.8075,
          "symbol": "circle"
         },
         "mode": "markers+text",
         "name": "",
         "orientation": "v",
         "showlegend": false,
         "text": [
          "ActiveCampaign",
          "unknown",
          "alexey_linkedin",
          "dtc_newsletter",
          "chatgpt.com",
          "adrian_test"
         ],
         "textposition": "top center",
         "type": "scatter",
         "x": [
          12,
          2001,
          403,
          245,
          1,
          2
         ],
         "xaxis": "x",
         "y": [
          54.25,
          16.95,
          11.09,
          5.02,
          0,
          0
         ],
         "yaxis": "y"
        }
       ],
       "layout": {
        "coloraxis": {
         "colorbar": {
          "title": {
           "text": "Avg Events Per User"
          }
         },
         "colorscale": [
          [
           0,
           "#440154"
          ],
          [
           0.1111111111111111,
           "#482878"
          ],
          [
           0.2222222222222222,
           "#3e4989"
          ],
          [
           0.3333333333333333,
           "#31688e"
          ],
          [
           0.4444444444444444,
           "#26828e"
          ],
          [
           0.5555555555555556,
           "#1f9e89"
          ],
          [
           0.6666666666666666,
           "#35b779"
          ],
          [
           0.7777777777777778,
           "#6ece58"
          ],
          [
           0.8888888888888888,
           "#b5de2b"
          ],
          [
           1,
           "#fde725"
          ]
         ]
        },
        "height": 600,
        "legend": {
         "itemsizing": "constant",
         "tracegroupgap": 0
        },
        "template": {
         "data": {
          "candlestick": [
           {
            "decreasing": {
             "line": {
              "color": "#000033"
             }
            },
            "increasing": {
             "line": {
              "color": "#000032"
             }
            },
            "type": "candlestick"
           }
          ],
          "contour": [
           {
            "colorscale": [
             [
              0,
              "#000011"
             ],
             [
              0.1111111111111111,
              "#000012"
             ],
             [
              0.2222222222222222,
              "#000013"
             ],
             [
              0.3333333333333333,
              "#000014"
             ],
             [
              0.4444444444444444,
              "#000015"
             ],
             [
              0.5555555555555556,
              "#000016"
             ],
             [
              0.6666666666666666,
              "#000017"
             ],
             [
              0.7777777777777778,
              "#000018"
             ],
             [
              0.8888888888888888,
              "#000019"
             ],
             [
              1,
              "#000020"
             ]
            ],
            "type": "contour"
           }
          ],
          "contourcarpet": [
           {
            "colorscale": [
             [
              0,
              "#000011"
             ],
             [
              0.1111111111111111,
              "#000012"
             ],
             [
              0.2222222222222222,
              "#000013"
             ],
             [
              0.3333333333333333,
              "#000014"
             ],
             [
              0.4444444444444444,
              "#000015"
             ],
             [
              0.5555555555555556,
              "#000016"
             ],
             [
              0.6666666666666666,
              "#000017"
             ],
             [
              0.7777777777777778,
              "#000018"
             ],
             [
              0.8888888888888888,
              "#000019"
             ],
             [
              1,
              "#000020"
             ]
            ],
            "type": "contourcarpet"
           }
          ],
          "heatmap": [
           {
            "colorscale": [
             [
              0,
              "#000011"
             ],
             [
              0.1111111111111111,
              "#000012"
             ],
             [
              0.2222222222222222,
              "#000013"
             ],
             [
              0.3333333333333333,
              "#000014"
             ],
             [
              0.4444444444444444,
              "#000015"
             ],
             [
              0.5555555555555556,
              "#000016"
             ],
             [
              0.6666666666666666,
              "#000017"
             ],
             [
              0.7777777777777778,
              "#000018"
             ],
             [
              0.8888888888888888,
              "#000019"
             ],
             [
              1,
              "#000020"
             ]
            ],
            "type": "heatmap"
           }
          ],
          "histogram2d": [
           {
            "colorscale": [
             [
              0,
              "#000011"
             ],
             [
              0.1111111111111111,
              "#000012"
             ],
             [
              0.2222222222222222,
              "#000013"
             ],
             [
              0.3333333333333333,
              "#000014"
             ],
             [
              0.4444444444444444,
              "#000015"
             ],
             [
              0.5555555555555556,
              "#000016"
             ],
             [
              0.6666666666666666,
              "#000017"
             ],
             [
              0.7777777777777778,
              "#000018"
             ],
             [
              0.8888888888888888,
              "#000019"
             ],
             [
              1,
              "#000020"
             ]
            ],
            "type": "histogram2d"
           }
          ],
          "icicle": [
           {
            "textfont": {
             "color": "white"
            },
            "type": "icicle"
           }
          ],
          "sankey": [
           {
            "textfont": {
             "color": "#000036"
            },
            "type": "sankey"
           }
          ],
          "scatter": [
           {
            "marker": {
             "line": {
              "width": 0
             }
            },
            "type": "scatter"
           }
          ],
          "table": [
           {
            "cells": {
             "fill": {
              "color": "#000038"
             },
             "font": {
              "color": "#000037"
             },
             "line": {
              "color": "#000039"
             }
            },
            "header": {
             "fill": {
              "color": "#000040"
             },
             "font": {
              "color": "#000036"
             },
             "line": {
              "color": "#000039"
             }
            },
            "type": "table"
           }
          ],
          "waterfall": [
           {
            "connector": {
             "line": {
              "color": "#000036",
              "width": 2
             }
            },
            "decreasing": {
             "marker": {
              "color": "#000033"
             }
            },
            "increasing": {
             "marker": {
              "color": "#000032"
             }
            },
            "totals": {
             "marker": {
              "color": "#000034"
             }
            },
            "type": "waterfall"
           }
          ]
         },
         "layout": {
          "coloraxis": {
           "colorscale": [
            [
             0,
             "#000011"
            ],
            [
             0.1111111111111111,
             "#000012"
            ],
            [
             0.2222222222222222,
             "#000013"
            ],
            [
             0.3333333333333333,
             "#000014"
            ],
            [
             0.4444444444444444,
             "#000015"
            ],
            [
             0.5555555555555556,
             "#000016"
            ],
            [
             0.6666666666666666,
             "#000017"
            ],
            [
             0.7777777777777778,
             "#000018"
            ],
            [
             0.8888888888888888,
             "#000019"
            ],
            [
             1,
             "#000020"
            ]
           ]
          },
          "colorscale": {
           "diverging": [
            [
             0,
             "#000021"
            ],
            [
             0.1,
             "#000022"
            ],
            [
             0.2,
             "#000023"
            ],
            [
             0.3,
             "#000024"
            ],
            [
             0.4,
             "#000025"
            ],
            [
             0.5,
             "#000026"
            ],
            [
             0.6,
             "#000027"
            ],
            [
             0.7,
             "#000028"
            ],
            [
             0.8,
             "#000029"
            ],
            [
             0.9,
             "#000030"
            ],
            [
             1,
             "#000031"
            ]
           ],
           "sequential": [
            [
             0,
             "#000011"
            ],
            [
             0.1111111111111111,
             "#000012"
            ],
            [
             0.2222222222222222,
             "#000013"
            ],
            [
             0.3333333333333333,
             "#000014"
            ],
            [
             0.4444444444444444,
             "#000015"
            ],
            [
             0.5555555555555556,
             "#000016"
            ],
            [
             0.6666666666666666,
             "#000017"
            ],
            [
             0.7777777777777778,
             "#000018"
            ],
            [
             0.8888888888888888,
             "#000019"
            ],
            [
             1,
             "#000020"
            ]
           ],
           "sequentialminus": [
            [
             0,
             "#000011"
            ],
            [
             0.1111111111111111,
             "#000012"
            ],
            [
             0.2222222222222222,
             "#000013"
            ],
            [
             0.3333333333333333,
             "#000014"
            ],
            [
             0.4444444444444444,
             "#000015"
            ],
            [
             0.5555555555555556,
             "#000016"
            ],
            [
             0.6666666666666666,
             "#000017"
            ],
            [
             0.7777777777777778,
             "#000018"
            ],
            [
             0.8888888888888888,
             "#000019"
            ],
            [
             1,
             "#000020"
            ]
           ]
          },
          "colorway": [
           "#000001",
           "#000002",
           "#000003",
           "#000004",
           "#000005",
           "#000006",
           "#000007",
           "#000008",
           "#000009",
           "#000010"
          ]
         }
        },
        "title": {
         "text": "Acquisition Volume vs User Engagement"
        },
        "xaxis": {
         "anchor": "y",
         "domain": [
          0,
          1
         ],
         "title": {
          "text": "Total Users Acquired"
         }
        },
        "yaxis": {
         "anchor": "x",
         "domain": [
          0,
          1
         ],
         "title": {
          "text": "Avg Events Per User"
         }
        }
       }
      }
     },
     "metadata": {},
     "output_type": "display_data"
    }
   ],
   "source": [
    "# Acquisition volume chart\n",
    "fig = px.bar(\n",
    "    acquisition_metrics.sort_values('total_users', ascending=True),\n",
    "    x='total_users',\n",
    "    y='utm_source',\n",
    "    orientation='h',\n",
    "    title='User Acquisition Volume by UTM Source',\n",
    "    labels={'total_users': 'Number of Users', 'utm_source': 'UTM Source'},\n",
    "    text='total_users',\n",
    "    color='total_users',\n",
    "    color_continuous_scale='Blues'\n",
    ")\n",
    "fig.update_traces(textposition='outside')\n",
    "fig.update_layout(height=max(400, len(acquisition_metrics) * 30), showlegend=False)\n",
    "fig.show()\n",
    "\n",
    "# Create a pie chart showing market share by UTM source\n",
    "fig = px.pie(\n",
    "    acquisition_metrics.sort_values('total_users', ascending=False),\n",
    "    values='total_users',\n",
    "    names='utm_source',\n",
    "    title='UTM Source Market Share Distribution',\n",
    "    color_discrete_sequence=px.colors.qualitative.Bold,\n",
    "    hover_data=['pct_of_total']\n",
    ")\n",
    "\n",
    "# Improve presentation with better formatting\n",
    "fig.update_traces(\n",
    "    textposition='inside',\n",
    "    textinfo='percent+label',\n",
    "    hovertemplate='<b>%{label}</b><br>Users: %{value}<br>Market share: %{percent}<extra></extra>'\n",
    ")\n",
    "\n",
    "# Enhance layout\n",
    "fig.update_layout(\n",
    "    title={\n",
    "        'text': 'UTM Source Market Share Distribution',\n",
    "        'y': 0.95,\n",
    "        'x': 0.5,\n",
    "        'xanchor': 'center',\n",
    "        'yanchor': 'top',\n",
    "        'font': {'size': 20, 'color': '#333333'}\n",
    "    },\n",
    "    legend=dict(\n",
    "        orientation=\"h\",\n",
    "        yanchor=\"bottom\",\n",
    "        y=-0.2,\n",
    "        xanchor=\"center\",\n",
    "        x=0.5\n",
    "    ),\n",
    "    height=600,\n",
    "    margin=dict(t=80, b=120, l=40, r=40)\n",
    ")\n",
    "\n",
    "fig.show()\n",
    "\n",
    "# Engagement scatter plot\n",
    "fig = px.scatter(\n",
    "    engagement_metrics,\n",
    "    x='total_users',\n",
    "    y='avg_events_per_user',\n",
    "    size='total_events',\n",
    "    text='utm_source',\n",
    "    title='Acquisition Volume vs User Engagement',\n",
    "    labels={\n",
    "        'total_users': 'Total Users Acquired',\n",
    "        'avg_events_per_user': 'Avg Events Per User',\n",
    "        'total_events': 'Total Events'\n",
    "    },\n",
    "    color='avg_events_per_user',\n",
    "    color_continuous_scale='Viridis'\n",
    ")\n",
    "fig.update_traces(textposition='top center')\n",
    "fig.update_layout(height=600)\n",
    "fig.show()"
   ]
  },
  {
   "cell_type": "code",
   "execution_count": 16,
   "id": "a73c55ca",
   "metadata": {},
   "outputs": [
    {
     "name": "stdout",
     "output_type": "stream",
     "text": [
      "COHORT ANALYSIS (Monthly)\n",
      "                cohort_month       utm_source  cohort_size  total_events  \\\n",
      "0  2025-09-01 00:00:00+02:00          unknown           58            78   \n",
      "1  2025-08-01 00:00:00+02:00          unknown           31           172   \n",
      "2  2025-07-01 00:00:00+02:00  alexey_linkedin           45           153   \n",
      "3  2025-07-01 00:00:00+02:00   dtc_newsletter           54           174   \n",
      "4  2025-07-01 00:00:00+02:00          unknown           69           192   \n",
      "5  2025-06-01 00:00:00+02:00   dtc_newsletter          179           726   \n",
      "6  2025-06-01 00:00:00+02:00          unknown          106           382   \n",
      "7  2025-06-01 00:00:00+02:00  alexey_linkedin          295           945   \n",
      "8  2025-05-01 00:00:00+02:00          unknown           61           699   \n",
      "9  2025-04-01 00:00:00+02:00          unknown           67          1906   \n",
      "10 2025-03-01 00:00:00+01:00  alexey_linkedin            6           303   \n",
      "11 2025-03-01 00:00:00+01:00          unknown          106          2250   \n",
      "12 2025-02-01 00:00:00+01:00          unknown           32           577   \n",
      "13 2025-01-01 00:00:00+01:00  alexey_linkedin            9           426   \n",
      "14 2025-01-01 00:00:00+01:00          unknown          164          4124   \n",
      "15 2024-12-01 00:00:00+01:00  alexey_linkedin           13           674   \n",
      "16 2024-12-01 00:00:00+01:00          unknown          378          9729   \n",
      "17 2024-11-01 00:00:00+01:00          unknown          104          1791   \n",
      "18 2024-10-01 00:00:00+02:00  alexey_linkedin           11           550   \n",
      "19 2024-10-01 00:00:00+02:00          unknown          403          5051   \n",
      "\n",
      "    avg_events_per_user  \n",
      "0              1.340000  \n",
      "1              5.550000  \n",
      "2              3.400000  \n",
      "3              3.220000  \n",
      "4              2.780000  \n",
      "5              4.060000  \n",
      "6              3.600000  \n",
      "7              3.200000  \n",
      "8             11.460000  \n",
      "9             28.450001  \n",
      "10            50.500000  \n",
      "11            21.230000  \n",
      "12            18.030001  \n",
      "13            47.330002  \n",
      "14            25.150000  \n",
      "15            51.849998  \n",
      "16            25.740000  \n",
      "17            17.219999  \n",
      "18            50.000000  \n",
      "19            12.530000  \n"
     ]
    },
    {
     "data": {
      "application/vnd.plotly.v1+json": {
       "config": {
        "plotlyServerURL": "https://plot.ly"
       },
       "data": [
        {
         "hovertemplate": "utm_source=unknown<br>Signup Month=%{x}<br>Avg Events Per User=%{y}<extra></extra>",
         "legendgroup": "unknown",
         "line": {
          "color": "#636EFA",
          "dash": "solid"
         },
         "marker": {
          "symbol": "circle"
         },
         "mode": "lines+markers",
         "name": "unknown",
         "orientation": "v",
         "showlegend": true,
         "type": "scatter",
         "x": [
          "2025-09-01T00:00:00+02:00",
          "2025-08-01T00:00:00+02:00",
          "2025-07-01T00:00:00+02:00",
          "2025-06-01T00:00:00+02:00",
          "2025-05-01T00:00:00+02:00",
          "2025-04-01T00:00:00+02:00",
          "2025-03-01T00:00:00+01:00",
          "2025-02-01T00:00:00+01:00",
          "2025-01-01T00:00:00+01:00",
          "2024-12-01T00:00:00+01:00",
          "2024-11-01T00:00:00+01:00",
          "2024-10-01T00:00:00+02:00",
          "2024-09-01T00:00:00+02:00",
          "2024-08-01T00:00:00+02:00"
         ],
         "xaxis": "x",
         "y": [
          1.34,
          5.55,
          2.78,
          3.6,
          11.46,
          28.45,
          21.23,
          18.03,
          25.15,
          25.74,
          17.22,
          12.53,
          15.43,
          20.98
         ],
         "yaxis": "y"
        },
        {
         "hovertemplate": "utm_source=alexey_linkedin<br>Signup Month=%{x}<br>Avg Events Per User=%{y}<extra></extra>",
         "legendgroup": "alexey_linkedin",
         "line": {
          "color": "#EF553B",
          "dash": "solid"
         },
         "marker": {
          "symbol": "circle"
         },
         "mode": "lines+markers",
         "name": "alexey_linkedin",
         "orientation": "v",
         "showlegend": true,
         "type": "scatter",
         "x": [
          "2025-07-01T00:00:00+02:00",
          "2025-06-01T00:00:00+02:00",
          "2025-03-01T00:00:00+01:00",
          "2025-01-01T00:00:00+01:00",
          "2024-12-01T00:00:00+01:00",
          "2024-10-01T00:00:00+02:00",
          "2024-09-01T00:00:00+02:00"
         ],
         "xaxis": "x",
         "y": [
          3.4,
          3.2,
          50.5,
          47.33,
          51.85,
          50,
          88.88
         ],
         "yaxis": "y"
        },
        {
         "hovertemplate": "utm_source=dtc_newsletter<br>Signup Month=%{x}<br>Avg Events Per User=%{y}<extra></extra>",
         "legendgroup": "dtc_newsletter",
         "line": {
          "color": "#00CC96",
          "dash": "solid"
         },
         "marker": {
          "symbol": "circle"
         },
         "mode": "lines+markers",
         "name": "dtc_newsletter",
         "orientation": "v",
         "showlegend": true,
         "type": "scatter",
         "x": [
          "2025-07-01T00:00:00+02:00",
          "2025-06-01T00:00:00+02:00"
         ],
         "xaxis": "x",
         "y": [
          3.22,
          4.06
         ],
         "yaxis": "y"
        }
       ],
       "layout": {
        "height": 500,
        "legend": {
         "title": {
          "text": "utm_source"
         },
         "tracegroupgap": 0
        },
        "template": {
         "data": {
          "candlestick": [
           {
            "decreasing": {
             "line": {
              "color": "#000033"
             }
            },
            "increasing": {
             "line": {
              "color": "#000032"
             }
            },
            "type": "candlestick"
           }
          ],
          "contour": [
           {
            "colorscale": [
             [
              0,
              "#000011"
             ],
             [
              0.1111111111111111,
              "#000012"
             ],
             [
              0.2222222222222222,
              "#000013"
             ],
             [
              0.3333333333333333,
              "#000014"
             ],
             [
              0.4444444444444444,
              "#000015"
             ],
             [
              0.5555555555555556,
              "#000016"
             ],
             [
              0.6666666666666666,
              "#000017"
             ],
             [
              0.7777777777777778,
              "#000018"
             ],
             [
              0.8888888888888888,
              "#000019"
             ],
             [
              1,
              "#000020"
             ]
            ],
            "type": "contour"
           }
          ],
          "contourcarpet": [
           {
            "colorscale": [
             [
              0,
              "#000011"
             ],
             [
              0.1111111111111111,
              "#000012"
             ],
             [
              0.2222222222222222,
              "#000013"
             ],
             [
              0.3333333333333333,
              "#000014"
             ],
             [
              0.4444444444444444,
              "#000015"
             ],
             [
              0.5555555555555556,
              "#000016"
             ],
             [
              0.6666666666666666,
              "#000017"
             ],
             [
              0.7777777777777778,
              "#000018"
             ],
             [
              0.8888888888888888,
              "#000019"
             ],
             [
              1,
              "#000020"
             ]
            ],
            "type": "contourcarpet"
           }
          ],
          "heatmap": [
           {
            "colorscale": [
             [
              0,
              "#000011"
             ],
             [
              0.1111111111111111,
              "#000012"
             ],
             [
              0.2222222222222222,
              "#000013"
             ],
             [
              0.3333333333333333,
              "#000014"
             ],
             [
              0.4444444444444444,
              "#000015"
             ],
             [
              0.5555555555555556,
              "#000016"
             ],
             [
              0.6666666666666666,
              "#000017"
             ],
             [
              0.7777777777777778,
              "#000018"
             ],
             [
              0.8888888888888888,
              "#000019"
             ],
             [
              1,
              "#000020"
             ]
            ],
            "type": "heatmap"
           }
          ],
          "histogram2d": [
           {
            "colorscale": [
             [
              0,
              "#000011"
             ],
             [
              0.1111111111111111,
              "#000012"
             ],
             [
              0.2222222222222222,
              "#000013"
             ],
             [
              0.3333333333333333,
              "#000014"
             ],
             [
              0.4444444444444444,
              "#000015"
             ],
             [
              0.5555555555555556,
              "#000016"
             ],
             [
              0.6666666666666666,
              "#000017"
             ],
             [
              0.7777777777777778,
              "#000018"
             ],
             [
              0.8888888888888888,
              "#000019"
             ],
             [
              1,
              "#000020"
             ]
            ],
            "type": "histogram2d"
           }
          ],
          "icicle": [
           {
            "textfont": {
             "color": "white"
            },
            "type": "icicle"
           }
          ],
          "sankey": [
           {
            "textfont": {
             "color": "#000036"
            },
            "type": "sankey"
           }
          ],
          "scatter": [
           {
            "marker": {
             "line": {
              "width": 0
             }
            },
            "type": "scatter"
           }
          ],
          "table": [
           {
            "cells": {
             "fill": {
              "color": "#000038"
             },
             "font": {
              "color": "#000037"
             },
             "line": {
              "color": "#000039"
             }
            },
            "header": {
             "fill": {
              "color": "#000040"
             },
             "font": {
              "color": "#000036"
             },
             "line": {
              "color": "#000039"
             }
            },
            "type": "table"
           }
          ],
          "waterfall": [
           {
            "connector": {
             "line": {
              "color": "#000036",
              "width": 2
             }
            },
            "decreasing": {
             "marker": {
              "color": "#000033"
             }
            },
            "increasing": {
             "marker": {
              "color": "#000032"
             }
            },
            "totals": {
             "marker": {
              "color": "#000034"
             }
            },
            "type": "waterfall"
           }
          ]
         },
         "layout": {
          "coloraxis": {
           "colorscale": [
            [
             0,
             "#000011"
            ],
            [
             0.1111111111111111,
             "#000012"
            ],
            [
             0.2222222222222222,
             "#000013"
            ],
            [
             0.3333333333333333,
             "#000014"
            ],
            [
             0.4444444444444444,
             "#000015"
            ],
            [
             0.5555555555555556,
             "#000016"
            ],
            [
             0.6666666666666666,
             "#000017"
            ],
            [
             0.7777777777777778,
             "#000018"
            ],
            [
             0.8888888888888888,
             "#000019"
            ],
            [
             1,
             "#000020"
            ]
           ]
          },
          "colorscale": {
           "diverging": [
            [
             0,
             "#000021"
            ],
            [
             0.1,
             "#000022"
            ],
            [
             0.2,
             "#000023"
            ],
            [
             0.3,
             "#000024"
            ],
            [
             0.4,
             "#000025"
            ],
            [
             0.5,
             "#000026"
            ],
            [
             0.6,
             "#000027"
            ],
            [
             0.7,
             "#000028"
            ],
            [
             0.8,
             "#000029"
            ],
            [
             0.9,
             "#000030"
            ],
            [
             1,
             "#000031"
            ]
           ],
           "sequential": [
            [
             0,
             "#000011"
            ],
            [
             0.1111111111111111,
             "#000012"
            ],
            [
             0.2222222222222222,
             "#000013"
            ],
            [
             0.3333333333333333,
             "#000014"
            ],
            [
             0.4444444444444444,
             "#000015"
            ],
            [
             0.5555555555555556,
             "#000016"
            ],
            [
             0.6666666666666666,
             "#000017"
            ],
            [
             0.7777777777777778,
             "#000018"
            ],
            [
             0.8888888888888888,
             "#000019"
            ],
            [
             1,
             "#000020"
            ]
           ],
           "sequentialminus": [
            [
             0,
             "#000011"
            ],
            [
             0.1111111111111111,
             "#000012"
            ],
            [
             0.2222222222222222,
             "#000013"
            ],
            [
             0.3333333333333333,
             "#000014"
            ],
            [
             0.4444444444444444,
             "#000015"
            ],
            [
             0.5555555555555556,
             "#000016"
            ],
            [
             0.6666666666666666,
             "#000017"
            ],
            [
             0.7777777777777778,
             "#000018"
            ],
            [
             0.8888888888888888,
             "#000019"
            ],
            [
             1,
             "#000020"
            ]
           ]
          },
          "colorway": [
           "#000001",
           "#000002",
           "#000003",
           "#000004",
           "#000005",
           "#000006",
           "#000007",
           "#000008",
           "#000009",
           "#000010"
          ]
         }
        },
        "title": {
         "text": "User Engagement by Signup Cohort"
        },
        "xaxis": {
         "anchor": "y",
         "domain": [
          0,
          1
         ],
         "title": {
          "text": "Signup Month"
         }
        },
        "yaxis": {
         "anchor": "x",
         "domain": [
          0,
          1
         ],
         "title": {
          "text": "Avg Events Per User"
         }
        }
       }
      }
     },
     "metadata": {},
     "output_type": "display_data"
    }
   ],
   "source": [
    "# Cohort analysis by signup month\n",
    "cohort_query = f\"\"\"\n",
    "WITH contact_cohorts AS (\n",
    "    SELECT \n",
    "        c.contact_id,\n",
    "        c.utm_source,\n",
    "        DATE_TRUNC('month', c.first_seen_at) as cohort_month\n",
    "    FROM user_attribution.contacts c\n",
    "    WHERE c.first_seen_at IS NOT NULL\n",
    "),\n",
    "cohort_events AS (\n",
    "    SELECT \n",
    "        cc.cohort_month,\n",
    "        cc.utm_source,\n",
    "        COUNT(DISTINCT cc.contact_id) as cohort_size,\n",
    "        COUNT(e.contact_id) as total_events,\n",
    "        ROUND(CAST(COUNT(e.contact_id) AS FLOAT) / NULLIF(COUNT(DISTINCT cc.contact_id), 0), 2) as avg_events_per_user\n",
    "    FROM contact_cohorts cc\n",
    "    LEFT JOIN user_attribution.events e ON cc.contact_id = e.contact_id\n",
    "    GROUP BY cc.cohort_month, cc.utm_source\n",
    ")\n",
    "SELECT \n",
    "    cohort_month,\n",
    "    utm_source,\n",
    "    cohort_size,\n",
    "    total_events,\n",
    "    avg_events_per_user\n",
    "FROM cohort_events\n",
    "WHERE cohort_size >= {CONFIG['min_users_for_analysis']}\n",
    "ORDER BY cohort_month DESC, avg_events_per_user DESC\n",
    "LIMIT 50\n",
    "\"\"\"\n",
    "try:\n",
    "    cohort_metrics = conn.execute(cohort_query).fetchdf()\n",
    "    if len(cohort_metrics) > 0:\n",
    "        print(\"COHORT ANALYSIS (Monthly)\")\n",
    "        print(cohort_metrics.head(20))\n",
    "        \n",
    "        if len(cohort_metrics) > 0:\n",
    "            color_palette = px.colors.qualitative.Plotly\n",
    "            fig = px.line(\n",
    "                cohort_metrics,\n",
    "                x='cohort_month',\n",
    "                y='avg_events_per_user',\n",
    "                color='utm_source',\n",
    "                title='User Engagement by Signup Cohort',\n",
    "                labels={\n",
    "                    'cohort_month': 'Signup Month',\n",
    "                    'avg_events_per_user': 'Avg Events Per User'\n",
    "                },\n",
    "                markers=True,\n",
    "                color_discrete_sequence=color_palette\n",
    "            )\n",
    "            fig.update_layout(height=500)\n",
    "            fig.show()\n",
    "    else:\n",
    "        print(\"No cohort data available (insufficient date information)\")\n",
    "except Exception as e:\n",
    "    print(f\"Error calculating cohorts: {e}\")"
   ]
  },
  {
   "cell_type": "code",
   "execution_count": 17,
   "id": "fcb4fb6c",
   "metadata": {},
   "outputs": [
    {
     "data": {
      "application/vnd.plotly.v1+json": {
       "config": {
        "plotlyServerURL": "https://plot.ly"
       },
       "data": [
        {
         "coloraxis": "coloraxis",
         "hovertemplate": "Weeks Since First Activity: %{x}<br>UTM Source: %{y}<br>Retention Rate (%): %{z}<extra></extra>",
         "name": "0",
         "texttemplate": "%{z:.1f}",
         "type": "heatmap",
         "x": [
          "Week 1",
          "Week 3",
          "Week 4",
          "Week 5",
          "Week 7",
          "Week 8",
          "Week 9",
          "Week 11"
         ],
         "xaxis": "x",
         "y": [
          "ActiveCampaign",
          "alexey_linkedin",
          "dtc_newsletter",
          "unknown"
         ],
         "yaxis": "y",
         "z": [
          [
           100,
           8.3,
           25,
           75,
           75,
           75,
           75,
           0
          ],
          [
           100,
           1,
           1.5,
           15.7,
           15.7,
           15.7,
           16.2,
           0.7
          ],
          [
           100,
           0.4,
           0,
           4.9,
           4.9,
           4.9,
           4.9,
           0
          ],
          [
           100,
           6,
           3.9,
           59.5,
           59.4,
           59.5,
           60.4,
           1.1
          ]
         ]
        }
       ],
       "layout": {
        "coloraxis": {
         "colorbar": {
          "title": {
           "text": "Retention Rate (%)"
          }
         },
         "colorscale": [
          [
           0,
           "rgb(165,0,38)"
          ],
          [
           0.1,
           "rgb(215,48,39)"
          ],
          [
           0.2,
           "rgb(244,109,67)"
          ],
          [
           0.3,
           "rgb(253,174,97)"
          ],
          [
           0.4,
           "rgb(254,224,139)"
          ],
          [
           0.5,
           "rgb(255,255,191)"
          ],
          [
           0.6,
           "rgb(217,239,139)"
          ],
          [
           0.7,
           "rgb(166,217,106)"
          ],
          [
           0.8,
           "rgb(102,189,99)"
          ],
          [
           0.9,
           "rgb(26,152,80)"
          ],
          [
           1,
           "rgb(0,104,55)"
          ]
         ]
        },
        "height": 400,
        "template": {
         "data": {
          "candlestick": [
           {
            "decreasing": {
             "line": {
              "color": "#000033"
             }
            },
            "increasing": {
             "line": {
              "color": "#000032"
             }
            },
            "type": "candlestick"
           }
          ],
          "contour": [
           {
            "colorscale": [
             [
              0,
              "#000011"
             ],
             [
              0.1111111111111111,
              "#000012"
             ],
             [
              0.2222222222222222,
              "#000013"
             ],
             [
              0.3333333333333333,
              "#000014"
             ],
             [
              0.4444444444444444,
              "#000015"
             ],
             [
              0.5555555555555556,
              "#000016"
             ],
             [
              0.6666666666666666,
              "#000017"
             ],
             [
              0.7777777777777778,
              "#000018"
             ],
             [
              0.8888888888888888,
              "#000019"
             ],
             [
              1,
              "#000020"
             ]
            ],
            "type": "contour"
           }
          ],
          "contourcarpet": [
           {
            "colorscale": [
             [
              0,
              "#000011"
             ],
             [
              0.1111111111111111,
              "#000012"
             ],
             [
              0.2222222222222222,
              "#000013"
             ],
             [
              0.3333333333333333,
              "#000014"
             ],
             [
              0.4444444444444444,
              "#000015"
             ],
             [
              0.5555555555555556,
              "#000016"
             ],
             [
              0.6666666666666666,
              "#000017"
             ],
             [
              0.7777777777777778,
              "#000018"
             ],
             [
              0.8888888888888888,
              "#000019"
             ],
             [
              1,
              "#000020"
             ]
            ],
            "type": "contourcarpet"
           }
          ],
          "heatmap": [
           {
            "colorscale": [
             [
              0,
              "#000011"
             ],
             [
              0.1111111111111111,
              "#000012"
             ],
             [
              0.2222222222222222,
              "#000013"
             ],
             [
              0.3333333333333333,
              "#000014"
             ],
             [
              0.4444444444444444,
              "#000015"
             ],
             [
              0.5555555555555556,
              "#000016"
             ],
             [
              0.6666666666666666,
              "#000017"
             ],
             [
              0.7777777777777778,
              "#000018"
             ],
             [
              0.8888888888888888,
              "#000019"
             ],
             [
              1,
              "#000020"
             ]
            ],
            "type": "heatmap"
           }
          ],
          "histogram2d": [
           {
            "colorscale": [
             [
              0,
              "#000011"
             ],
             [
              0.1111111111111111,
              "#000012"
             ],
             [
              0.2222222222222222,
              "#000013"
             ],
             [
              0.3333333333333333,
              "#000014"
             ],
             [
              0.4444444444444444,
              "#000015"
             ],
             [
              0.5555555555555556,
              "#000016"
             ],
             [
              0.6666666666666666,
              "#000017"
             ],
             [
              0.7777777777777778,
              "#000018"
             ],
             [
              0.8888888888888888,
              "#000019"
             ],
             [
              1,
              "#000020"
             ]
            ],
            "type": "histogram2d"
           }
          ],
          "icicle": [
           {
            "textfont": {
             "color": "white"
            },
            "type": "icicle"
           }
          ],
          "sankey": [
           {
            "textfont": {
             "color": "#000036"
            },
            "type": "sankey"
           }
          ],
          "scatter": [
           {
            "marker": {
             "line": {
              "width": 0
             }
            },
            "type": "scatter"
           }
          ],
          "table": [
           {
            "cells": {
             "fill": {
              "color": "#000038"
             },
             "font": {
              "color": "#000037"
             },
             "line": {
              "color": "#000039"
             }
            },
            "header": {
             "fill": {
              "color": "#000040"
             },
             "font": {
              "color": "#000036"
             },
             "line": {
              "color": "#000039"
             }
            },
            "type": "table"
           }
          ],
          "waterfall": [
           {
            "connector": {
             "line": {
              "color": "#000036",
              "width": 2
             }
            },
            "decreasing": {
             "marker": {
              "color": "#000033"
             }
            },
            "increasing": {
             "marker": {
              "color": "#000032"
             }
            },
            "totals": {
             "marker": {
              "color": "#000034"
             }
            },
            "type": "waterfall"
           }
          ]
         },
         "layout": {
          "coloraxis": {
           "colorscale": [
            [
             0,
             "#000011"
            ],
            [
             0.1111111111111111,
             "#000012"
            ],
            [
             0.2222222222222222,
             "#000013"
            ],
            [
             0.3333333333333333,
             "#000014"
            ],
            [
             0.4444444444444444,
             "#000015"
            ],
            [
             0.5555555555555556,
             "#000016"
            ],
            [
             0.6666666666666666,
             "#000017"
            ],
            [
             0.7777777777777778,
             "#000018"
            ],
            [
             0.8888888888888888,
             "#000019"
            ],
            [
             1,
             "#000020"
            ]
           ]
          },
          "colorscale": {
           "diverging": [
            [
             0,
             "#000021"
            ],
            [
             0.1,
             "#000022"
            ],
            [
             0.2,
             "#000023"
            ],
            [
             0.3,
             "#000024"
            ],
            [
             0.4,
             "#000025"
            ],
            [
             0.5,
             "#000026"
            ],
            [
             0.6,
             "#000027"
            ],
            [
             0.7,
             "#000028"
            ],
            [
             0.8,
             "#000029"
            ],
            [
             0.9,
             "#000030"
            ],
            [
             1,
             "#000031"
            ]
           ],
           "sequential": [
            [
             0,
             "#000011"
            ],
            [
             0.1111111111111111,
             "#000012"
            ],
            [
             0.2222222222222222,
             "#000013"
            ],
            [
             0.3333333333333333,
             "#000014"
            ],
            [
             0.4444444444444444,
             "#000015"
            ],
            [
             0.5555555555555556,
             "#000016"
            ],
            [
             0.6666666666666666,
             "#000017"
            ],
            [
             0.7777777777777778,
             "#000018"
            ],
            [
             0.8888888888888888,
             "#000019"
            ],
            [
             1,
             "#000020"
            ]
           ],
           "sequentialminus": [
            [
             0,
             "#000011"
            ],
            [
             0.1111111111111111,
             "#000012"
            ],
            [
             0.2222222222222222,
             "#000013"
            ],
            [
             0.3333333333333333,
             "#000014"
            ],
            [
             0.4444444444444444,
             "#000015"
            ],
            [
             0.5555555555555556,
             "#000016"
            ],
            [
             0.6666666666666666,
             "#000017"
            ],
            [
             0.7777777777777778,
             "#000018"
            ],
            [
             0.8888888888888888,
             "#000019"
            ],
            [
             1,
             "#000020"
            ]
           ]
          },
          "colorway": [
           "#000001",
           "#000002",
           "#000003",
           "#000004",
           "#000005",
           "#000006",
           "#000007",
           "#000008",
           "#000009",
           "#000010"
          ]
         }
        },
        "title": {
         "text": "Weekly Retention by UTM Source"
        },
        "xaxis": {
         "anchor": "y",
         "domain": [
          0,
          1
         ],
         "title": {
          "text": "Weeks Since First Activity"
         }
        },
        "yaxis": {
         "anchor": "x",
         "autorange": "reversed",
         "domain": [
          0,
          1
         ],
         "title": {
          "text": "UTM Source"
         }
        }
       }
      }
     },
     "metadata": {},
     "output_type": "display_data"
    },
    {
     "data": {
      "application/vnd.plotly.v1+json": {
       "config": {
        "plotlyServerURL": "https://plot.ly"
       },
       "data": [
        {
         "hovertemplate": "%{text}<extra></extra>",
         "line": {
          "color": "#636EFA"
         },
         "marker": {
          "color": "#636EFA"
         },
         "mode": "lines+markers",
         "name": "ActiveCampaign",
         "text": [
          "100.0%",
          "8.3%",
          "25.0%",
          "75.0%",
          "75.0%",
          "75.0%",
          "75.0%"
         ],
         "type": "scatter",
         "x": [
          1,
          3,
          4,
          5,
          7,
          8,
          9
         ],
         "y": [
          100,
          8.3,
          25,
          75,
          75,
          75,
          75
         ]
        },
        {
         "hovertemplate": "%{text}<extra></extra>",
         "line": {
          "color": "#EF553B"
         },
         "marker": {
          "color": "#EF553B"
         },
         "mode": "lines+markers",
         "name": "alexey_linkedin",
         "text": [
          "100.0%",
          "1.0%",
          "1.5%",
          "15.7%",
          "15.7%",
          "15.7%",
          "16.2%",
          "0.7%"
         ],
         "type": "scatter",
         "x": [
          1,
          3,
          4,
          5,
          7,
          8,
          9,
          11
         ],
         "y": [
          100,
          1,
          1.5,
          15.7,
          15.7,
          15.7,
          16.2,
          0.7
         ]
        },
        {
         "hovertemplate": "%{text}<extra></extra>",
         "line": {
          "color": "#00CC96"
         },
         "marker": {
          "color": "#00CC96"
         },
         "mode": "lines+markers",
         "name": "dtc_newsletter",
         "text": [
          "100.0%",
          "0.4%",
          "4.9%",
          "4.9%",
          "4.9%",
          "4.9%"
         ],
         "type": "scatter",
         "x": [
          1,
          3,
          5,
          7,
          8,
          9
         ],
         "y": [
          100,
          0.4,
          4.9,
          4.9,
          4.9,
          4.9
         ]
        },
        {
         "hovertemplate": "%{text}<extra></extra>",
         "line": {
          "color": "#AB63FA"
         },
         "marker": {
          "color": "#AB63FA"
         },
         "mode": "lines+markers",
         "name": "unknown",
         "text": [
          "100.0%",
          "6.0%",
          "3.9%",
          "59.5%",
          "59.4%",
          "59.5%",
          "60.4%",
          "1.1%"
         ],
         "type": "scatter",
         "x": [
          1,
          3,
          4,
          5,
          7,
          8,
          9,
          11
         ],
         "y": [
          100,
          6,
          3.9,
          59.5,
          59.4,
          59.5,
          60.4,
          1.1
         ]
        }
       ],
       "layout": {
        "height": 500,
        "legend": {
         "orientation": "h",
         "x": 1,
         "xanchor": "right",
         "y": 1.02,
         "yanchor": "bottom"
        },
        "template": {
         "data": {
          "candlestick": [
           {
            "decreasing": {
             "line": {
              "color": "#000033"
             }
            },
            "increasing": {
             "line": {
              "color": "#000032"
             }
            },
            "type": "candlestick"
           }
          ],
          "contour": [
           {
            "colorscale": [
             [
              0,
              "#000011"
             ],
             [
              0.1111111111111111,
              "#000012"
             ],
             [
              0.2222222222222222,
              "#000013"
             ],
             [
              0.3333333333333333,
              "#000014"
             ],
             [
              0.4444444444444444,
              "#000015"
             ],
             [
              0.5555555555555556,
              "#000016"
             ],
             [
              0.6666666666666666,
              "#000017"
             ],
             [
              0.7777777777777778,
              "#000018"
             ],
             [
              0.8888888888888888,
              "#000019"
             ],
             [
              1,
              "#000020"
             ]
            ],
            "type": "contour"
           }
          ],
          "contourcarpet": [
           {
            "colorscale": [
             [
              0,
              "#000011"
             ],
             [
              0.1111111111111111,
              "#000012"
             ],
             [
              0.2222222222222222,
              "#000013"
             ],
             [
              0.3333333333333333,
              "#000014"
             ],
             [
              0.4444444444444444,
              "#000015"
             ],
             [
              0.5555555555555556,
              "#000016"
             ],
             [
              0.6666666666666666,
              "#000017"
             ],
             [
              0.7777777777777778,
              "#000018"
             ],
             [
              0.8888888888888888,
              "#000019"
             ],
             [
              1,
              "#000020"
             ]
            ],
            "type": "contourcarpet"
           }
          ],
          "heatmap": [
           {
            "colorscale": [
             [
              0,
              "#000011"
             ],
             [
              0.1111111111111111,
              "#000012"
             ],
             [
              0.2222222222222222,
              "#000013"
             ],
             [
              0.3333333333333333,
              "#000014"
             ],
             [
              0.4444444444444444,
              "#000015"
             ],
             [
              0.5555555555555556,
              "#000016"
             ],
             [
              0.6666666666666666,
              "#000017"
             ],
             [
              0.7777777777777778,
              "#000018"
             ],
             [
              0.8888888888888888,
              "#000019"
             ],
             [
              1,
              "#000020"
             ]
            ],
            "type": "heatmap"
           }
          ],
          "histogram2d": [
           {
            "colorscale": [
             [
              0,
              "#000011"
             ],
             [
              0.1111111111111111,
              "#000012"
             ],
             [
              0.2222222222222222,
              "#000013"
             ],
             [
              0.3333333333333333,
              "#000014"
             ],
             [
              0.4444444444444444,
              "#000015"
             ],
             [
              0.5555555555555556,
              "#000016"
             ],
             [
              0.6666666666666666,
              "#000017"
             ],
             [
              0.7777777777777778,
              "#000018"
             ],
             [
              0.8888888888888888,
              "#000019"
             ],
             [
              1,
              "#000020"
             ]
            ],
            "type": "histogram2d"
           }
          ],
          "icicle": [
           {
            "textfont": {
             "color": "white"
            },
            "type": "icicle"
           }
          ],
          "sankey": [
           {
            "textfont": {
             "color": "#000036"
            },
            "type": "sankey"
           }
          ],
          "scatter": [
           {
            "marker": {
             "line": {
              "width": 0
             }
            },
            "type": "scatter"
           }
          ],
          "table": [
           {
            "cells": {
             "fill": {
              "color": "#000038"
             },
             "font": {
              "color": "#000037"
             },
             "line": {
              "color": "#000039"
             }
            },
            "header": {
             "fill": {
              "color": "#000040"
             },
             "font": {
              "color": "#000036"
             },
             "line": {
              "color": "#000039"
             }
            },
            "type": "table"
           }
          ],
          "waterfall": [
           {
            "connector": {
             "line": {
              "color": "#000036",
              "width": 2
             }
            },
            "decreasing": {
             "marker": {
              "color": "#000033"
             }
            },
            "increasing": {
             "marker": {
              "color": "#000032"
             }
            },
            "totals": {
             "marker": {
              "color": "#000034"
             }
            },
            "type": "waterfall"
           }
          ]
         },
         "layout": {
          "coloraxis": {
           "colorscale": [
            [
             0,
             "#000011"
            ],
            [
             0.1111111111111111,
             "#000012"
            ],
            [
             0.2222222222222222,
             "#000013"
            ],
            [
             0.3333333333333333,
             "#000014"
            ],
            [
             0.4444444444444444,
             "#000015"
            ],
            [
             0.5555555555555556,
             "#000016"
            ],
            [
             0.6666666666666666,
             "#000017"
            ],
            [
             0.7777777777777778,
             "#000018"
            ],
            [
             0.8888888888888888,
             "#000019"
            ],
            [
             1,
             "#000020"
            ]
           ]
          },
          "colorscale": {
           "diverging": [
            [
             0,
             "#000021"
            ],
            [
             0.1,
             "#000022"
            ],
            [
             0.2,
             "#000023"
            ],
            [
             0.3,
             "#000024"
            ],
            [
             0.4,
             "#000025"
            ],
            [
             0.5,
             "#000026"
            ],
            [
             0.6,
             "#000027"
            ],
            [
             0.7,
             "#000028"
            ],
            [
             0.8,
             "#000029"
            ],
            [
             0.9,
             "#000030"
            ],
            [
             1,
             "#000031"
            ]
           ],
           "sequential": [
            [
             0,
             "#000011"
            ],
            [
             0.1111111111111111,
             "#000012"
            ],
            [
             0.2222222222222222,
             "#000013"
            ],
            [
             0.3333333333333333,
             "#000014"
            ],
            [
             0.4444444444444444,
             "#000015"
            ],
            [
             0.5555555555555556,
             "#000016"
            ],
            [
             0.6666666666666666,
             "#000017"
            ],
            [
             0.7777777777777778,
             "#000018"
            ],
            [
             0.8888888888888888,
             "#000019"
            ],
            [
             1,
             "#000020"
            ]
           ],
           "sequentialminus": [
            [
             0,
             "#000011"
            ],
            [
             0.1111111111111111,
             "#000012"
            ],
            [
             0.2222222222222222,
             "#000013"
            ],
            [
             0.3333333333333333,
             "#000014"
            ],
            [
             0.4444444444444444,
             "#000015"
            ],
            [
             0.5555555555555556,
             "#000016"
            ],
            [
             0.6666666666666666,
             "#000017"
            ],
            [
             0.7777777777777778,
             "#000018"
            ],
            [
             0.8888888888888888,
             "#000019"
            ],
            [
             1,
             "#000020"
            ]
           ]
          },
          "colorway": [
           "#000001",
           "#000002",
           "#000003",
           "#000004",
           "#000005",
           "#000006",
           "#000007",
           "#000008",
           "#000009",
           "#000010"
          ]
         }
        },
        "title": {
         "text": "Weekly Retention Curves by UTM Source"
        },
        "xaxis": {
         "dtick": 1,
         "tick0": 1,
         "tickmode": "linear",
         "title": {
          "text": "Weeks Since First Activity"
         }
        },
        "yaxis": {
         "title": {
          "text": "Retention Rate (%)"
         }
        }
       }
      }
     },
     "metadata": {},
     "output_type": "display_data"
    },
    {
     "data": {
      "application/vnd.plotly.v1+json": {
       "config": {
        "plotlyServerURL": "https://plot.ly"
       },
       "data": [
        {
         "coloraxis": "coloraxis",
         "hovertemplate": "Months Since First Activity: %{x}<br>UTM Source: %{y}<br>Retention Rate (%): %{z}<extra></extra>",
         "name": "0",
         "texttemplate": "%{z:.1f}",
         "type": "heatmap",
         "x": [
          "Month 1",
          "Month 2",
          "Month 3",
          "Month 4",
          "Month 5",
          "Month 6"
         ],
         "xaxis": "x",
         "y": [
          "ActiveCampaign",
          "alexey_linkedin",
          "dtc_newsletter",
          "unknown"
         ],
         "yaxis": "y",
         "z": [
          [
           100,
           75,
           75,
           41.7,
           16.7,
           33.3
          ],
          [
           100,
           16.2,
           15.7,
           7.7,
           1.7,
           4
          ],
          [
           100,
           4.9,
           4.9,
           2.9,
           2.5,
           0.4
          ],
          [
           100,
           60.6,
           60.1,
           25.2,
           13.8,
           12
          ]
         ]
        }
       ],
       "layout": {
        "coloraxis": {
         "colorbar": {
          "title": {
           "text": "Retention Rate (%)"
          }
         },
         "colorscale": [
          [
           0,
           "rgb(165,0,38)"
          ],
          [
           0.1,
           "rgb(215,48,39)"
          ],
          [
           0.2,
           "rgb(244,109,67)"
          ],
          [
           0.3,
           "rgb(253,174,97)"
          ],
          [
           0.4,
           "rgb(254,224,139)"
          ],
          [
           0.5,
           "rgb(255,255,191)"
          ],
          [
           0.6,
           "rgb(217,239,139)"
          ],
          [
           0.7,
           "rgb(166,217,106)"
          ],
          [
           0.8,
           "rgb(102,189,99)"
          ],
          [
           0.9,
           "rgb(26,152,80)"
          ],
          [
           1,
           "rgb(0,104,55)"
          ]
         ]
        },
        "height": 400,
        "template": {
         "data": {
          "candlestick": [
           {
            "decreasing": {
             "line": {
              "color": "#000033"
             }
            },
            "increasing": {
             "line": {
              "color": "#000032"
             }
            },
            "type": "candlestick"
           }
          ],
          "contour": [
           {
            "colorscale": [
             [
              0,
              "#000011"
             ],
             [
              0.1111111111111111,
              "#000012"
             ],
             [
              0.2222222222222222,
              "#000013"
             ],
             [
              0.3333333333333333,
              "#000014"
             ],
             [
              0.4444444444444444,
              "#000015"
             ],
             [
              0.5555555555555556,
              "#000016"
             ],
             [
              0.6666666666666666,
              "#000017"
             ],
             [
              0.7777777777777778,
              "#000018"
             ],
             [
              0.8888888888888888,
              "#000019"
             ],
             [
              1,
              "#000020"
             ]
            ],
            "type": "contour"
           }
          ],
          "contourcarpet": [
           {
            "colorscale": [
             [
              0,
              "#000011"
             ],
             [
              0.1111111111111111,
              "#000012"
             ],
             [
              0.2222222222222222,
              "#000013"
             ],
             [
              0.3333333333333333,
              "#000014"
             ],
             [
              0.4444444444444444,
              "#000015"
             ],
             [
              0.5555555555555556,
              "#000016"
             ],
             [
              0.6666666666666666,
              "#000017"
             ],
             [
              0.7777777777777778,
              "#000018"
             ],
             [
              0.8888888888888888,
              "#000019"
             ],
             [
              1,
              "#000020"
             ]
            ],
            "type": "contourcarpet"
           }
          ],
          "heatmap": [
           {
            "colorscale": [
             [
              0,
              "#000011"
             ],
             [
              0.1111111111111111,
              "#000012"
             ],
             [
              0.2222222222222222,
              "#000013"
             ],
             [
              0.3333333333333333,
              "#000014"
             ],
             [
              0.4444444444444444,
              "#000015"
             ],
             [
              0.5555555555555556,
              "#000016"
             ],
             [
              0.6666666666666666,
              "#000017"
             ],
             [
              0.7777777777777778,
              "#000018"
             ],
             [
              0.8888888888888888,
              "#000019"
             ],
             [
              1,
              "#000020"
             ]
            ],
            "type": "heatmap"
           }
          ],
          "histogram2d": [
           {
            "colorscale": [
             [
              0,
              "#000011"
             ],
             [
              0.1111111111111111,
              "#000012"
             ],
             [
              0.2222222222222222,
              "#000013"
             ],
             [
              0.3333333333333333,
              "#000014"
             ],
             [
              0.4444444444444444,
              "#000015"
             ],
             [
              0.5555555555555556,
              "#000016"
             ],
             [
              0.6666666666666666,
              "#000017"
             ],
             [
              0.7777777777777778,
              "#000018"
             ],
             [
              0.8888888888888888,
              "#000019"
             ],
             [
              1,
              "#000020"
             ]
            ],
            "type": "histogram2d"
           }
          ],
          "icicle": [
           {
            "textfont": {
             "color": "white"
            },
            "type": "icicle"
           }
          ],
          "sankey": [
           {
            "textfont": {
             "color": "#000036"
            },
            "type": "sankey"
           }
          ],
          "scatter": [
           {
            "marker": {
             "line": {
              "width": 0
             }
            },
            "type": "scatter"
           }
          ],
          "table": [
           {
            "cells": {
             "fill": {
              "color": "#000038"
             },
             "font": {
              "color": "#000037"
             },
             "line": {
              "color": "#000039"
             }
            },
            "header": {
             "fill": {
              "color": "#000040"
             },
             "font": {
              "color": "#000036"
             },
             "line": {
              "color": "#000039"
             }
            },
            "type": "table"
           }
          ],
          "waterfall": [
           {
            "connector": {
             "line": {
              "color": "#000036",
              "width": 2
             }
            },
            "decreasing": {
             "marker": {
              "color": "#000033"
             }
            },
            "increasing": {
             "marker": {
              "color": "#000032"
             }
            },
            "totals": {
             "marker": {
              "color": "#000034"
             }
            },
            "type": "waterfall"
           }
          ]
         },
         "layout": {
          "coloraxis": {
           "colorscale": [
            [
             0,
             "#000011"
            ],
            [
             0.1111111111111111,
             "#000012"
            ],
            [
             0.2222222222222222,
             "#000013"
            ],
            [
             0.3333333333333333,
             "#000014"
            ],
            [
             0.4444444444444444,
             "#000015"
            ],
            [
             0.5555555555555556,
             "#000016"
            ],
            [
             0.6666666666666666,
             "#000017"
            ],
            [
             0.7777777777777778,
             "#000018"
            ],
            [
             0.8888888888888888,
             "#000019"
            ],
            [
             1,
             "#000020"
            ]
           ]
          },
          "colorscale": {
           "diverging": [
            [
             0,
             "#000021"
            ],
            [
             0.1,
             "#000022"
            ],
            [
             0.2,
             "#000023"
            ],
            [
             0.3,
             "#000024"
            ],
            [
             0.4,
             "#000025"
            ],
            [
             0.5,
             "#000026"
            ],
            [
             0.6,
             "#000027"
            ],
            [
             0.7,
             "#000028"
            ],
            [
             0.8,
             "#000029"
            ],
            [
             0.9,
             "#000030"
            ],
            [
             1,
             "#000031"
            ]
           ],
           "sequential": [
            [
             0,
             "#000011"
            ],
            [
             0.1111111111111111,
             "#000012"
            ],
            [
             0.2222222222222222,
             "#000013"
            ],
            [
             0.3333333333333333,
             "#000014"
            ],
            [
             0.4444444444444444,
             "#000015"
            ],
            [
             0.5555555555555556,
             "#000016"
            ],
            [
             0.6666666666666666,
             "#000017"
            ],
            [
             0.7777777777777778,
             "#000018"
            ],
            [
             0.8888888888888888,
             "#000019"
            ],
            [
             1,
             "#000020"
            ]
           ],
           "sequentialminus": [
            [
             0,
             "#000011"
            ],
            [
             0.1111111111111111,
             "#000012"
            ],
            [
             0.2222222222222222,
             "#000013"
            ],
            [
             0.3333333333333333,
             "#000014"
            ],
            [
             0.4444444444444444,
             "#000015"
            ],
            [
             0.5555555555555556,
             "#000016"
            ],
            [
             0.6666666666666666,
             "#000017"
            ],
            [
             0.7777777777777778,
             "#000018"
            ],
            [
             0.8888888888888888,
             "#000019"
            ],
            [
             1,
             "#000020"
            ]
           ]
          },
          "colorway": [
           "#000001",
           "#000002",
           "#000003",
           "#000004",
           "#000005",
           "#000006",
           "#000007",
           "#000008",
           "#000009",
           "#000010"
          ]
         }
        },
        "title": {
         "text": "Monthly Retention by UTM Source"
        },
        "xaxis": {
         "anchor": "y",
         "domain": [
          0,
          1
         ],
         "title": {
          "text": "Months Since First Activity"
         }
        },
        "yaxis": {
         "anchor": "x",
         "autorange": "reversed",
         "domain": [
          0,
          1
         ],
         "title": {
          "text": "UTM Source"
         }
        }
       }
      }
     },
     "metadata": {},
     "output_type": "display_data"
    },
    {
     "data": {
      "application/vnd.plotly.v1+json": {
       "config": {
        "plotlyServerURL": "https://plot.ly"
       },
       "data": [
        {
         "hovertemplate": "%{text}<extra></extra>",
         "line": {
          "color": "#636EFA"
         },
         "marker": {
          "color": "#636EFA"
         },
         "mode": "lines+markers",
         "name": "ActiveCampaign",
         "text": [
          "100.0%",
          "75.0%",
          "75.0%",
          "41.7%",
          "16.7%",
          "33.3%"
         ],
         "type": "scatter",
         "x": [
          1,
          2,
          3,
          4,
          5,
          6
         ],
         "y": [
          100,
          75,
          75,
          41.7,
          16.7,
          33.3
         ]
        },
        {
         "hovertemplate": "%{text}<extra></extra>",
         "line": {
          "color": "#EF553B"
         },
         "marker": {
          "color": "#EF553B"
         },
         "mode": "lines+markers",
         "name": "alexey_linkedin",
         "text": [
          "100.0%",
          "16.2%",
          "15.7%",
          "7.7%",
          "1.7%",
          "4.0%"
         ],
         "type": "scatter",
         "x": [
          1,
          2,
          3,
          4,
          5,
          6
         ],
         "y": [
          100,
          16.2,
          15.7,
          7.7,
          1.7,
          4
         ]
        },
        {
         "hovertemplate": "%{text}<extra></extra>",
         "line": {
          "color": "#00CC96"
         },
         "marker": {
          "color": "#00CC96"
         },
         "mode": "lines+markers",
         "name": "dtc_newsletter",
         "text": [
          "100.0%",
          "4.9%",
          "4.9%",
          "2.9%",
          "2.5%",
          "0.4%"
         ],
         "type": "scatter",
         "x": [
          1,
          2,
          3,
          4,
          5,
          6
         ],
         "y": [
          100,
          4.9,
          4.9,
          2.9,
          2.5,
          0.4
         ]
        },
        {
         "hovertemplate": "%{text}<extra></extra>",
         "line": {
          "color": "#AB63FA"
         },
         "marker": {
          "color": "#AB63FA"
         },
         "mode": "lines+markers",
         "name": "unknown",
         "text": [
          "100.0%",
          "60.6%",
          "60.1%",
          "25.2%",
          "13.8%",
          "12.0%"
         ],
         "type": "scatter",
         "x": [
          1,
          2,
          3,
          4,
          5,
          6
         ],
         "y": [
          100,
          60.6,
          60.1,
          25.2,
          13.8,
          12
         ]
        }
       ],
       "layout": {
        "height": 500,
        "legend": {
         "orientation": "h",
         "x": 1,
         "xanchor": "right",
         "y": 1.02,
         "yanchor": "bottom"
        },
        "template": {
         "data": {
          "candlestick": [
           {
            "decreasing": {
             "line": {
              "color": "#000033"
             }
            },
            "increasing": {
             "line": {
              "color": "#000032"
             }
            },
            "type": "candlestick"
           }
          ],
          "contour": [
           {
            "colorscale": [
             [
              0,
              "#000011"
             ],
             [
              0.1111111111111111,
              "#000012"
             ],
             [
              0.2222222222222222,
              "#000013"
             ],
             [
              0.3333333333333333,
              "#000014"
             ],
             [
              0.4444444444444444,
              "#000015"
             ],
             [
              0.5555555555555556,
              "#000016"
             ],
             [
              0.6666666666666666,
              "#000017"
             ],
             [
              0.7777777777777778,
              "#000018"
             ],
             [
              0.8888888888888888,
              "#000019"
             ],
             [
              1,
              "#000020"
             ]
            ],
            "type": "contour"
           }
          ],
          "contourcarpet": [
           {
            "colorscale": [
             [
              0,
              "#000011"
             ],
             [
              0.1111111111111111,
              "#000012"
             ],
             [
              0.2222222222222222,
              "#000013"
             ],
             [
              0.3333333333333333,
              "#000014"
             ],
             [
              0.4444444444444444,
              "#000015"
             ],
             [
              0.5555555555555556,
              "#000016"
             ],
             [
              0.6666666666666666,
              "#000017"
             ],
             [
              0.7777777777777778,
              "#000018"
             ],
             [
              0.8888888888888888,
              "#000019"
             ],
             [
              1,
              "#000020"
             ]
            ],
            "type": "contourcarpet"
           }
          ],
          "heatmap": [
           {
            "colorscale": [
             [
              0,
              "#000011"
             ],
             [
              0.1111111111111111,
              "#000012"
             ],
             [
              0.2222222222222222,
              "#000013"
             ],
             [
              0.3333333333333333,
              "#000014"
             ],
             [
              0.4444444444444444,
              "#000015"
             ],
             [
              0.5555555555555556,
              "#000016"
             ],
             [
              0.6666666666666666,
              "#000017"
             ],
             [
              0.7777777777777778,
              "#000018"
             ],
             [
              0.8888888888888888,
              "#000019"
             ],
             [
              1,
              "#000020"
             ]
            ],
            "type": "heatmap"
           }
          ],
          "histogram2d": [
           {
            "colorscale": [
             [
              0,
              "#000011"
             ],
             [
              0.1111111111111111,
              "#000012"
             ],
             [
              0.2222222222222222,
              "#000013"
             ],
             [
              0.3333333333333333,
              "#000014"
             ],
             [
              0.4444444444444444,
              "#000015"
             ],
             [
              0.5555555555555556,
              "#000016"
             ],
             [
              0.6666666666666666,
              "#000017"
             ],
             [
              0.7777777777777778,
              "#000018"
             ],
             [
              0.8888888888888888,
              "#000019"
             ],
             [
              1,
              "#000020"
             ]
            ],
            "type": "histogram2d"
           }
          ],
          "icicle": [
           {
            "textfont": {
             "color": "white"
            },
            "type": "icicle"
           }
          ],
          "sankey": [
           {
            "textfont": {
             "color": "#000036"
            },
            "type": "sankey"
           }
          ],
          "scatter": [
           {
            "marker": {
             "line": {
              "width": 0
             }
            },
            "type": "scatter"
           }
          ],
          "table": [
           {
            "cells": {
             "fill": {
              "color": "#000038"
             },
             "font": {
              "color": "#000037"
             },
             "line": {
              "color": "#000039"
             }
            },
            "header": {
             "fill": {
              "color": "#000040"
             },
             "font": {
              "color": "#000036"
             },
             "line": {
              "color": "#000039"
             }
            },
            "type": "table"
           }
          ],
          "waterfall": [
           {
            "connector": {
             "line": {
              "color": "#000036",
              "width": 2
             }
            },
            "decreasing": {
             "marker": {
              "color": "#000033"
             }
            },
            "increasing": {
             "marker": {
              "color": "#000032"
             }
            },
            "totals": {
             "marker": {
              "color": "#000034"
             }
            },
            "type": "waterfall"
           }
          ]
         },
         "layout": {
          "coloraxis": {
           "colorscale": [
            [
             0,
             "#000011"
            ],
            [
             0.1111111111111111,
             "#000012"
            ],
            [
             0.2222222222222222,
             "#000013"
            ],
            [
             0.3333333333333333,
             "#000014"
            ],
            [
             0.4444444444444444,
             "#000015"
            ],
            [
             0.5555555555555556,
             "#000016"
            ],
            [
             0.6666666666666666,
             "#000017"
            ],
            [
             0.7777777777777778,
             "#000018"
            ],
            [
             0.8888888888888888,
             "#000019"
            ],
            [
             1,
             "#000020"
            ]
           ]
          },
          "colorscale": {
           "diverging": [
            [
             0,
             "#000021"
            ],
            [
             0.1,
             "#000022"
            ],
            [
             0.2,
             "#000023"
            ],
            [
             0.3,
             "#000024"
            ],
            [
             0.4,
             "#000025"
            ],
            [
             0.5,
             "#000026"
            ],
            [
             0.6,
             "#000027"
            ],
            [
             0.7,
             "#000028"
            ],
            [
             0.8,
             "#000029"
            ],
            [
             0.9,
             "#000030"
            ],
            [
             1,
             "#000031"
            ]
           ],
           "sequential": [
            [
             0,
             "#000011"
            ],
            [
             0.1111111111111111,
             "#000012"
            ],
            [
             0.2222222222222222,
             "#000013"
            ],
            [
             0.3333333333333333,
             "#000014"
            ],
            [
             0.4444444444444444,
             "#000015"
            ],
            [
             0.5555555555555556,
             "#000016"
            ],
            [
             0.6666666666666666,
             "#000017"
            ],
            [
             0.7777777777777778,
             "#000018"
            ],
            [
             0.8888888888888888,
             "#000019"
            ],
            [
             1,
             "#000020"
            ]
           ],
           "sequentialminus": [
            [
             0,
             "#000011"
            ],
            [
             0.1111111111111111,
             "#000012"
            ],
            [
             0.2222222222222222,
             "#000013"
            ],
            [
             0.3333333333333333,
             "#000014"
            ],
            [
             0.4444444444444444,
             "#000015"
            ],
            [
             0.5555555555555556,
             "#000016"
            ],
            [
             0.6666666666666666,
             "#000017"
            ],
            [
             0.7777777777777778,
             "#000018"
            ],
            [
             0.8888888888888888,
             "#000019"
            ],
            [
             1,
             "#000020"
            ]
           ]
          },
          "colorway": [
           "#000001",
           "#000002",
           "#000003",
           "#000004",
           "#000005",
           "#000006",
           "#000007",
           "#000008",
           "#000009",
           "#000010"
          ]
         }
        },
        "title": {
         "text": "Monthly Retention Curves by UTM Source"
        },
        "xaxis": {
         "dtick": 1,
         "tick0": 1,
         "tickmode": "linear",
         "title": {
          "text": "Months Since First Activity"
         }
        },
        "yaxis": {
         "title": {
          "text": "Retention Rate (%)"
         }
        }
       }
      }
     },
     "metadata": {},
     "output_type": "display_data"
    }
   ],
   "source": [
    "def visualize_cohort_retention(conn, config):\n",
    "    \"\"\"\n",
    "    Visualize retention rates by week and month across different cohorts and UTM sources\n",
    "    \n",
    "    Args:\n",
    "        conn: DuckDB connection\n",
    "        config: Configuration dictionary with parameters\n",
    "    \"\"\"\n",
    "    # First creating a clean events view to handle invalid dates\n",
    "    clean_events_query = \"\"\"\n",
    "    CREATE OR REPLACE TEMPORARY VIEW clean_events AS\n",
    "    SELECT \n",
    "        contact_id,\n",
    "        event_id,\n",
    "        event_category,\n",
    "        CASE \n",
    "            WHEN TRY_CAST(event_date AS DATE) IS NOT NULL THEN TRY_CAST(event_date AS DATE)\n",
    "            ELSE NULL\n",
    "        END AS clean_date\n",
    "    FROM user_attribution.events\n",
    "    WHERE event_date IS NOT NULL\n",
    "    \"\"\"\n",
    "    \n",
    "    # SQL query for cohort retention analysis using clean dates\n",
    "    cohort_retention_query = \"\"\"\n",
    "    WITH user_first_activity AS (\n",
    "        -- Get each user's first activity date\n",
    "        SELECT\n",
    "            c.contact_id,\n",
    "            c.utm_source,\n",
    "            MIN(e.clean_date) AS first_date\n",
    "        FROM user_attribution.contacts c\n",
    "        JOIN clean_events e ON c.contact_id = e.contact_id\n",
    "        WHERE e.clean_date IS NOT NULL\n",
    "        GROUP BY c.contact_id, c.utm_source\n",
    "    ),\n",
    "    \n",
    "    user_activity_weeks AS (\n",
    "        -- Get each subsequent week of activity for each user\n",
    "        SELECT\n",
    "            u.contact_id,\n",
    "            u.utm_source,\n",
    "            u.first_date,\n",
    "            e.clean_date AS activity_date,\n",
    "            FLOOR(DATEDIFF('day', u.first_date, e.clean_date) / 7) AS week_number\n",
    "        FROM user_first_activity u\n",
    "        JOIN clean_events e ON u.contact_id = e.contact_id\n",
    "        WHERE e.clean_date IS NOT NULL\n",
    "        AND DATEDIFF('day', u.first_date, e.clean_date) >= 0\n",
    "        AND DATEDIFF('day', u.first_date, e.clean_date) <= 84 -- Track up to 12 weeks\n",
    "    ),\n",
    "    \n",
    "    user_activity_months AS (\n",
    "        -- Get each subsequent month of activity for each user\n",
    "        SELECT\n",
    "            u.contact_id,\n",
    "            u.utm_source,\n",
    "            u.first_date,\n",
    "            e.clean_date AS activity_date,\n",
    "            FLOOR(DATEDIFF('day', u.first_date, e.clean_date) / 30) AS month_number\n",
    "        FROM user_first_activity u\n",
    "        JOIN clean_events e ON u.contact_id = e.contact_id\n",
    "        WHERE e.clean_date IS NOT NULL\n",
    "        AND DATEDIFF('day', u.first_date, e.clean_date) >= 0\n",
    "        AND DATEDIFF('day', u.first_date, e.clean_date) <= 180 -- Track up to 6 months\n",
    "    ),\n",
    "    \n",
    "    weekly_retention AS (\n",
    "        -- Calculate weekly retention rates\n",
    "        SELECT\n",
    "            utm_source,\n",
    "            week_number,\n",
    "            COUNT(DISTINCT contact_id) AS active_users,\n",
    "            (SELECT COUNT(DISTINCT contact_id) FROM user_first_activity WHERE utm_source = w.utm_source) AS total_users,\n",
    "            ROUND(COUNT(DISTINCT contact_id) * 100.0 / \n",
    "                NULLIF((SELECT COUNT(DISTINCT contact_id) FROM user_first_activity WHERE utm_source = w.utm_source), 0), 1) AS retention_rate\n",
    "        FROM user_activity_weeks w\n",
    "        GROUP BY utm_source, week_number\n",
    "    ),\n",
    "    \n",
    "    monthly_retention AS (\n",
    "        -- Calculate monthly retention rates\n",
    "        SELECT\n",
    "            utm_source,\n",
    "            month_number,\n",
    "            COUNT(DISTINCT contact_id) AS active_users,\n",
    "            (SELECT COUNT(DISTINCT contact_id) FROM user_first_activity WHERE utm_source = m.utm_source) AS total_users,\n",
    "            ROUND(COUNT(DISTINCT contact_id) * 100.0 / \n",
    "                NULLIF((SELECT COUNT(DISTINCT contact_id) FROM user_first_activity WHERE utm_source = m.utm_source), 0), 1) AS retention_rate\n",
    "        FROM user_activity_months m\n",
    "        GROUP BY utm_source, month_number\n",
    "    )\n",
    "    \n",
    "    -- Select weekly retention\n",
    "    SELECT \n",
    "        'weekly' AS retention_type,\n",
    "        utm_source,\n",
    "        week_number AS period_number,\n",
    "        active_users,\n",
    "        total_users,\n",
    "        retention_rate\n",
    "    FROM weekly_retention\n",
    "    WHERE total_users >= 5  -- Minimum sample size\n",
    "    \n",
    "    UNION ALL\n",
    "    \n",
    "    -- Select monthly retention\n",
    "    SELECT \n",
    "        'monthly' AS retention_type,\n",
    "        utm_source,\n",
    "        month_number AS period_number,\n",
    "        active_users,\n",
    "        total_users,\n",
    "        retention_rate\n",
    "    FROM monthly_retention\n",
    "    WHERE total_users >= 5  -- Minimum sample size\n",
    "    \n",
    "    ORDER BY retention_type, utm_source, period_number\n",
    "    \"\"\"\n",
    "    \n",
    "    try:\n",
    "        conn.execute(clean_events_query)\n",
    "        \n",
    "        # Executing the query\n",
    "        retention_data = conn.execute(cohort_retention_query).fetchdf()\n",
    "        \n",
    "        if len(retention_data) == 0:\n",
    "            print(\"No sufficient retention data available for cohort analysis.\")\n",
    "            return\n",
    "        \n",
    "        # Split into weekly and monthly data\n",
    "        weekly_data = retention_data[retention_data['retention_type'] == 'weekly']\n",
    "        monthly_data = retention_data[retention_data['retention_type'] == 'monthly']\n",
    "        \n",
    "        # 1. Weekly retention heatmap\n",
    "        if len(weekly_data) > 0:\n",
    "            # Pivot the data\n",
    "            weekly_pivot = weekly_data.pivot(\n",
    "                index='utm_source', \n",
    "                columns='period_number', \n",
    "                values='retention_rate'\n",
    "            ).fillna(0)\n",
    "            \n",
    "            # Renaming columns for better readability\n",
    "            weekly_pivot.columns = [f'Week {int(col)+1}' for col in weekly_pivot.columns]\n",
    "            \n",
    "            # Creating a heatmap\n",
    "            fig = px.imshow(\n",
    "                weekly_pivot,\n",
    "                labels=dict(x=\"Weeks Since First Activity\", y=\"UTM Source\", color=\"Retention Rate (%)\"),\n",
    "                x=weekly_pivot.columns,\n",
    "                y=weekly_pivot.index,\n",
    "                color_continuous_scale='RdYlGn',\n",
    "                text_auto='.1f',\n",
    "                aspect='auto',\n",
    "                title='Weekly Retention by UTM Source'\n",
    "            )\n",
    "            fig.update_layout(height=max(400, len(weekly_pivot) * 40))\n",
    "            fig.show()\n",
    "            \n",
    "            # Line chart for weekly retention\n",
    "            fig = go.Figure()\n",
    "\n",
    "            color_palette = px.colors.qualitative.Plotly  \n",
    "            utm_sources = monthly_data['utm_source'].unique()\n",
    "            color_map = {source: color_palette[i % len(color_palette)] for i, source in enumerate(utm_sources)}\n",
    "            \n",
    "            for source in weekly_data['utm_source'].unique():\n",
    "                source_data = weekly_data[weekly_data['utm_source'] == source]\n",
    "                fig.add_trace(go.Scatter(\n",
    "                    x=source_data['period_number'] + 1,  # +1 for readability (Week 1, 2, etc.)\n",
    "                    y=source_data['retention_rate'],\n",
    "                    mode='lines+markers',\n",
    "                    name=source,\n",
    "                    line=dict(color=color_map[source]),\n",
    "                    marker=dict(color=color_map[source]),\n",
    "                    text=source_data['retention_rate'].apply(lambda x: f\"{x:.1f}%\"),\n",
    "                    hovertemplate='%{text}<extra></extra>'\n",
    "                ))\n",
    "            \n",
    "            fig.update_layout(\n",
    "                title='Weekly Retention Curves by UTM Source',\n",
    "                xaxis_title='Weeks Since First Activity',\n",
    "                yaxis_title='Retention Rate (%)',\n",
    "                xaxis=dict(tickmode='linear', tick0=1, dtick=1),\n",
    "                legend=dict(\n",
    "                    orientation=\"h\",\n",
    "                    yanchor=\"bottom\",\n",
    "                    y=1.02,\n",
    "                    xanchor=\"right\",\n",
    "                    x=1\n",
    "                ),\n",
    "                height=500\n",
    "            )\n",
    "            fig.show()\n",
    "        \n",
    "        # 2. Monthly retention heatmap\n",
    "        if len(monthly_data) > 0:\n",
    "            # Pivot the data\n",
    "            monthly_pivot = monthly_data.pivot(\n",
    "                index='utm_source', \n",
    "                columns='period_number', \n",
    "                values='retention_rate'\n",
    "            ).fillna(0)\n",
    "            \n",
    "            # Rename columns for better readability\n",
    "            monthly_pivot.columns = [f'Month {int(col)+1}' for col in monthly_pivot.columns]\n",
    "            \n",
    "            # Create heatmap\n",
    "            fig = px.imshow(\n",
    "                monthly_pivot,\n",
    "                labels=dict(x=\"Months Since First Activity\", y=\"UTM Source\", color=\"Retention Rate (%)\"),\n",
    "                x=monthly_pivot.columns,\n",
    "                y=monthly_pivot.index,\n",
    "                color_continuous_scale='RdYlGn',\n",
    "                text_auto='.1f',\n",
    "                aspect='auto',\n",
    "                title='Monthly Retention by UTM Source'\n",
    "            )\n",
    "            fig.update_layout(height=max(400, len(monthly_pivot) * 40))\n",
    "            fig.show()\n",
    "            \n",
    "            # Line chart for monthly retention\n",
    "            fig = go.Figure()\n",
    "            \n",
    "            for source in monthly_data['utm_source'].unique():\n",
    "                source_data = monthly_data[monthly_data['utm_source'] == source]\n",
    "                fig.add_trace(go.Scatter(\n",
    "                    x=source_data['period_number'] + 1,  # +1 for readability (Month 1, 2, etc.)\n",
    "                    y=source_data['retention_rate'],\n",
    "                    mode='lines+markers',\n",
    "                    name=source,\n",
    "                    line=dict(color=color_map[source]),\n",
    "                    marker=dict(color=color_map[source]),\n",
    "                    text=source_data['retention_rate'].apply(lambda x: f\"{x:.1f}%\"),\n",
    "                    hovertemplate='%{text}<extra></extra>'\n",
    "                ))\n",
    "            \n",
    "            fig.update_layout(\n",
    "                title='Monthly Retention Curves by UTM Source',\n",
    "                xaxis_title='Months Since First Activity',\n",
    "                yaxis_title='Retention Rate (%)',\n",
    "                xaxis=dict(tickmode='linear', tick0=1, dtick=1),\n",
    "                legend=dict(\n",
    "                    orientation=\"h\",\n",
    "                    yanchor=\"bottom\",\n",
    "                    y=1.02,\n",
    "                    xanchor=\"right\",\n",
    "                    x=1\n",
    "                ),\n",
    "                height=500\n",
    "            )\n",
    "            fig.show()\n",
    "                    \n",
    "    except Exception as e:\n",
    "        print(f\"Error generating cohort retention visualizations: {e}\")\n",
    "        import traceback\n",
    "        traceback.print_exc()\n",
    "\n",
    "# Call the function\n",
    "visualize_cohort_retention(conn, CONFIG)"
   ]
  },
  {
   "cell_type": "code",
   "execution_count": 18,
   "id": "a742add2",
   "metadata": {},
   "outputs": [
    {
     "name": "stdout",
     "output_type": "stream",
     "text": [
      "UTM SOURCE ACQUISITION TRENDS\n",
      "                      month       utm_source  new_users\n",
      "0 2024-08-01 00:00:00+02:00  alexey_linkedin          2\n",
      "1 2024-08-01 00:00:00+02:00          unknown         83\n",
      "2 2024-09-01 00:00:00+02:00   ActiveCampaign          2\n",
      "3 2024-09-01 00:00:00+02:00  alexey_linkedin          8\n",
      "4 2024-09-01 00:00:00+02:00   dtc_newsletter          2\n",
      "5 2024-09-01 00:00:00+02:00          unknown        339\n",
      "6 2024-10-01 00:00:00+02:00   ActiveCampaign          3\n",
      "7 2024-10-01 00:00:00+02:00      adrian_test          1\n",
      "8 2024-10-01 00:00:00+02:00  alexey_linkedin         11\n",
      "9 2024-10-01 00:00:00+02:00   dtc_newsletter          1\n"
     ]
    },
    {
     "data": {
      "application/vnd.plotly.v1+json": {
       "config": {
        "plotlyServerURL": "https://plot.ly"
       },
       "data": [
        {
         "hovertemplate": "UTM Source=alexey_linkedin<br>Month=%{x}<br>New Users Acquired=%{y}<extra></extra>",
         "legendgroup": "alexey_linkedin",
         "line": {
          "color": "rgb(127, 60, 141)",
          "dash": "solid"
         },
         "marker": {
          "symbol": "circle"
         },
         "mode": "lines+markers",
         "name": "alexey_linkedin",
         "orientation": "v",
         "showlegend": true,
         "type": "scatter",
         "x": [
          "2024-08-01T00:00:00+02:00",
          "2024-09-01T00:00:00+02:00",
          "2024-10-01T00:00:00+02:00",
          "2024-11-01T00:00:00+01:00",
          "2024-12-01T00:00:00+01:00",
          "2025-01-01T00:00:00+01:00",
          "2025-02-01T00:00:00+01:00",
          "2025-03-01T00:00:00+01:00",
          "2025-04-01T00:00:00+02:00",
          "2025-05-01T00:00:00+02:00",
          "2025-06-01T00:00:00+02:00",
          "2025-07-01T00:00:00+02:00",
          "2025-08-01T00:00:00+02:00",
          "2025-09-01T00:00:00+02:00"
         ],
         "xaxis": "x",
         "y": [
          2,
          8,
          11,
          3,
          13,
          9,
          3,
          6,
          1,
          4,
          295,
          45,
          2,
          1
         ],
         "yaxis": "y"
        },
        {
         "hovertemplate": "UTM Source=unknown<br>Month=%{x}<br>New Users Acquired=%{y}<extra></extra>",
         "legendgroup": "unknown",
         "line": {
          "color": "rgb(17, 165, 121)",
          "dash": "solid"
         },
         "marker": {
          "symbol": "circle"
         },
         "mode": "lines+markers",
         "name": "unknown",
         "orientation": "v",
         "showlegend": true,
         "type": "scatter",
         "x": [
          "2024-08-01T00:00:00+02:00",
          "2024-09-01T00:00:00+02:00",
          "2024-10-01T00:00:00+02:00",
          "2024-11-01T00:00:00+01:00",
          "2024-12-01T00:00:00+01:00",
          "2025-01-01T00:00:00+01:00",
          "2025-02-01T00:00:00+01:00",
          "2025-03-01T00:00:00+01:00",
          "2025-04-01T00:00:00+02:00",
          "2025-05-01T00:00:00+02:00",
          "2025-06-01T00:00:00+02:00",
          "2025-07-01T00:00:00+02:00",
          "2025-08-01T00:00:00+02:00",
          "2025-09-01T00:00:00+02:00"
         ],
         "xaxis": "x",
         "y": [
          83,
          339,
          403,
          104,
          378,
          164,
          32,
          106,
          67,
          61,
          106,
          69,
          31,
          58
         ],
         "yaxis": "y"
        },
        {
         "hovertemplate": "UTM Source=ActiveCampaign<br>Month=%{x}<br>New Users Acquired=%{y}<extra></extra>",
         "legendgroup": "ActiveCampaign",
         "line": {
          "color": "rgb(57, 105, 172)",
          "dash": "solid"
         },
         "marker": {
          "symbol": "circle"
         },
         "mode": "lines+markers",
         "name": "ActiveCampaign",
         "orientation": "v",
         "showlegend": true,
         "type": "scatter",
         "x": [
          "2024-09-01T00:00:00+02:00",
          "2024-10-01T00:00:00+02:00",
          "2024-12-01T00:00:00+01:00",
          "2025-01-01T00:00:00+01:00",
          "2025-03-01T00:00:00+01:00",
          "2025-04-01T00:00:00+02:00",
          "2025-06-01T00:00:00+02:00"
         ],
         "xaxis": "x",
         "y": [
          2,
          3,
          1,
          2,
          1,
          1,
          2
         ],
         "yaxis": "y"
        },
        {
         "hovertemplate": "UTM Source=dtc_newsletter<br>Month=%{x}<br>New Users Acquired=%{y}<extra></extra>",
         "legendgroup": "dtc_newsletter",
         "line": {
          "color": "rgb(242, 183, 1)",
          "dash": "solid"
         },
         "marker": {
          "symbol": "circle"
         },
         "mode": "lines+markers",
         "name": "dtc_newsletter",
         "orientation": "v",
         "showlegend": true,
         "type": "scatter",
         "x": [
          "2024-09-01T00:00:00+02:00",
          "2024-10-01T00:00:00+02:00",
          "2024-11-01T00:00:00+01:00",
          "2024-12-01T00:00:00+01:00",
          "2025-01-01T00:00:00+01:00",
          "2025-04-01T00:00:00+02:00",
          "2025-06-01T00:00:00+02:00",
          "2025-07-01T00:00:00+02:00",
          "2025-08-01T00:00:00+02:00",
          "2025-09-01T00:00:00+02:00"
         ],
         "xaxis": "x",
         "y": [
          2,
          1,
          2,
          1,
          2,
          1,
          179,
          54,
          1,
          2
         ],
         "yaxis": "y"
        },
        {
         "hovertemplate": "UTM Source=adrian_test<br>Month=%{x}<br>New Users Acquired=%{y}<extra></extra>",
         "legendgroup": "adrian_test",
         "line": {
          "color": "rgb(231, 63, 116)",
          "dash": "solid"
         },
         "marker": {
          "symbol": "circle"
         },
         "mode": "lines+markers",
         "name": "adrian_test",
         "orientation": "v",
         "showlegend": true,
         "type": "scatter",
         "x": [
          "2024-10-01T00:00:00+02:00",
          "2025-06-01T00:00:00+02:00"
         ],
         "xaxis": "x",
         "y": [
          1,
          1
         ],
         "yaxis": "y"
        },
        {
         "hovertemplate": "UTM Source=chatgpt.com<br>Month=%{x}<br>New Users Acquired=%{y}<extra></extra>",
         "legendgroup": "chatgpt.com",
         "line": {
          "color": "rgb(128, 186, 90)",
          "dash": "solid"
         },
         "marker": {
          "symbol": "circle"
         },
         "mode": "lines+markers",
         "name": "chatgpt.com",
         "orientation": "v",
         "showlegend": true,
         "type": "scatter",
         "x": [
          "2025-08-01T00:00:00+02:00"
         ],
         "xaxis": "x",
         "y": [
          1
         ],
         "yaxis": "y"
        }
       ],
       "layout": {
        "height": 600,
        "legend": {
         "title": {
          "text": "UTM Source"
         },
         "tracegroupgap": 0
        },
        "template": {
         "data": {
          "candlestick": [
           {
            "decreasing": {
             "line": {
              "color": "#000033"
             }
            },
            "increasing": {
             "line": {
              "color": "#000032"
             }
            },
            "type": "candlestick"
           }
          ],
          "contour": [
           {
            "colorscale": [
             [
              0,
              "#000011"
             ],
             [
              0.1111111111111111,
              "#000012"
             ],
             [
              0.2222222222222222,
              "#000013"
             ],
             [
              0.3333333333333333,
              "#000014"
             ],
             [
              0.4444444444444444,
              "#000015"
             ],
             [
              0.5555555555555556,
              "#000016"
             ],
             [
              0.6666666666666666,
              "#000017"
             ],
             [
              0.7777777777777778,
              "#000018"
             ],
             [
              0.8888888888888888,
              "#000019"
             ],
             [
              1,
              "#000020"
             ]
            ],
            "type": "contour"
           }
          ],
          "contourcarpet": [
           {
            "colorscale": [
             [
              0,
              "#000011"
             ],
             [
              0.1111111111111111,
              "#000012"
             ],
             [
              0.2222222222222222,
              "#000013"
             ],
             [
              0.3333333333333333,
              "#000014"
             ],
             [
              0.4444444444444444,
              "#000015"
             ],
             [
              0.5555555555555556,
              "#000016"
             ],
             [
              0.6666666666666666,
              "#000017"
             ],
             [
              0.7777777777777778,
              "#000018"
             ],
             [
              0.8888888888888888,
              "#000019"
             ],
             [
              1,
              "#000020"
             ]
            ],
            "type": "contourcarpet"
           }
          ],
          "heatmap": [
           {
            "colorscale": [
             [
              0,
              "#000011"
             ],
             [
              0.1111111111111111,
              "#000012"
             ],
             [
              0.2222222222222222,
              "#000013"
             ],
             [
              0.3333333333333333,
              "#000014"
             ],
             [
              0.4444444444444444,
              "#000015"
             ],
             [
              0.5555555555555556,
              "#000016"
             ],
             [
              0.6666666666666666,
              "#000017"
             ],
             [
              0.7777777777777778,
              "#000018"
             ],
             [
              0.8888888888888888,
              "#000019"
             ],
             [
              1,
              "#000020"
             ]
            ],
            "type": "heatmap"
           }
          ],
          "histogram2d": [
           {
            "colorscale": [
             [
              0,
              "#000011"
             ],
             [
              0.1111111111111111,
              "#000012"
             ],
             [
              0.2222222222222222,
              "#000013"
             ],
             [
              0.3333333333333333,
              "#000014"
             ],
             [
              0.4444444444444444,
              "#000015"
             ],
             [
              0.5555555555555556,
              "#000016"
             ],
             [
              0.6666666666666666,
              "#000017"
             ],
             [
              0.7777777777777778,
              "#000018"
             ],
             [
              0.8888888888888888,
              "#000019"
             ],
             [
              1,
              "#000020"
             ]
            ],
            "type": "histogram2d"
           }
          ],
          "icicle": [
           {
            "textfont": {
             "color": "white"
            },
            "type": "icicle"
           }
          ],
          "sankey": [
           {
            "textfont": {
             "color": "#000036"
            },
            "type": "sankey"
           }
          ],
          "scatter": [
           {
            "marker": {
             "line": {
              "width": 0
             }
            },
            "type": "scatter"
           }
          ],
          "table": [
           {
            "cells": {
             "fill": {
              "color": "#000038"
             },
             "font": {
              "color": "#000037"
             },
             "line": {
              "color": "#000039"
             }
            },
            "header": {
             "fill": {
              "color": "#000040"
             },
             "font": {
              "color": "#000036"
             },
             "line": {
              "color": "#000039"
             }
            },
            "type": "table"
           }
          ],
          "waterfall": [
           {
            "connector": {
             "line": {
              "color": "#000036",
              "width": 2
             }
            },
            "decreasing": {
             "marker": {
              "color": "#000033"
             }
            },
            "increasing": {
             "marker": {
              "color": "#000032"
             }
            },
            "totals": {
             "marker": {
              "color": "#000034"
             }
            },
            "type": "waterfall"
           }
          ]
         },
         "layout": {
          "coloraxis": {
           "colorscale": [
            [
             0,
             "#000011"
            ],
            [
             0.1111111111111111,
             "#000012"
            ],
            [
             0.2222222222222222,
             "#000013"
            ],
            [
             0.3333333333333333,
             "#000014"
            ],
            [
             0.4444444444444444,
             "#000015"
            ],
            [
             0.5555555555555556,
             "#000016"
            ],
            [
             0.6666666666666666,
             "#000017"
            ],
            [
             0.7777777777777778,
             "#000018"
            ],
            [
             0.8888888888888888,
             "#000019"
            ],
            [
             1,
             "#000020"
            ]
           ]
          },
          "colorscale": {
           "diverging": [
            [
             0,
             "#000021"
            ],
            [
             0.1,
             "#000022"
            ],
            [
             0.2,
             "#000023"
            ],
            [
             0.3,
             "#000024"
            ],
            [
             0.4,
             "#000025"
            ],
            [
             0.5,
             "#000026"
            ],
            [
             0.6,
             "#000027"
            ],
            [
             0.7,
             "#000028"
            ],
            [
             0.8,
             "#000029"
            ],
            [
             0.9,
             "#000030"
            ],
            [
             1,
             "#000031"
            ]
           ],
           "sequential": [
            [
             0,
             "#000011"
            ],
            [
             0.1111111111111111,
             "#000012"
            ],
            [
             0.2222222222222222,
             "#000013"
            ],
            [
             0.3333333333333333,
             "#000014"
            ],
            [
             0.4444444444444444,
             "#000015"
            ],
            [
             0.5555555555555556,
             "#000016"
            ],
            [
             0.6666666666666666,
             "#000017"
            ],
            [
             0.7777777777777778,
             "#000018"
            ],
            [
             0.8888888888888888,
             "#000019"
            ],
            [
             1,
             "#000020"
            ]
           ],
           "sequentialminus": [
            [
             0,
             "#000011"
            ],
            [
             0.1111111111111111,
             "#000012"
            ],
            [
             0.2222222222222222,
             "#000013"
            ],
            [
             0.3333333333333333,
             "#000014"
            ],
            [
             0.4444444444444444,
             "#000015"
            ],
            [
             0.5555555555555556,
             "#000016"
            ],
            [
             0.6666666666666666,
             "#000017"
            ],
            [
             0.7777777777777778,
             "#000018"
            ],
            [
             0.8888888888888888,
             "#000019"
            ],
            [
             1,
             "#000020"
            ]
           ]
          },
          "colorway": [
           "#000001",
           "#000002",
           "#000003",
           "#000004",
           "#000005",
           "#000006",
           "#000007",
           "#000008",
           "#000009",
           "#000010"
          ]
         }
        },
        "title": {
         "text": "UTM Source Acquisition Trends Over Time"
        },
        "xaxis": {
         "anchor": "y",
         "domain": [
          0,
          1
         ],
         "title": {
          "text": "Month"
         }
        },
        "yaxis": {
         "anchor": "x",
         "domain": [
          0,
          1
         ],
         "title": {
          "text": "New Users Acquired"
         }
        }
       }
      }
     },
     "metadata": {},
     "output_type": "display_data"
    },
    {
     "data": {
      "application/vnd.plotly.v1+json": {
       "config": {
        "plotlyServerURL": "https://plot.ly"
       },
       "data": [
        {
         "alignmentgroup": "True",
         "hovertemplate": "UTM Source=alexey_linkedin<br>Month=%{x}<br>New Users Acquired=%{y}<extra></extra>",
         "legendgroup": "alexey_linkedin",
         "marker": {
          "color": "rgb(127, 60, 141)",
          "pattern": {
           "shape": ""
          }
         },
         "name": "alexey_linkedin",
         "offsetgroup": "alexey_linkedin",
         "orientation": "v",
         "showlegend": true,
         "textposition": "auto",
         "type": "bar",
         "x": [
          "2024-08-01T00:00:00+02:00",
          "2024-09-01T00:00:00+02:00",
          "2024-10-01T00:00:00+02:00",
          "2024-11-01T00:00:00+01:00",
          "2024-12-01T00:00:00+01:00",
          "2025-01-01T00:00:00+01:00",
          "2025-02-01T00:00:00+01:00",
          "2025-03-01T00:00:00+01:00",
          "2025-04-01T00:00:00+02:00",
          "2025-05-01T00:00:00+02:00",
          "2025-06-01T00:00:00+02:00",
          "2025-07-01T00:00:00+02:00",
          "2025-08-01T00:00:00+02:00",
          "2025-09-01T00:00:00+02:00"
         ],
         "xaxis": "x",
         "y": [
          2,
          8,
          11,
          3,
          13,
          9,
          3,
          6,
          1,
          4,
          295,
          45,
          2,
          1
         ],
         "yaxis": "y"
        },
        {
         "alignmentgroup": "True",
         "hovertemplate": "UTM Source=unknown<br>Month=%{x}<br>New Users Acquired=%{y}<extra></extra>",
         "legendgroup": "unknown",
         "marker": {
          "color": "rgb(17, 165, 121)",
          "pattern": {
           "shape": ""
          }
         },
         "name": "unknown",
         "offsetgroup": "unknown",
         "orientation": "v",
         "showlegend": true,
         "textposition": "auto",
         "type": "bar",
         "x": [
          "2024-08-01T00:00:00+02:00",
          "2024-09-01T00:00:00+02:00",
          "2024-10-01T00:00:00+02:00",
          "2024-11-01T00:00:00+01:00",
          "2024-12-01T00:00:00+01:00",
          "2025-01-01T00:00:00+01:00",
          "2025-02-01T00:00:00+01:00",
          "2025-03-01T00:00:00+01:00",
          "2025-04-01T00:00:00+02:00",
          "2025-05-01T00:00:00+02:00",
          "2025-06-01T00:00:00+02:00",
          "2025-07-01T00:00:00+02:00",
          "2025-08-01T00:00:00+02:00",
          "2025-09-01T00:00:00+02:00"
         ],
         "xaxis": "x",
         "y": [
          83,
          339,
          403,
          104,
          378,
          164,
          32,
          106,
          67,
          61,
          106,
          69,
          31,
          58
         ],
         "yaxis": "y"
        },
        {
         "alignmentgroup": "True",
         "hovertemplate": "UTM Source=ActiveCampaign<br>Month=%{x}<br>New Users Acquired=%{y}<extra></extra>",
         "legendgroup": "ActiveCampaign",
         "marker": {
          "color": "rgb(57, 105, 172)",
          "pattern": {
           "shape": ""
          }
         },
         "name": "ActiveCampaign",
         "offsetgroup": "ActiveCampaign",
         "orientation": "v",
         "showlegend": true,
         "textposition": "auto",
         "type": "bar",
         "x": [
          "2024-09-01T00:00:00+02:00",
          "2024-10-01T00:00:00+02:00",
          "2024-12-01T00:00:00+01:00",
          "2025-01-01T00:00:00+01:00",
          "2025-03-01T00:00:00+01:00",
          "2025-04-01T00:00:00+02:00",
          "2025-06-01T00:00:00+02:00"
         ],
         "xaxis": "x",
         "y": [
          2,
          3,
          1,
          2,
          1,
          1,
          2
         ],
         "yaxis": "y"
        },
        {
         "alignmentgroup": "True",
         "hovertemplate": "UTM Source=dtc_newsletter<br>Month=%{x}<br>New Users Acquired=%{y}<extra></extra>",
         "legendgroup": "dtc_newsletter",
         "marker": {
          "color": "rgb(242, 183, 1)",
          "pattern": {
           "shape": ""
          }
         },
         "name": "dtc_newsletter",
         "offsetgroup": "dtc_newsletter",
         "orientation": "v",
         "showlegend": true,
         "textposition": "auto",
         "type": "bar",
         "x": [
          "2024-09-01T00:00:00+02:00",
          "2024-10-01T00:00:00+02:00",
          "2024-11-01T00:00:00+01:00",
          "2024-12-01T00:00:00+01:00",
          "2025-01-01T00:00:00+01:00",
          "2025-04-01T00:00:00+02:00",
          "2025-06-01T00:00:00+02:00",
          "2025-07-01T00:00:00+02:00",
          "2025-08-01T00:00:00+02:00",
          "2025-09-01T00:00:00+02:00"
         ],
         "xaxis": "x",
         "y": [
          2,
          1,
          2,
          1,
          2,
          1,
          179,
          54,
          1,
          2
         ],
         "yaxis": "y"
        },
        {
         "alignmentgroup": "True",
         "hovertemplate": "UTM Source=adrian_test<br>Month=%{x}<br>New Users Acquired=%{y}<extra></extra>",
         "legendgroup": "adrian_test",
         "marker": {
          "color": "rgb(231, 63, 116)",
          "pattern": {
           "shape": ""
          }
         },
         "name": "adrian_test",
         "offsetgroup": "adrian_test",
         "orientation": "v",
         "showlegend": true,
         "textposition": "auto",
         "type": "bar",
         "x": [
          "2024-10-01T00:00:00+02:00",
          "2025-06-01T00:00:00+02:00"
         ],
         "xaxis": "x",
         "y": [
          1,
          1
         ],
         "yaxis": "y"
        },
        {
         "alignmentgroup": "True",
         "hovertemplate": "UTM Source=chatgpt.com<br>Month=%{x}<br>New Users Acquired=%{y}<extra></extra>",
         "legendgroup": "chatgpt.com",
         "marker": {
          "color": "rgb(128, 186, 90)",
          "pattern": {
           "shape": ""
          }
         },
         "name": "chatgpt.com",
         "offsetgroup": "chatgpt.com",
         "orientation": "v",
         "showlegend": true,
         "textposition": "auto",
         "type": "bar",
         "x": [
          "2025-08-01T00:00:00+02:00"
         ],
         "xaxis": "x",
         "y": [
          1
         ],
         "yaxis": "y"
        }
       ],
       "layout": {
        "bargap": 0.1,
        "barmode": "relative",
        "height": 600,
        "legend": {
         "title": {
          "text": "UTM Source"
         },
         "tracegroupgap": 0
        },
        "template": {
         "data": {
          "candlestick": [
           {
            "decreasing": {
             "line": {
              "color": "#000033"
             }
            },
            "increasing": {
             "line": {
              "color": "#000032"
             }
            },
            "type": "candlestick"
           }
          ],
          "contour": [
           {
            "colorscale": [
             [
              0,
              "#000011"
             ],
             [
              0.1111111111111111,
              "#000012"
             ],
             [
              0.2222222222222222,
              "#000013"
             ],
             [
              0.3333333333333333,
              "#000014"
             ],
             [
              0.4444444444444444,
              "#000015"
             ],
             [
              0.5555555555555556,
              "#000016"
             ],
             [
              0.6666666666666666,
              "#000017"
             ],
             [
              0.7777777777777778,
              "#000018"
             ],
             [
              0.8888888888888888,
              "#000019"
             ],
             [
              1,
              "#000020"
             ]
            ],
            "type": "contour"
           }
          ],
          "contourcarpet": [
           {
            "colorscale": [
             [
              0,
              "#000011"
             ],
             [
              0.1111111111111111,
              "#000012"
             ],
             [
              0.2222222222222222,
              "#000013"
             ],
             [
              0.3333333333333333,
              "#000014"
             ],
             [
              0.4444444444444444,
              "#000015"
             ],
             [
              0.5555555555555556,
              "#000016"
             ],
             [
              0.6666666666666666,
              "#000017"
             ],
             [
              0.7777777777777778,
              "#000018"
             ],
             [
              0.8888888888888888,
              "#000019"
             ],
             [
              1,
              "#000020"
             ]
            ],
            "type": "contourcarpet"
           }
          ],
          "heatmap": [
           {
            "colorscale": [
             [
              0,
              "#000011"
             ],
             [
              0.1111111111111111,
              "#000012"
             ],
             [
              0.2222222222222222,
              "#000013"
             ],
             [
              0.3333333333333333,
              "#000014"
             ],
             [
              0.4444444444444444,
              "#000015"
             ],
             [
              0.5555555555555556,
              "#000016"
             ],
             [
              0.6666666666666666,
              "#000017"
             ],
             [
              0.7777777777777778,
              "#000018"
             ],
             [
              0.8888888888888888,
              "#000019"
             ],
             [
              1,
              "#000020"
             ]
            ],
            "type": "heatmap"
           }
          ],
          "histogram2d": [
           {
            "colorscale": [
             [
              0,
              "#000011"
             ],
             [
              0.1111111111111111,
              "#000012"
             ],
             [
              0.2222222222222222,
              "#000013"
             ],
             [
              0.3333333333333333,
              "#000014"
             ],
             [
              0.4444444444444444,
              "#000015"
             ],
             [
              0.5555555555555556,
              "#000016"
             ],
             [
              0.6666666666666666,
              "#000017"
             ],
             [
              0.7777777777777778,
              "#000018"
             ],
             [
              0.8888888888888888,
              "#000019"
             ],
             [
              1,
              "#000020"
             ]
            ],
            "type": "histogram2d"
           }
          ],
          "icicle": [
           {
            "textfont": {
             "color": "white"
            },
            "type": "icicle"
           }
          ],
          "sankey": [
           {
            "textfont": {
             "color": "#000036"
            },
            "type": "sankey"
           }
          ],
          "scatter": [
           {
            "marker": {
             "line": {
              "width": 0
             }
            },
            "type": "scatter"
           }
          ],
          "table": [
           {
            "cells": {
             "fill": {
              "color": "#000038"
             },
             "font": {
              "color": "#000037"
             },
             "line": {
              "color": "#000039"
             }
            },
            "header": {
             "fill": {
              "color": "#000040"
             },
             "font": {
              "color": "#000036"
             },
             "line": {
              "color": "#000039"
             }
            },
            "type": "table"
           }
          ],
          "waterfall": [
           {
            "connector": {
             "line": {
              "color": "#000036",
              "width": 2
             }
            },
            "decreasing": {
             "marker": {
              "color": "#000033"
             }
            },
            "increasing": {
             "marker": {
              "color": "#000032"
             }
            },
            "totals": {
             "marker": {
              "color": "#000034"
             }
            },
            "type": "waterfall"
           }
          ]
         },
         "layout": {
          "coloraxis": {
           "colorscale": [
            [
             0,
             "#000011"
            ],
            [
             0.1111111111111111,
             "#000012"
            ],
            [
             0.2222222222222222,
             "#000013"
            ],
            [
             0.3333333333333333,
             "#000014"
            ],
            [
             0.4444444444444444,
             "#000015"
            ],
            [
             0.5555555555555556,
             "#000016"
            ],
            [
             0.6666666666666666,
             "#000017"
            ],
            [
             0.7777777777777778,
             "#000018"
            ],
            [
             0.8888888888888888,
             "#000019"
            ],
            [
             1,
             "#000020"
            ]
           ]
          },
          "colorscale": {
           "diverging": [
            [
             0,
             "#000021"
            ],
            [
             0.1,
             "#000022"
            ],
            [
             0.2,
             "#000023"
            ],
            [
             0.3,
             "#000024"
            ],
            [
             0.4,
             "#000025"
            ],
            [
             0.5,
             "#000026"
            ],
            [
             0.6,
             "#000027"
            ],
            [
             0.7,
             "#000028"
            ],
            [
             0.8,
             "#000029"
            ],
            [
             0.9,
             "#000030"
            ],
            [
             1,
             "#000031"
            ]
           ],
           "sequential": [
            [
             0,
             "#000011"
            ],
            [
             0.1111111111111111,
             "#000012"
            ],
            [
             0.2222222222222222,
             "#000013"
            ],
            [
             0.3333333333333333,
             "#000014"
            ],
            [
             0.4444444444444444,
             "#000015"
            ],
            [
             0.5555555555555556,
             "#000016"
            ],
            [
             0.6666666666666666,
             "#000017"
            ],
            [
             0.7777777777777778,
             "#000018"
            ],
            [
             0.8888888888888888,
             "#000019"
            ],
            [
             1,
             "#000020"
            ]
           ],
           "sequentialminus": [
            [
             0,
             "#000011"
            ],
            [
             0.1111111111111111,
             "#000012"
            ],
            [
             0.2222222222222222,
             "#000013"
            ],
            [
             0.3333333333333333,
             "#000014"
            ],
            [
             0.4444444444444444,
             "#000015"
            ],
            [
             0.5555555555555556,
             "#000016"
            ],
            [
             0.6666666666666666,
             "#000017"
            ],
            [
             0.7777777777777778,
             "#000018"
            ],
            [
             0.8888888888888888,
             "#000019"
            ],
            [
             1,
             "#000020"
            ]
           ]
          },
          "colorway": [
           "#000001",
           "#000002",
           "#000003",
           "#000004",
           "#000005",
           "#000006",
           "#000007",
           "#000008",
           "#000009",
           "#000010"
          ]
         }
        },
        "title": {
         "text": "Monthly User Acquisition by UTM Source"
        },
        "xaxis": {
         "anchor": "y",
         "domain": [
          0,
          1
         ],
         "title": {
          "text": "Month"
         }
        },
        "yaxis": {
         "anchor": "x",
         "domain": [
          0,
          1
         ],
         "title": {
          "text": "New Users Acquired"
         }
        }
       }
      }
     },
     "metadata": {},
     "output_type": "display_data"
    }
   ],
   "source": [
    "# Query to get UTM source acquisition over time\n",
    "utm_trends_query = \"\"\"\n",
    "SELECT \n",
    "    DATE_TRUNC('month', c.first_seen_at) as month,\n",
    "    c.utm_source,\n",
    "    COUNT(DISTINCT c.contact_id) as new_users\n",
    "FROM user_attribution.contacts c\n",
    "WHERE c.first_seen_at IS NOT NULL\n",
    "GROUP BY DATE_TRUNC('month', c.first_seen_at), c.utm_source\n",
    "ORDER BY month, utm_source\n",
    "\"\"\"\n",
    "\n",
    "try:\n",
    "    utm_trends = conn.execute(utm_trends_query).fetchdf()\n",
    "    \n",
    "    # Filter to sources with meaningful data (optional)\n",
    "    if len(utm_trends) > 0:\n",
    "        # Print the data\n",
    "        print(\"UTM SOURCE ACQUISITION TRENDS\")\n",
    "        print(utm_trends.head(10))\n",
    "        \n",
    "        # Line chart showing the same data\n",
    "        fig = px.line(\n",
    "            utm_trends,\n",
    "            x='month',\n",
    "            y='new_users',\n",
    "            color='utm_source',\n",
    "            title='UTM Source Acquisition Trends Over Time',\n",
    "            labels={\n",
    "                'month': 'Month',\n",
    "                'new_users': 'New Users Acquired',\n",
    "                'utm_source': 'UTM Source'\n",
    "            },\n",
    "            markers=True,\n",
    "            color_discrete_sequence=px.colors.qualitative.Bold,\n",
    "        )\n",
    "        fig.update_layout(height=600)\n",
    "        fig.show()\n",
    "\n",
    "        # Stacked bar chart, clearer for monthly data\n",
    "        fig = px.bar(\n",
    "            utm_trends,\n",
    "            x='month',\n",
    "            y='new_users',\n",
    "            color='utm_source',\n",
    "            title='Monthly User Acquisition by UTM Source',\n",
    "            labels={\n",
    "                'month': 'Month',\n",
    "                'new_users': 'New Users Acquired',\n",
    "                'utm_source': 'UTM Source'\n",
    "            },\n",
    "            color_discrete_sequence=px.colors.qualitative.Bold,\n",
    "        )\n",
    "        fig.update_layout(height=600, bargap=0.1)\n",
    "        fig.show()\n",
    "except Exception as e:\n",
    "    print(f\"Error generating UTM trends visualization: {e}\")"
   ]
  },
  {
   "cell_type": "markdown",
   "id": "a3f692e6",
   "metadata": {},
   "source": [
    "### The t-test tells you if two groups are different.\n",
    "### The p-value tells you how likely it is that the difference is due to random chance.\n",
    "T-statistic: The high t-value (4.448) indicates a large standardized difference between the groups. The gap between ActiveCampaign's average (54.25 events) and unknown sources' average (16.95 events) is substantial and meaningful.\n",
    "P-Value: An extremely small p-value (<0.0001) indicates the difference is almost certainly not due to random chance. We can be very confident (>99.99%) that ActiveCampaign users genuinely engage more with the product than users from unknown sources.\n",
    "\n",
    "This test provides strong statistical evidence that ActiveCampaign is a significantly higher-quality acquisition source that drives much better user engagement.\n",
    "\n",
    "Similarly other sources can be tested statistically."
   ]
  },
  {
   "cell_type": "code",
   "execution_count": 19,
   "id": "c9eed354",
   "metadata": {},
   "outputs": [
    {
     "name": "stdout",
     "output_type": "stream",
     "text": [
      "\n",
      "STATISTICAL SIGNIFICANCE TEST\n",
      "Comparing: 'ActiveCampaign' vs 'unknown'\n",
      "  ActiveCampaign: Mean events = 54.25, N = 12\n",
      "  unknown: Mean events = 16.95, N = 2001\n",
      "  T-statistic: 5.3380\n",
      "  P-value: 0.0000\n",
      "  Result: SIGNIFICANT (p < 0.05)\n"
     ]
    }
   ],
   "source": [
    "# Statistical significance testing (t-test between top 2 sources)\n",
    "utm_sources = engagement_metrics['utm_source'].tolist()\n",
    "\n",
    "if len(utm_sources) >= 2:\n",
    "    source1, source2 = utm_sources[0], utm_sources[1]\n",
    "    \n",
    "    query1 = f\"SELECT COUNT(e.contact_id) as event_count FROM user_attribution.contacts c LEFT JOIN user_attribution.events e ON c.contact_id = e.contact_id WHERE c.utm_source = '{source1}' GROUP BY c.contact_id\"\n",
    "    query2 = f\"SELECT COUNT(e.contact_id) as event_count FROM user_attribution.contacts c LEFT JOIN user_attribution.events e ON c.contact_id = e.contact_id WHERE c.utm_source = '{source2}' GROUP BY c.contact_id\"\n",
    "    \n",
    "    try:\n",
    "        events1 = conn.execute(query1).fetchdf()['event_count'].values\n",
    "        events2 = conn.execute(query2).fetchdf()['event_count'].values\n",
    "        \n",
    "        t_stat, p_value = stats.ttest_ind(events1, events2)\n",
    "        \n",
    "        print(\"\\nSTATISTICAL SIGNIFICANCE TEST\")\n",
    "        print(f\"Comparing: '{source1}' vs '{source2}'\")\n",
    "        print(f\"  {source1}: Mean events = {events1.mean():.2f}, N = {len(events1)}\")\n",
    "        print(f\"  {source2}: Mean events = {events2.mean():.2f}, N = {len(events2)}\")\n",
    "        print(f\"  T-statistic: {t_stat:.4f}\")\n",
    "        print(f\"  P-value: {p_value:.4f}\")\n",
    "        \n",
    "        if p_value < 0.05:\n",
    "            print(f\"  Result: SIGNIFICANT (p < 0.05)\")\n",
    "        else:\n",
    "            print(f\"  Result: NOT SIGNIFICANT (p >= 0.05)\")\n",
    "    except Exception as e:\n",
    "        print(f\"Error performing statistical test: {e}\")\n",
    "else:\n",
    "    print(\"Not enough sources for comparison\")"
   ]
  },
  {
   "cell_type": "markdown",
   "id": "e9af795c",
   "metadata": {},
   "source": [
    "## Step 12: Calculate Composite Quality Scores"
   ]
  },
  {
   "cell_type": "code",
   "execution_count": 20,
   "id": "097fbd19",
   "metadata": {},
   "outputs": [
    {
     "name": "stdout",
     "output_type": "stream",
     "text": [
      "SOURCE QUALITY RANKING\n",
      "   rank       utm_source  quality_score  total_users  avg_events_per_user  \\\n",
      "3     1   ActiveCampaign          80.11           12            54.250000   \n",
      "0     2          unknown          69.14         2001            16.950001   \n",
      "1     3  alexey_linkedin          52.00          403            11.090000   \n",
      "2     4   dtc_newsletter          45.81          245             5.020000   \n",
      "4     5      adrian_test           0.01            2             0.000000   \n",
      "5     6      chatgpt.com           0.00            1             0.000000   \n",
      "\n",
      "   retention_rate  \n",
      "3      100.000000  \n",
      "0       91.599998  \n",
      "1       99.500000  \n",
      "2       99.180000  \n",
      "4        0.000000  \n",
      "5        0.000000  \n"
     ]
    }
   ],
   "source": [
    "# Merging all metrics\n",
    "quality_df = acquisition_metrics[['utm_source', 'total_users']].merge(\n",
    "    engagement_metrics[['utm_source', 'avg_events_per_user', 'engagement_rate']],\n",
    "    on='utm_source'\n",
    ").merge(\n",
    "    retention_metrics[['utm_source', 'retention_rate']],\n",
    "    on='utm_source'\n",
    ")\n",
    "\n",
    "# Normalizing metrics to 0-100 scale\n",
    "scaler = MinMaxScaler(feature_range=(0, 100))\n",
    "quality_df['volume_score'] = scaler.fit_transform(quality_df[['total_users']])\n",
    "quality_df['engagement_score'] = scaler.fit_transform(quality_df[['avg_events_per_user']])\n",
    "quality_df['retention_score'] = quality_df['retention_rate']  \n",
    "\n",
    "# Calculating composite quality score with configured weights\n",
    "quality_df['quality_score'] = (\n",
    "    CONFIG['volume_weight'] * quality_df['volume_score'] +\n",
    "    CONFIG['engagement_weight'] * quality_df['engagement_score'] +\n",
    "    CONFIG['retention_weight'] * quality_df['retention_score']\n",
    ").round(2)\n",
    "\n",
    "# Ranking the sources\n",
    "quality_df = quality_df.sort_values('quality_score', ascending=False)\n",
    "quality_df['rank'] = range(1, len(quality_df) + 1)\n",
    "\n",
    "print(\"SOURCE QUALITY RANKING\")\n",
    "print(quality_df[['rank', 'utm_source', 'quality_score', 'total_users', 'avg_events_per_user', 'retention_rate']])"
   ]
  },
  {
   "cell_type": "markdown",
   "id": "7555c15d",
   "metadata": {},
   "source": [
    "## Step 13: Segment Sources into Quality Tiers"
   ]
  },
  {
   "cell_type": "code",
   "execution_count": 21,
   "id": "aec22695",
   "metadata": {},
   "outputs": [
    {
     "name": "stdout",
     "output_type": "stream",
     "text": [
      "QUALITY TIER SUMMARY\n",
      "                num_sources  total_users  avg_quality_score\n",
      "quality_tier                                               \n",
      "High Quality              1           12              80.11\n",
      "Low Quality               2            3               0.00\n",
      "Medium Quality            3         2649              55.65\n",
      "\n",
      "High Quality sources: 1\n",
      "Medium Quality sources: 3\n",
      "Low Quality sources: 2\n"
     ]
    }
   ],
   "source": [
    "def categorize_quality(score):\n",
    "    \"\"\"Categorize quality score into tiers\"\"\"\n",
    "    if score >= CONFIG['high_quality_threshold']:\n",
    "        return 'High Quality'\n",
    "    elif score >= CONFIG['medium_quality_threshold']:\n",
    "        return 'Medium Quality'\n",
    "    else:\n",
    "        return 'Low Quality'\n",
    "\n",
    "quality_df['quality_tier'] = quality_df['quality_score'].apply(categorize_quality)\n",
    "\n",
    "# Summary by tier\n",
    "tier_summary = quality_df.groupby('quality_tier').agg({\n",
    "    'utm_source': 'count',\n",
    "    'total_users': 'sum',\n",
    "    'quality_score': 'mean'\n",
    "}).round(2)\n",
    "tier_summary.columns = ['num_sources', 'total_users', 'avg_quality_score']\n",
    "\n",
    "print(\"QUALITY TIER SUMMARY\")\n",
    "print(tier_summary)\n",
    "\n",
    "high_quality = quality_df[quality_df['quality_tier'] == 'High Quality']\n",
    "medium_quality = quality_df[quality_df['quality_tier'] == 'Medium Quality']\n",
    "low_quality = quality_df[quality_df['quality_tier'] == 'Low Quality']\n",
    "\n",
    "print(f\"\\nHigh Quality sources: {len(high_quality)}\")\n",
    "print(f\"Medium Quality sources: {len(medium_quality)}\")\n",
    "print(f\"Low Quality sources: {len(low_quality)}\")"
   ]
  },
  {
   "cell_type": "code",
   "execution_count": 22,
   "id": "0c2c630d",
   "metadata": {},
   "outputs": [
    {
     "data": {
      "application/vnd.plotly.v1+json": {
       "config": {
        "plotlyServerURL": "https://plot.ly"
       },
       "data": [
        {
         "alignmentgroup": "True",
         "hovertemplate": "Quality Score (0-100)=%{marker.color}<br>UTM Source=%{y}<extra></extra>",
         "legendgroup": "",
         "marker": {
          "color": [
           0,
           0.01,
           45.81,
           52,
           69.14,
           80.11
          ],
          "coloraxis": "coloraxis",
          "pattern": {
           "shape": ""
          }
         },
         "name": "",
         "offsetgroup": "",
         "orientation": "h",
         "showlegend": false,
         "text": [
          0,
          0.01,
          45.81,
          52,
          69.14,
          80.11
         ],
         "textposition": "outside",
         "type": "bar",
         "x": [
          0,
          0.01,
          45.81,
          52,
          69.14,
          80.11
         ],
         "xaxis": "x",
         "y": [
          "chatgpt.com",
          "adrian_test",
          "dtc_newsletter",
          "alexey_linkedin",
          "unknown",
          "ActiveCampaign"
         ],
         "yaxis": "y"
        }
       ],
       "layout": {
        "barmode": "relative",
        "coloraxis": {
         "colorbar": {
          "title": {
           "text": "Quality Score (0-100)"
          }
         },
         "colorscale": [
          [
           0,
           "rgb(165,0,38)"
          ],
          [
           0.1,
           "rgb(215,48,39)"
          ],
          [
           0.2,
           "rgb(244,109,67)"
          ],
          [
           0.3,
           "rgb(253,174,97)"
          ],
          [
           0.4,
           "rgb(254,224,139)"
          ],
          [
           0.5,
           "rgb(255,255,191)"
          ],
          [
           0.6,
           "rgb(217,239,139)"
          ],
          [
           0.7,
           "rgb(166,217,106)"
          ],
          [
           0.8,
           "rgb(102,189,99)"
          ],
          [
           0.9,
           "rgb(26,152,80)"
          ],
          [
           1,
           "rgb(0,104,55)"
          ]
         ]
        },
        "height": 400,
        "legend": {
         "tracegroupgap": 0
        },
        "showlegend": false,
        "template": {
         "data": {
          "candlestick": [
           {
            "decreasing": {
             "line": {
              "color": "#000033"
             }
            },
            "increasing": {
             "line": {
              "color": "#000032"
             }
            },
            "type": "candlestick"
           }
          ],
          "contour": [
           {
            "colorscale": [
             [
              0,
              "#000011"
             ],
             [
              0.1111111111111111,
              "#000012"
             ],
             [
              0.2222222222222222,
              "#000013"
             ],
             [
              0.3333333333333333,
              "#000014"
             ],
             [
              0.4444444444444444,
              "#000015"
             ],
             [
              0.5555555555555556,
              "#000016"
             ],
             [
              0.6666666666666666,
              "#000017"
             ],
             [
              0.7777777777777778,
              "#000018"
             ],
             [
              0.8888888888888888,
              "#000019"
             ],
             [
              1,
              "#000020"
             ]
            ],
            "type": "contour"
           }
          ],
          "contourcarpet": [
           {
            "colorscale": [
             [
              0,
              "#000011"
             ],
             [
              0.1111111111111111,
              "#000012"
             ],
             [
              0.2222222222222222,
              "#000013"
             ],
             [
              0.3333333333333333,
              "#000014"
             ],
             [
              0.4444444444444444,
              "#000015"
             ],
             [
              0.5555555555555556,
              "#000016"
             ],
             [
              0.6666666666666666,
              "#000017"
             ],
             [
              0.7777777777777778,
              "#000018"
             ],
             [
              0.8888888888888888,
              "#000019"
             ],
             [
              1,
              "#000020"
             ]
            ],
            "type": "contourcarpet"
           }
          ],
          "heatmap": [
           {
            "colorscale": [
             [
              0,
              "#000011"
             ],
             [
              0.1111111111111111,
              "#000012"
             ],
             [
              0.2222222222222222,
              "#000013"
             ],
             [
              0.3333333333333333,
              "#000014"
             ],
             [
              0.4444444444444444,
              "#000015"
             ],
             [
              0.5555555555555556,
              "#000016"
             ],
             [
              0.6666666666666666,
              "#000017"
             ],
             [
              0.7777777777777778,
              "#000018"
             ],
             [
              0.8888888888888888,
              "#000019"
             ],
             [
              1,
              "#000020"
             ]
            ],
            "type": "heatmap"
           }
          ],
          "histogram2d": [
           {
            "colorscale": [
             [
              0,
              "#000011"
             ],
             [
              0.1111111111111111,
              "#000012"
             ],
             [
              0.2222222222222222,
              "#000013"
             ],
             [
              0.3333333333333333,
              "#000014"
             ],
             [
              0.4444444444444444,
              "#000015"
             ],
             [
              0.5555555555555556,
              "#000016"
             ],
             [
              0.6666666666666666,
              "#000017"
             ],
             [
              0.7777777777777778,
              "#000018"
             ],
             [
              0.8888888888888888,
              "#000019"
             ],
             [
              1,
              "#000020"
             ]
            ],
            "type": "histogram2d"
           }
          ],
          "icicle": [
           {
            "textfont": {
             "color": "white"
            },
            "type": "icicle"
           }
          ],
          "sankey": [
           {
            "textfont": {
             "color": "#000036"
            },
            "type": "sankey"
           }
          ],
          "scatter": [
           {
            "marker": {
             "line": {
              "width": 0
             }
            },
            "type": "scatter"
           }
          ],
          "table": [
           {
            "cells": {
             "fill": {
              "color": "#000038"
             },
             "font": {
              "color": "#000037"
             },
             "line": {
              "color": "#000039"
             }
            },
            "header": {
             "fill": {
              "color": "#000040"
             },
             "font": {
              "color": "#000036"
             },
             "line": {
              "color": "#000039"
             }
            },
            "type": "table"
           }
          ],
          "waterfall": [
           {
            "connector": {
             "line": {
              "color": "#000036",
              "width": 2
             }
            },
            "decreasing": {
             "marker": {
              "color": "#000033"
             }
            },
            "increasing": {
             "marker": {
              "color": "#000032"
             }
            },
            "totals": {
             "marker": {
              "color": "#000034"
             }
            },
            "type": "waterfall"
           }
          ]
         },
         "layout": {
          "coloraxis": {
           "colorscale": [
            [
             0,
             "#000011"
            ],
            [
             0.1111111111111111,
             "#000012"
            ],
            [
             0.2222222222222222,
             "#000013"
            ],
            [
             0.3333333333333333,
             "#000014"
            ],
            [
             0.4444444444444444,
             "#000015"
            ],
            [
             0.5555555555555556,
             "#000016"
            ],
            [
             0.6666666666666666,
             "#000017"
            ],
            [
             0.7777777777777778,
             "#000018"
            ],
            [
             0.8888888888888888,
             "#000019"
            ],
            [
             1,
             "#000020"
            ]
           ]
          },
          "colorscale": {
           "diverging": [
            [
             0,
             "#000021"
            ],
            [
             0.1,
             "#000022"
            ],
            [
             0.2,
             "#000023"
            ],
            [
             0.3,
             "#000024"
            ],
            [
             0.4,
             "#000025"
            ],
            [
             0.5,
             "#000026"
            ],
            [
             0.6,
             "#000027"
            ],
            [
             0.7,
             "#000028"
            ],
            [
             0.8,
             "#000029"
            ],
            [
             0.9,
             "#000030"
            ],
            [
             1,
             "#000031"
            ]
           ],
           "sequential": [
            [
             0,
             "#000011"
            ],
            [
             0.1111111111111111,
             "#000012"
            ],
            [
             0.2222222222222222,
             "#000013"
            ],
            [
             0.3333333333333333,
             "#000014"
            ],
            [
             0.4444444444444444,
             "#000015"
            ],
            [
             0.5555555555555556,
             "#000016"
            ],
            [
             0.6666666666666666,
             "#000017"
            ],
            [
             0.7777777777777778,
             "#000018"
            ],
            [
             0.8888888888888888,
             "#000019"
            ],
            [
             1,
             "#000020"
            ]
           ],
           "sequentialminus": [
            [
             0,
             "#000011"
            ],
            [
             0.1111111111111111,
             "#000012"
            ],
            [
             0.2222222222222222,
             "#000013"
            ],
            [
             0.3333333333333333,
             "#000014"
            ],
            [
             0.4444444444444444,
             "#000015"
            ],
            [
             0.5555555555555556,
             "#000016"
            ],
            [
             0.6666666666666666,
             "#000017"
            ],
            [
             0.7777777777777778,
             "#000018"
            ],
            [
             0.8888888888888888,
             "#000019"
            ],
            [
             1,
             "#000020"
            ]
           ]
          },
          "colorway": [
           "#000001",
           "#000002",
           "#000003",
           "#000004",
           "#000005",
           "#000006",
           "#000007",
           "#000008",
           "#000009",
           "#000010"
          ]
         }
        },
        "title": {
         "text": "Composite Quality Score by UTM Source"
        },
        "xaxis": {
         "anchor": "y",
         "domain": [
          0,
          1
         ],
         "title": {
          "text": "Quality Score (0-100)"
         }
        },
        "yaxis": {
         "anchor": "x",
         "domain": [
          0,
          1
         ],
         "title": {
          "text": "UTM Source"
         }
        }
       }
      }
     },
     "metadata": {},
     "output_type": "display_data"
    },
    {
     "data": {
      "application/vnd.plotly.v1+json": {
       "config": {
        "plotlyServerURL": "https://plot.ly"
       },
       "data": [
        {
         "hovertemplate": "Quality Tier=High Quality<br>Total Users Acquired=%{x}<br>Quality Score=%{y}<br>avg_events_per_user=%{marker.size}<br>utm_source=%{text}<extra></extra>",
         "legendgroup": "High Quality",
         "marker": {
          "color": "#2ca02c",
          "size": [
           54.25
          ],
          "sizemode": "area",
          "sizeref": 0.135625,
          "symbol": "circle"
         },
         "mode": "markers+text",
         "name": "High Quality",
         "orientation": "v",
         "showlegend": true,
         "text": [
          "ActiveCampaign"
         ],
         "textposition": "top center",
         "type": "scatter",
         "x": [
          12
         ],
         "xaxis": "x",
         "y": [
          80.11
         ],
         "yaxis": "y"
        },
        {
         "hovertemplate": "Quality Tier=Medium Quality<br>Total Users Acquired=%{x}<br>Quality Score=%{y}<br>avg_events_per_user=%{marker.size}<br>utm_source=%{text}<extra></extra>",
         "legendgroup": "Medium Quality",
         "marker": {
          "color": "#ff7f0e",
          "size": [
           16.95,
           11.09,
           5.02
          ],
          "sizemode": "area",
          "sizeref": 0.135625,
          "symbol": "circle"
         },
         "mode": "markers+text",
         "name": "Medium Quality",
         "orientation": "v",
         "showlegend": true,
         "text": [
          "unknown",
          "alexey_linkedin",
          "dtc_newsletter"
         ],
         "textposition": "top center",
         "type": "scatter",
         "x": [
          2001,
          403,
          245
         ],
         "xaxis": "x",
         "y": [
          69.14,
          52,
          45.81
         ],
         "yaxis": "y"
        },
        {
         "hovertemplate": "Quality Tier=Low Quality<br>Total Users Acquired=%{x}<br>Quality Score=%{y}<br>avg_events_per_user=%{marker.size}<br>utm_source=%{text}<extra></extra>",
         "legendgroup": "Low Quality",
         "marker": {
          "color": "#d62728",
          "size": [
           0,
           0
          ],
          "sizemode": "area",
          "sizeref": 0.135625,
          "symbol": "circle"
         },
         "mode": "markers+text",
         "name": "Low Quality",
         "orientation": "v",
         "showlegend": true,
         "text": [
          "adrian_test",
          "chatgpt.com"
         ],
         "textposition": "top center",
         "type": "scatter",
         "x": [
          2,
          1
         ],
         "xaxis": "x",
         "y": [
          0.01,
          0
         ],
         "yaxis": "y"
        }
       ],
       "layout": {
        "height": 600,
        "legend": {
         "itemsizing": "constant",
         "title": {
          "text": "Quality Tier"
         },
         "tracegroupgap": 0
        },
        "template": {
         "data": {
          "candlestick": [
           {
            "decreasing": {
             "line": {
              "color": "#000033"
             }
            },
            "increasing": {
             "line": {
              "color": "#000032"
             }
            },
            "type": "candlestick"
           }
          ],
          "contour": [
           {
            "colorscale": [
             [
              0,
              "#000011"
             ],
             [
              0.1111111111111111,
              "#000012"
             ],
             [
              0.2222222222222222,
              "#000013"
             ],
             [
              0.3333333333333333,
              "#000014"
             ],
             [
              0.4444444444444444,
              "#000015"
             ],
             [
              0.5555555555555556,
              "#000016"
             ],
             [
              0.6666666666666666,
              "#000017"
             ],
             [
              0.7777777777777778,
              "#000018"
             ],
             [
              0.8888888888888888,
              "#000019"
             ],
             [
              1,
              "#000020"
             ]
            ],
            "type": "contour"
           }
          ],
          "contourcarpet": [
           {
            "colorscale": [
             [
              0,
              "#000011"
             ],
             [
              0.1111111111111111,
              "#000012"
             ],
             [
              0.2222222222222222,
              "#000013"
             ],
             [
              0.3333333333333333,
              "#000014"
             ],
             [
              0.4444444444444444,
              "#000015"
             ],
             [
              0.5555555555555556,
              "#000016"
             ],
             [
              0.6666666666666666,
              "#000017"
             ],
             [
              0.7777777777777778,
              "#000018"
             ],
             [
              0.8888888888888888,
              "#000019"
             ],
             [
              1,
              "#000020"
             ]
            ],
            "type": "contourcarpet"
           }
          ],
          "heatmap": [
           {
            "colorscale": [
             [
              0,
              "#000011"
             ],
             [
              0.1111111111111111,
              "#000012"
             ],
             [
              0.2222222222222222,
              "#000013"
             ],
             [
              0.3333333333333333,
              "#000014"
             ],
             [
              0.4444444444444444,
              "#000015"
             ],
             [
              0.5555555555555556,
              "#000016"
             ],
             [
              0.6666666666666666,
              "#000017"
             ],
             [
              0.7777777777777778,
              "#000018"
             ],
             [
              0.8888888888888888,
              "#000019"
             ],
             [
              1,
              "#000020"
             ]
            ],
            "type": "heatmap"
           }
          ],
          "histogram2d": [
           {
            "colorscale": [
             [
              0,
              "#000011"
             ],
             [
              0.1111111111111111,
              "#000012"
             ],
             [
              0.2222222222222222,
              "#000013"
             ],
             [
              0.3333333333333333,
              "#000014"
             ],
             [
              0.4444444444444444,
              "#000015"
             ],
             [
              0.5555555555555556,
              "#000016"
             ],
             [
              0.6666666666666666,
              "#000017"
             ],
             [
              0.7777777777777778,
              "#000018"
             ],
             [
              0.8888888888888888,
              "#000019"
             ],
             [
              1,
              "#000020"
             ]
            ],
            "type": "histogram2d"
           }
          ],
          "icicle": [
           {
            "textfont": {
             "color": "white"
            },
            "type": "icicle"
           }
          ],
          "sankey": [
           {
            "textfont": {
             "color": "#000036"
            },
            "type": "sankey"
           }
          ],
          "scatter": [
           {
            "marker": {
             "line": {
              "width": 0
             }
            },
            "type": "scatter"
           }
          ],
          "table": [
           {
            "cells": {
             "fill": {
              "color": "#000038"
             },
             "font": {
              "color": "#000037"
             },
             "line": {
              "color": "#000039"
             }
            },
            "header": {
             "fill": {
              "color": "#000040"
             },
             "font": {
              "color": "#000036"
             },
             "line": {
              "color": "#000039"
             }
            },
            "type": "table"
           }
          ],
          "waterfall": [
           {
            "connector": {
             "line": {
              "color": "#000036",
              "width": 2
             }
            },
            "decreasing": {
             "marker": {
              "color": "#000033"
             }
            },
            "increasing": {
             "marker": {
              "color": "#000032"
             }
            },
            "totals": {
             "marker": {
              "color": "#000034"
             }
            },
            "type": "waterfall"
           }
          ]
         },
         "layout": {
          "coloraxis": {
           "colorscale": [
            [
             0,
             "#000011"
            ],
            [
             0.1111111111111111,
             "#000012"
            ],
            [
             0.2222222222222222,
             "#000013"
            ],
            [
             0.3333333333333333,
             "#000014"
            ],
            [
             0.4444444444444444,
             "#000015"
            ],
            [
             0.5555555555555556,
             "#000016"
            ],
            [
             0.6666666666666666,
             "#000017"
            ],
            [
             0.7777777777777778,
             "#000018"
            ],
            [
             0.8888888888888888,
             "#000019"
            ],
            [
             1,
             "#000020"
            ]
           ]
          },
          "colorscale": {
           "diverging": [
            [
             0,
             "#000021"
            ],
            [
             0.1,
             "#000022"
            ],
            [
             0.2,
             "#000023"
            ],
            [
             0.3,
             "#000024"
            ],
            [
             0.4,
             "#000025"
            ],
            [
             0.5,
             "#000026"
            ],
            [
             0.6,
             "#000027"
            ],
            [
             0.7,
             "#000028"
            ],
            [
             0.8,
             "#000029"
            ],
            [
             0.9,
             "#000030"
            ],
            [
             1,
             "#000031"
            ]
           ],
           "sequential": [
            [
             0,
             "#000011"
            ],
            [
             0.1111111111111111,
             "#000012"
            ],
            [
             0.2222222222222222,
             "#000013"
            ],
            [
             0.3333333333333333,
             "#000014"
            ],
            [
             0.4444444444444444,
             "#000015"
            ],
            [
             0.5555555555555556,
             "#000016"
            ],
            [
             0.6666666666666666,
             "#000017"
            ],
            [
             0.7777777777777778,
             "#000018"
            ],
            [
             0.8888888888888888,
             "#000019"
            ],
            [
             1,
             "#000020"
            ]
           ],
           "sequentialminus": [
            [
             0,
             "#000011"
            ],
            [
             0.1111111111111111,
             "#000012"
            ],
            [
             0.2222222222222222,
             "#000013"
            ],
            [
             0.3333333333333333,
             "#000014"
            ],
            [
             0.4444444444444444,
             "#000015"
            ],
            [
             0.5555555555555556,
             "#000016"
            ],
            [
             0.6666666666666666,
             "#000017"
            ],
            [
             0.7777777777777778,
             "#000018"
            ],
            [
             0.8888888888888888,
             "#000019"
            ],
            [
             1,
             "#000020"
            ]
           ]
          },
          "colorway": [
           "#000001",
           "#000002",
           "#000003",
           "#000004",
           "#000005",
           "#000006",
           "#000007",
           "#000008",
           "#000009",
           "#000010"
          ]
         }
        },
        "title": {
         "text": "UTM Source Segmentation: Volume vs Quality"
        },
        "xaxis": {
         "anchor": "y",
         "domain": [
          0,
          1
         ],
         "title": {
          "text": "Total Users Acquired"
         }
        },
        "yaxis": {
         "anchor": "x",
         "domain": [
          0,
          1
         ],
         "title": {
          "text": "Quality Score"
         }
        }
       }
      }
     },
     "metadata": {},
     "output_type": "display_data"
    }
   ],
   "source": [
    "# Quality score visualization\n",
    "fig = px.bar(\n",
    "    quality_df.sort_values('quality_score', ascending=True),\n",
    "    x='quality_score',\n",
    "    y='utm_source',\n",
    "    orientation='h',\n",
    "    title='Composite Quality Score by UTM Source',\n",
    "    labels={'quality_score': 'Quality Score (0-100)', 'utm_source': 'UTM Source'},\n",
    "    text='quality_score',\n",
    "    color='quality_score',\n",
    "    color_continuous_scale='RdYlGn'\n",
    ")\n",
    "fig.update_traces(textposition='outside')\n",
    "fig.update_layout(height=max(400, len(quality_df) * 30), showlegend=False)\n",
    "fig.show()\n",
    "\n",
    "\n",
    "\n",
    "# Quality tier segmentation\n",
    "tier_palette = {\n",
    "    'High Quality': '#2ca02c',    # green\n",
    "    'Medium Quality':'#ff7f0e',  # orange\n",
    "    'Low Quality': '#d62728'      # red\n",
    "}\n",
    "fig = px.scatter(\n",
    "    quality_df,\n",
    "    x='total_users',\n",
    "    y='quality_score',\n",
    "    size='avg_events_per_user',\n",
    "    color='quality_tier',\n",
    "    text='utm_source',\n",
    "    title='UTM Source Segmentation: Volume vs Quality',\n",
    "    labels={\n",
    "        'total_users': 'Total Users Acquired',\n",
    "        'quality_score': 'Quality Score',\n",
    "        'quality_tier': 'Quality Tier'\n",
    "    },\n",
    "    color_discrete_map=tier_palette\n",
    ")\n",
    "fig.update_traces(textposition='top center')\n",
    "fig.update_layout(height=600)\n",
    "fig.show()"
   ]
  },
  {
   "cell_type": "markdown",
   "id": "1df48ead",
   "metadata": {},
   "source": [
    "## Step 14: Generating Business Insights"
   ]
  },
  {
   "cell_type": "code",
   "execution_count": 23,
   "id": "80b03ee6",
   "metadata": {},
   "outputs": [
    {
     "name": "stdout",
     "output_type": "stream",
     "text": [
      "====================================================================================================\n",
      "📊 BUSINESS INSIGHTS\n",
      "====================================================================================================\n"
     ]
    },
    {
     "data": {
      "application/vnd.plotly.v1+json": {
       "config": {
        "plotlyServerURL": "https://plot.ly"
       },
       "data": [
        {
         "marker": {
          "color": "lightblue"
         },
         "name": "User Volume",
         "text": [
          12,
          2001,
          403,
          245,
          1
         ],
         "textposition": "auto",
         "type": "bar",
         "x": [
          "ActiveCampaign",
          "unknown",
          "alexey_linkedin",
          "dtc_newsletter",
          "chatgpt.com"
         ],
         "y": [
          12,
          2001,
          403,
          245,
          1
         ],
         "yaxis": "y"
        },
        {
         "line": {
          "color": "crimson",
          "width": 3
         },
         "marker": {
          "color": "crimson",
          "size": 12
         },
         "mode": "lines+markers+text",
         "name": "Avg Events per User",
         "text": [
          54.20000076293945,
          17,
          11.100000381469727,
          5,
          0
         ],
         "textposition": "top center",
         "type": "scatter",
         "x": [
          "ActiveCampaign",
          "unknown",
          "alexey_linkedin",
          "dtc_newsletter",
          "chatgpt.com"
         ],
         "y": [
          54.25,
          16.95,
          11.09,
          5.02,
          0
         ],
         "yaxis": "y2"
        }
       ],
       "layout": {
        "height": 500,
        "hovermode": "x unified",
        "legend": {
         "orientation": "h",
         "x": 1,
         "xanchor": "right",
         "y": 1.02,
         "yanchor": "bottom"
        },
        "template": {
         "data": {
          "candlestick": [
           {
            "decreasing": {
             "line": {
              "color": "#000033"
             }
            },
            "increasing": {
             "line": {
              "color": "#000032"
             }
            },
            "type": "candlestick"
           }
          ],
          "contour": [
           {
            "colorscale": [
             [
              0,
              "#000011"
             ],
             [
              0.1111111111111111,
              "#000012"
             ],
             [
              0.2222222222222222,
              "#000013"
             ],
             [
              0.3333333333333333,
              "#000014"
             ],
             [
              0.4444444444444444,
              "#000015"
             ],
             [
              0.5555555555555556,
              "#000016"
             ],
             [
              0.6666666666666666,
              "#000017"
             ],
             [
              0.7777777777777778,
              "#000018"
             ],
             [
              0.8888888888888888,
              "#000019"
             ],
             [
              1,
              "#000020"
             ]
            ],
            "type": "contour"
           }
          ],
          "contourcarpet": [
           {
            "colorscale": [
             [
              0,
              "#000011"
             ],
             [
              0.1111111111111111,
              "#000012"
             ],
             [
              0.2222222222222222,
              "#000013"
             ],
             [
              0.3333333333333333,
              "#000014"
             ],
             [
              0.4444444444444444,
              "#000015"
             ],
             [
              0.5555555555555556,
              "#000016"
             ],
             [
              0.6666666666666666,
              "#000017"
             ],
             [
              0.7777777777777778,
              "#000018"
             ],
             [
              0.8888888888888888,
              "#000019"
             ],
             [
              1,
              "#000020"
             ]
            ],
            "type": "contourcarpet"
           }
          ],
          "heatmap": [
           {
            "colorscale": [
             [
              0,
              "#000011"
             ],
             [
              0.1111111111111111,
              "#000012"
             ],
             [
              0.2222222222222222,
              "#000013"
             ],
             [
              0.3333333333333333,
              "#000014"
             ],
             [
              0.4444444444444444,
              "#000015"
             ],
             [
              0.5555555555555556,
              "#000016"
             ],
             [
              0.6666666666666666,
              "#000017"
             ],
             [
              0.7777777777777778,
              "#000018"
             ],
             [
              0.8888888888888888,
              "#000019"
             ],
             [
              1,
              "#000020"
             ]
            ],
            "type": "heatmap"
           }
          ],
          "histogram2d": [
           {
            "colorscale": [
             [
              0,
              "#000011"
             ],
             [
              0.1111111111111111,
              "#000012"
             ],
             [
              0.2222222222222222,
              "#000013"
             ],
             [
              0.3333333333333333,
              "#000014"
             ],
             [
              0.4444444444444444,
              "#000015"
             ],
             [
              0.5555555555555556,
              "#000016"
             ],
             [
              0.6666666666666666,
              "#000017"
             ],
             [
              0.7777777777777778,
              "#000018"
             ],
             [
              0.8888888888888888,
              "#000019"
             ],
             [
              1,
              "#000020"
             ]
            ],
            "type": "histogram2d"
           }
          ],
          "icicle": [
           {
            "textfont": {
             "color": "white"
            },
            "type": "icicle"
           }
          ],
          "sankey": [
           {
            "textfont": {
             "color": "#000036"
            },
            "type": "sankey"
           }
          ],
          "scatter": [
           {
            "marker": {
             "line": {
              "width": 0
             }
            },
            "type": "scatter"
           }
          ],
          "table": [
           {
            "cells": {
             "fill": {
              "color": "#000038"
             },
             "font": {
              "color": "#000037"
             },
             "line": {
              "color": "#000039"
             }
            },
            "header": {
             "fill": {
              "color": "#000040"
             },
             "font": {
              "color": "#000036"
             },
             "line": {
              "color": "#000039"
             }
            },
            "type": "table"
           }
          ],
          "waterfall": [
           {
            "connector": {
             "line": {
              "color": "#000036",
              "width": 2
             }
            },
            "decreasing": {
             "marker": {
              "color": "#000033"
             }
            },
            "increasing": {
             "marker": {
              "color": "#000032"
             }
            },
            "totals": {
             "marker": {
              "color": "#000034"
             }
            },
            "type": "waterfall"
           }
          ]
         },
         "layout": {
          "coloraxis": {
           "colorscale": [
            [
             0,
             "#000011"
            ],
            [
             0.1111111111111111,
             "#000012"
            ],
            [
             0.2222222222222222,
             "#000013"
            ],
            [
             0.3333333333333333,
             "#000014"
            ],
            [
             0.4444444444444444,
             "#000015"
            ],
            [
             0.5555555555555556,
             "#000016"
            ],
            [
             0.6666666666666666,
             "#000017"
            ],
            [
             0.7777777777777778,
             "#000018"
            ],
            [
             0.8888888888888888,
             "#000019"
            ],
            [
             1,
             "#000020"
            ]
           ]
          },
          "colorscale": {
           "diverging": [
            [
             0,
             "#000021"
            ],
            [
             0.1,
             "#000022"
            ],
            [
             0.2,
             "#000023"
            ],
            [
             0.3,
             "#000024"
            ],
            [
             0.4,
             "#000025"
            ],
            [
             0.5,
             "#000026"
            ],
            [
             0.6,
             "#000027"
            ],
            [
             0.7,
             "#000028"
            ],
            [
             0.8,
             "#000029"
            ],
            [
             0.9,
             "#000030"
            ],
            [
             1,
             "#000031"
            ]
           ],
           "sequential": [
            [
             0,
             "#000011"
            ],
            [
             0.1111111111111111,
             "#000012"
            ],
            [
             0.2222222222222222,
             "#000013"
            ],
            [
             0.3333333333333333,
             "#000014"
            ],
            [
             0.4444444444444444,
             "#000015"
            ],
            [
             0.5555555555555556,
             "#000016"
            ],
            [
             0.6666666666666666,
             "#000017"
            ],
            [
             0.7777777777777778,
             "#000018"
            ],
            [
             0.8888888888888888,
             "#000019"
            ],
            [
             1,
             "#000020"
            ]
           ],
           "sequentialminus": [
            [
             0,
             "#000011"
            ],
            [
             0.1111111111111111,
             "#000012"
            ],
            [
             0.2222222222222222,
             "#000013"
            ],
            [
             0.3333333333333333,
             "#000014"
            ],
            [
             0.4444444444444444,
             "#000015"
            ],
            [
             0.5555555555555556,
             "#000016"
            ],
            [
             0.6666666666666666,
             "#000017"
            ],
            [
             0.7777777777777778,
             "#000018"
            ],
            [
             0.8888888888888888,
             "#000019"
            ],
            [
             1,
             "#000020"
            ]
           ]
          },
          "colorway": [
           "#000001",
           "#000002",
           "#000003",
           "#000004",
           "#000005",
           "#000006",
           "#000007",
           "#000008",
           "#000009",
           "#000010"
          ]
         }
        },
        "title": {
         "text": "📈 Traffic vs Engagement"
        },
        "xaxis": {
         "title": {
          "text": "UTM Source"
         }
        },
        "yaxis": {
         "tickfont": {
          "color": "lightblue"
         },
         "title": {
          "font": {
           "color": "lightblue"
          },
          "text": "Number of Users Acquired"
         }
        },
        "yaxis2": {
         "overlaying": "y",
         "side": "right",
         "tickfont": {
          "color": "crimson"
         },
         "title": {
          "font": {
           "color": "crimson"
          },
          "text": "Avg Events per User (Engagement)"
         }
        }
       }
      }
     },
     "metadata": {},
     "output_type": "display_data"
    },
    {
     "data": {
      "application/vnd.plotly.v1+json": {
       "config": {
        "plotlyServerURL": "https://plot.ly"
       },
       "data": [
        {
         "fill": "toself",
         "line": {
          "color": "green",
          "width": 2
         },
         "marker": {
          "size": 8
         },
         "name": "alexey_linkedin",
         "r": [
          20.1,
          20.44239616394043,
          99.5,
          52
         ],
         "theta": [
          "Volume Score",
          "Engagement Score",
          "Retention Score",
          "Quality Score"
         ],
         "type": "scatterpolar"
        },
        {
         "fill": "toself",
         "line": {
          "color": "red",
          "width": 2
         },
         "marker": {
          "size": 8
         },
         "name": "dtc_newsletter",
         "r": [
          12.2,
          9.253456115722656,
          99.18000030517578,
          45.81
         ],
         "theta": [
          "Volume Score",
          "Engagement Score",
          "Retention Score",
          "Quality Score"
         ],
         "type": "scatterpolar"
        }
       ],
       "layout": {
        "height": 500,
        "polar": {
         "radialaxis": {
          "range": [
           0,
           100
          ],
          "visible": true
         }
        },
        "showlegend": true,
        "template": {
         "data": {
          "candlestick": [
           {
            "decreasing": {
             "line": {
              "color": "#000033"
             }
            },
            "increasing": {
             "line": {
              "color": "#000032"
             }
            },
            "type": "candlestick"
           }
          ],
          "contour": [
           {
            "colorscale": [
             [
              0,
              "#000011"
             ],
             [
              0.1111111111111111,
              "#000012"
             ],
             [
              0.2222222222222222,
              "#000013"
             ],
             [
              0.3333333333333333,
              "#000014"
             ],
             [
              0.4444444444444444,
              "#000015"
             ],
             [
              0.5555555555555556,
              "#000016"
             ],
             [
              0.6666666666666666,
              "#000017"
             ],
             [
              0.7777777777777778,
              "#000018"
             ],
             [
              0.8888888888888888,
              "#000019"
             ],
             [
              1,
              "#000020"
             ]
            ],
            "type": "contour"
           }
          ],
          "contourcarpet": [
           {
            "colorscale": [
             [
              0,
              "#000011"
             ],
             [
              0.1111111111111111,
              "#000012"
             ],
             [
              0.2222222222222222,
              "#000013"
             ],
             [
              0.3333333333333333,
              "#000014"
             ],
             [
              0.4444444444444444,
              "#000015"
             ],
             [
              0.5555555555555556,
              "#000016"
             ],
             [
              0.6666666666666666,
              "#000017"
             ],
             [
              0.7777777777777778,
              "#000018"
             ],
             [
              0.8888888888888888,
              "#000019"
             ],
             [
              1,
              "#000020"
             ]
            ],
            "type": "contourcarpet"
           }
          ],
          "heatmap": [
           {
            "colorscale": [
             [
              0,
              "#000011"
             ],
             [
              0.1111111111111111,
              "#000012"
             ],
             [
              0.2222222222222222,
              "#000013"
             ],
             [
              0.3333333333333333,
              "#000014"
             ],
             [
              0.4444444444444444,
              "#000015"
             ],
             [
              0.5555555555555556,
              "#000016"
             ],
             [
              0.6666666666666666,
              "#000017"
             ],
             [
              0.7777777777777778,
              "#000018"
             ],
             [
              0.8888888888888888,
              "#000019"
             ],
             [
              1,
              "#000020"
             ]
            ],
            "type": "heatmap"
           }
          ],
          "histogram2d": [
           {
            "colorscale": [
             [
              0,
              "#000011"
             ],
             [
              0.1111111111111111,
              "#000012"
             ],
             [
              0.2222222222222222,
              "#000013"
             ],
             [
              0.3333333333333333,
              "#000014"
             ],
             [
              0.4444444444444444,
              "#000015"
             ],
             [
              0.5555555555555556,
              "#000016"
             ],
             [
              0.6666666666666666,
              "#000017"
             ],
             [
              0.7777777777777778,
              "#000018"
             ],
             [
              0.8888888888888888,
              "#000019"
             ],
             [
              1,
              "#000020"
             ]
            ],
            "type": "histogram2d"
           }
          ],
          "icicle": [
           {
            "textfont": {
             "color": "white"
            },
            "type": "icicle"
           }
          ],
          "sankey": [
           {
            "textfont": {
             "color": "#000036"
            },
            "type": "sankey"
           }
          ],
          "scatter": [
           {
            "marker": {
             "line": {
              "width": 0
             }
            },
            "type": "scatter"
           }
          ],
          "table": [
           {
            "cells": {
             "fill": {
              "color": "#000038"
             },
             "font": {
              "color": "#000037"
             },
             "line": {
              "color": "#000039"
             }
            },
            "header": {
             "fill": {
              "color": "#000040"
             },
             "font": {
              "color": "#000036"
             },
             "line": {
              "color": "#000039"
             }
            },
            "type": "table"
           }
          ],
          "waterfall": [
           {
            "connector": {
             "line": {
              "color": "#000036",
              "width": 2
             }
            },
            "decreasing": {
             "marker": {
              "color": "#000033"
             }
            },
            "increasing": {
             "marker": {
              "color": "#000032"
             }
            },
            "totals": {
             "marker": {
              "color": "#000034"
             }
            },
            "type": "waterfall"
           }
          ]
         },
         "layout": {
          "coloraxis": {
           "colorscale": [
            [
             0,
             "#000011"
            ],
            [
             0.1111111111111111,
             "#000012"
            ],
            [
             0.2222222222222222,
             "#000013"
            ],
            [
             0.3333333333333333,
             "#000014"
            ],
            [
             0.4444444444444444,
             "#000015"
            ],
            [
             0.5555555555555556,
             "#000016"
            ],
            [
             0.6666666666666666,
             "#000017"
            ],
            [
             0.7777777777777778,
             "#000018"
            ],
            [
             0.8888888888888888,
             "#000019"
            ],
            [
             1,
             "#000020"
            ]
           ]
          },
          "colorscale": {
           "diverging": [
            [
             0,
             "#000021"
            ],
            [
             0.1,
             "#000022"
            ],
            [
             0.2,
             "#000023"
            ],
            [
             0.3,
             "#000024"
            ],
            [
             0.4,
             "#000025"
            ],
            [
             0.5,
             "#000026"
            ],
            [
             0.6,
             "#000027"
            ],
            [
             0.7,
             "#000028"
            ],
            [
             0.8,
             "#000029"
            ],
            [
             0.9,
             "#000030"
            ],
            [
             1,
             "#000031"
            ]
           ],
           "sequential": [
            [
             0,
             "#000011"
            ],
            [
             0.1111111111111111,
             "#000012"
            ],
            [
             0.2222222222222222,
             "#000013"
            ],
            [
             0.3333333333333333,
             "#000014"
            ],
            [
             0.4444444444444444,
             "#000015"
            ],
            [
             0.5555555555555556,
             "#000016"
            ],
            [
             0.6666666666666666,
             "#000017"
            ],
            [
             0.7777777777777778,
             "#000018"
            ],
            [
             0.8888888888888888,
             "#000019"
            ],
            [
             1,
             "#000020"
            ]
           ],
           "sequentialminus": [
            [
             0,
             "#000011"
            ],
            [
             0.1111111111111111,
             "#000012"
            ],
            [
             0.2222222222222222,
             "#000013"
            ],
            [
             0.3333333333333333,
             "#000014"
            ],
            [
             0.4444444444444444,
             "#000015"
            ],
            [
             0.5555555555555556,
             "#000016"
            ],
            [
             0.6666666666666666,
             "#000017"
            ],
            [
             0.7777777777777778,
             "#000018"
            ],
            [
             0.8888888888888888,
             "#000019"
            ],
            [
             1,
             "#000020"
            ]
           ]
          },
          "colorway": [
           "#000001",
           "#000002",
           "#000003",
           "#000004",
           "#000005",
           "#000006",
           "#000007",
           "#000008",
           "#000009",
           "#000010"
          ]
         }
        },
        "title": {
         "text": "🎯 Quality Profile Comparison: LinkedIn vs dtc_newsletter"
        }
       }
      }
     },
     "metadata": {},
     "output_type": "display_data"
    },
    {
     "data": {
      "application/vnd.plotly.v1+json": {
       "config": {
        "plotlyServerURL": "https://plot.ly"
       },
       "data": [
        {
         "marker": {
          "color": [
           "#1f77b4",
           "#ff7f0e",
           "#2ca02c"
          ]
         },
         "textinfo": "value+percent initial",
         "type": "funnel",
         "x": [
          12,
          12,
          12
         ],
         "xaxis": "x",
         "y": [
          "Acquired",
          "Engaged",
          "Retained"
         ],
         "yaxis": "y"
        },
        {
         "marker": {
          "color": [
           "#1f77b4",
           "#ff7f0e",
           "#2ca02c"
          ]
         },
         "textinfo": "value+percent initial",
         "type": "funnel",
         "x": [
          2001,
          1950,
          1832
         ],
         "xaxis": "x2",
         "y": [
          "Acquired",
          "Engaged",
          "Retained"
         ],
         "yaxis": "y2"
        },
        {
         "marker": {
          "color": [
           "#1f77b4",
           "#ff7f0e",
           "#2ca02c"
          ]
         },
         "textinfo": "value+percent initial",
         "type": "funnel",
         "x": [
          403,
          400,
          400
         ],
         "xaxis": "x3",
         "y": [
          "Acquired",
          "Engaged",
          "Retained"
         ],
         "yaxis": "y3"
        },
        {
         "marker": {
          "color": [
           "#1f77b4",
           "#ff7f0e",
           "#2ca02c"
          ]
         },
         "textinfo": "value+percent initial",
         "type": "funnel",
         "x": [
          245,
          242,
          242
         ],
         "xaxis": "x4",
         "y": [
          "Acquired",
          "Engaged",
          "Retained"
         ],
         "yaxis": "y4"
        },
        {
         "marker": {
          "color": [
           "#1f77b4",
           "#ff7f0e",
           "#2ca02c"
          ]
         },
         "textinfo": "value+percent initial",
         "type": "funnel",
         "x": [
          1,
          0,
          0
         ],
         "xaxis": "x5",
         "y": [
          "Acquired",
          "Engaged",
          "Retained"
         ],
         "yaxis": "y5"
        }
       ],
       "layout": {
        "annotations": [
         {
          "font": {
           "size": 16
          },
          "showarrow": false,
          "text": "ActiveCampaign",
          "x": 0.08399999999999999,
          "xanchor": "center",
          "xref": "paper",
          "y": 1,
          "yanchor": "bottom",
          "yref": "paper"
         },
         {
          "font": {
           "size": 16
          },
          "showarrow": false,
          "text": "unknown",
          "x": 0.292,
          "xanchor": "center",
          "xref": "paper",
          "y": 1,
          "yanchor": "bottom",
          "yref": "paper"
         },
         {
          "font": {
           "size": 16
          },
          "showarrow": false,
          "text": "alexey_linkedin",
          "x": 0.5,
          "xanchor": "center",
          "xref": "paper",
          "y": 1,
          "yanchor": "bottom",
          "yref": "paper"
         },
         {
          "font": {
           "size": 16
          },
          "showarrow": false,
          "text": "dtc_newsletter",
          "x": 0.708,
          "xanchor": "center",
          "xref": "paper",
          "y": 1,
          "yanchor": "bottom",
          "yref": "paper"
         },
         {
          "font": {
           "size": 16
          },
          "showarrow": false,
          "text": "chatgpt.com",
          "x": 0.9159999999999999,
          "xanchor": "center",
          "xref": "paper",
          "y": 1,
          "yanchor": "bottom",
          "yref": "paper"
         }
        ],
        "height": 500,
        "showlegend": false,
        "template": {
         "data": {
          "candlestick": [
           {
            "decreasing": {
             "line": {
              "color": "#000033"
             }
            },
            "increasing": {
             "line": {
              "color": "#000032"
             }
            },
            "type": "candlestick"
           }
          ],
          "contour": [
           {
            "colorscale": [
             [
              0,
              "#000011"
             ],
             [
              0.1111111111111111,
              "#000012"
             ],
             [
              0.2222222222222222,
              "#000013"
             ],
             [
              0.3333333333333333,
              "#000014"
             ],
             [
              0.4444444444444444,
              "#000015"
             ],
             [
              0.5555555555555556,
              "#000016"
             ],
             [
              0.6666666666666666,
              "#000017"
             ],
             [
              0.7777777777777778,
              "#000018"
             ],
             [
              0.8888888888888888,
              "#000019"
             ],
             [
              1,
              "#000020"
             ]
            ],
            "type": "contour"
           }
          ],
          "contourcarpet": [
           {
            "colorscale": [
             [
              0,
              "#000011"
             ],
             [
              0.1111111111111111,
              "#000012"
             ],
             [
              0.2222222222222222,
              "#000013"
             ],
             [
              0.3333333333333333,
              "#000014"
             ],
             [
              0.4444444444444444,
              "#000015"
             ],
             [
              0.5555555555555556,
              "#000016"
             ],
             [
              0.6666666666666666,
              "#000017"
             ],
             [
              0.7777777777777778,
              "#000018"
             ],
             [
              0.8888888888888888,
              "#000019"
             ],
             [
              1,
              "#000020"
             ]
            ],
            "type": "contourcarpet"
           }
          ],
          "heatmap": [
           {
            "colorscale": [
             [
              0,
              "#000011"
             ],
             [
              0.1111111111111111,
              "#000012"
             ],
             [
              0.2222222222222222,
              "#000013"
             ],
             [
              0.3333333333333333,
              "#000014"
             ],
             [
              0.4444444444444444,
              "#000015"
             ],
             [
              0.5555555555555556,
              "#000016"
             ],
             [
              0.6666666666666666,
              "#000017"
             ],
             [
              0.7777777777777778,
              "#000018"
             ],
             [
              0.8888888888888888,
              "#000019"
             ],
             [
              1,
              "#000020"
             ]
            ],
            "type": "heatmap"
           }
          ],
          "histogram2d": [
           {
            "colorscale": [
             [
              0,
              "#000011"
             ],
             [
              0.1111111111111111,
              "#000012"
             ],
             [
              0.2222222222222222,
              "#000013"
             ],
             [
              0.3333333333333333,
              "#000014"
             ],
             [
              0.4444444444444444,
              "#000015"
             ],
             [
              0.5555555555555556,
              "#000016"
             ],
             [
              0.6666666666666666,
              "#000017"
             ],
             [
              0.7777777777777778,
              "#000018"
             ],
             [
              0.8888888888888888,
              "#000019"
             ],
             [
              1,
              "#000020"
             ]
            ],
            "type": "histogram2d"
           }
          ],
          "icicle": [
           {
            "textfont": {
             "color": "white"
            },
            "type": "icicle"
           }
          ],
          "sankey": [
           {
            "textfont": {
             "color": "#000036"
            },
            "type": "sankey"
           }
          ],
          "scatter": [
           {
            "marker": {
             "line": {
              "width": 0
             }
            },
            "type": "scatter"
           }
          ],
          "table": [
           {
            "cells": {
             "fill": {
              "color": "#000038"
             },
             "font": {
              "color": "#000037"
             },
             "line": {
              "color": "#000039"
             }
            },
            "header": {
             "fill": {
              "color": "#000040"
             },
             "font": {
              "color": "#000036"
             },
             "line": {
              "color": "#000039"
             }
            },
            "type": "table"
           }
          ],
          "waterfall": [
           {
            "connector": {
             "line": {
              "color": "#000036",
              "width": 2
             }
            },
            "decreasing": {
             "marker": {
              "color": "#000033"
             }
            },
            "increasing": {
             "marker": {
              "color": "#000032"
             }
            },
            "totals": {
             "marker": {
              "color": "#000034"
             }
            },
            "type": "waterfall"
           }
          ]
         },
         "layout": {
          "coloraxis": {
           "colorscale": [
            [
             0,
             "#000011"
            ],
            [
             0.1111111111111111,
             "#000012"
            ],
            [
             0.2222222222222222,
             "#000013"
            ],
            [
             0.3333333333333333,
             "#000014"
            ],
            [
             0.4444444444444444,
             "#000015"
            ],
            [
             0.5555555555555556,
             "#000016"
            ],
            [
             0.6666666666666666,
             "#000017"
            ],
            [
             0.7777777777777778,
             "#000018"
            ],
            [
             0.8888888888888888,
             "#000019"
            ],
            [
             1,
             "#000020"
            ]
           ]
          },
          "colorscale": {
           "diverging": [
            [
             0,
             "#000021"
            ],
            [
             0.1,
             "#000022"
            ],
            [
             0.2,
             "#000023"
            ],
            [
             0.3,
             "#000024"
            ],
            [
             0.4,
             "#000025"
            ],
            [
             0.5,
             "#000026"
            ],
            [
             0.6,
             "#000027"
            ],
            [
             0.7,
             "#000028"
            ],
            [
             0.8,
             "#000029"
            ],
            [
             0.9,
             "#000030"
            ],
            [
             1,
             "#000031"
            ]
           ],
           "sequential": [
            [
             0,
             "#000011"
            ],
            [
             0.1111111111111111,
             "#000012"
            ],
            [
             0.2222222222222222,
             "#000013"
            ],
            [
             0.3333333333333333,
             "#000014"
            ],
            [
             0.4444444444444444,
             "#000015"
            ],
            [
             0.5555555555555556,
             "#000016"
            ],
            [
             0.6666666666666666,
             "#000017"
            ],
            [
             0.7777777777777778,
             "#000018"
            ],
            [
             0.8888888888888888,
             "#000019"
            ],
            [
             1,
             "#000020"
            ]
           ],
           "sequentialminus": [
            [
             0,
             "#000011"
            ],
            [
             0.1111111111111111,
             "#000012"
            ],
            [
             0.2222222222222222,
             "#000013"
            ],
            [
             0.3333333333333333,
             "#000014"
            ],
            [
             0.4444444444444444,
             "#000015"
            ],
            [
             0.5555555555555556,
             "#000016"
            ],
            [
             0.6666666666666666,
             "#000017"
            ],
            [
             0.7777777777777778,
             "#000018"
            ],
            [
             0.8888888888888888,
             "#000019"
            ],
            [
             1,
             "#000020"
            ]
           ]
          },
          "colorway": [
           "#000001",
           "#000002",
           "#000003",
           "#000004",
           "#000005",
           "#000006",
           "#000007",
           "#000008",
           "#000009",
           "#000010"
          ]
         }
        },
        "title": {
         "text": "🔄 User Journey Funnel: Acquisition → Engagement → Retention"
        },
        "xaxis": {
         "anchor": "y",
         "domain": [
          0,
          0.16799999999999998
         ]
        },
        "xaxis2": {
         "anchor": "y2",
         "domain": [
          0.208,
          0.376
         ]
        },
        "xaxis3": {
         "anchor": "y3",
         "domain": [
          0.416,
          0.584
         ]
        },
        "xaxis4": {
         "anchor": "y4",
         "domain": [
          0.624,
          0.792
         ]
        },
        "xaxis5": {
         "anchor": "y5",
         "domain": [
          0.832,
          1
         ]
        },
        "yaxis": {
         "anchor": "x",
         "domain": [
          0,
          1
         ]
        },
        "yaxis2": {
         "anchor": "x2",
         "domain": [
          0,
          1
         ]
        },
        "yaxis3": {
         "anchor": "x3",
         "domain": [
          0,
          1
         ]
        },
        "yaxis4": {
         "anchor": "x4",
         "domain": [
          0,
          1
         ]
        },
        "yaxis5": {
         "anchor": "x5",
         "domain": [
          0,
          1
         ]
        }
       }
      }
     },
     "metadata": {},
     "output_type": "display_data"
    },
    {
     "name": "stdout",
     "output_type": "stream",
     "text": [
      "\n",
      "====================================================================================================\n",
      "💡 KEY INSIGHTS SUMMARY\n",
      "====================================================================================================\n",
      "\n",
      "📍 ACTIVECAMPAIGN\n",
      "   Quality Tier: High Quality\n",
      "   Quality Score: 80.11/100\n",
      "   Users Acquired: 12\n",
      "   Avg Events/User: 54.2\n",
      "   Retention Rate: 100.0%\n",
      "   🌟 INSIGHT: Top-performing source across all metrics.\n",
      "      → Highest quality score (80.11/100)\n",
      "      → Strong engagement (54.2 events) + volume (12 users)\n",
      "      → RECOMMENDATION: Increase budget by 25-30%\n",
      "\n",
      "📍 UNKNOWN\n",
      "   Quality Tier: Medium Quality\n",
      "   Quality Score: 69.14/100\n",
      "   Users Acquired: 2,001\n",
      "   Avg Events/User: 17.0\n",
      "   Retention Rate: 91.6%\n",
      "   ❓ INSIGHT: Unknown sources contribute significant volume but quality varies.\n",
      "      → Implement better UTM tracking to identify actual sources\n",
      "      → RECOMMENDATION: Audit marketing campaigns for missing UTM parameters\n",
      "\n",
      "📍 ALEXEY_LINKEDIN\n",
      "   Quality Tier: Medium Quality\n",
      "   Quality Score: 52.0/100\n",
      "   Users Acquired: 403\n",
      "   Avg Events/User: 11.1\n",
      "   Retention Rate: 99.5%\n",
      "   💡 INSIGHT: Alexey's LinkedIn posts lead to the highest engaged users.\n",
      "      → Users from this source generate 11.1 events on average\n",
      "      → 99.5% retention rate shows strong user quality\n",
      "      → RECOMMENDATION: Increase content frequency and experiment with LinkedIn ads\n",
      "\n",
      "📍 DTC_NEWSLETTER\n",
      "   Quality Tier: Medium Quality\n",
      "   Quality Score: 45.81/100\n",
      "   Users Acquired: 245\n",
      "   Avg Events/User: 5.0\n",
      "   Retention Rate: 99.2%\n",
      "   💡 INSIGHT: DTC Newsletter drives consistent engagement.\n",
      "      → Users from this source generate 5.0 events on average\n",
      "      → 99.2% retention rate shows strong user quality\n",
      "      → RECOMMENDATION: Continue leveraging newsletter content and explore partnerships\n",
      "\n",
      "📍 CHATGPT.COM\n",
      "   Quality Tier: Low Quality\n",
      "   Quality Score: 0.0/100\n",
      "   Users Acquired: 1\n",
      "   Avg Events/User: 0.0\n",
      "   Retention Rate: 0.0%\n",
      "   ⚠️  INSIGHT: ChatGPT links drove only one user and no engagement. Can be considered noise\n",
      "      → 0.0% retention indicates poor user-product fit\n",
      "      → RECOMMENDATION: Reduce spend or implement better pre-qualification\n",
      "\n",
      "====================================================================================================\n",
      "\n",
      "====================================================================================================\n"
     ]
    }
   ],
   "source": [
    "# Business Insight: Specific Source Comparisons\n",
    "\n",
    "print(\"=\" * 100)\n",
    "print(\"📊 BUSINESS INSIGHTS\")\n",
    "print(\"=\" * 100)\n",
    "\n",
    "# Creating a comparison dataset for specific insights\n",
    "insight_sources = quality_df[quality_df['utm_source'].isin(['alexey_linkedin', 'dtc_newsletter', 'ActiveCampaign', 'unknown', 'chatgpt.com'])].copy()\n",
    "\n",
    "if len(insight_sources) > 0:\n",
    "    # 1. Comparison Chart: High Engagement vs High Traffic\n",
    "    fig = go.Figure()\n",
    "    \n",
    "    # Add bars for user volume\n",
    "    fig.add_trace(go.Bar(\n",
    "        name='User Volume',\n",
    "        x=insight_sources['utm_source'],\n",
    "        y=insight_sources['total_users'],\n",
    "        marker_color='lightblue',\n",
    "        text=insight_sources['total_users'],\n",
    "        textposition='auto',\n",
    "        yaxis='y'\n",
    "    ))\n",
    "    \n",
    "    # Add line for engagement\n",
    "    fig.add_trace(go.Scatter(\n",
    "        name='Avg Events per User',\n",
    "        x=insight_sources['utm_source'],\n",
    "        y=insight_sources['avg_events_per_user'],\n",
    "        mode='lines+markers+text',\n",
    "        marker=dict(size=12, color='crimson'),\n",
    "        line=dict(width=3, color='crimson'),\n",
    "        text=insight_sources['avg_events_per_user'].round(1),\n",
    "        textposition='top center',\n",
    "        yaxis='y2'\n",
    "    ))\n",
    "    \n",
    "    fig.update_layout(\n",
    "        title='📈 Traffic vs Engagement',\n",
    "        xaxis=dict(title='UTM Source'),\n",
    "        yaxis=dict(\n",
    "            title='Number of Users Acquired',\n",
    "            titlefont=dict(color='lightblue'),\n",
    "            tickfont=dict(color='lightblue')\n",
    "        ),\n",
    "        yaxis2=dict(\n",
    "            title='Avg Events per User (Engagement)',\n",
    "            titlefont=dict(color='crimson'),\n",
    "            tickfont=dict(color='crimson'),\n",
    "            overlaying='y',\n",
    "            side='right'\n",
    "        ),\n",
    "        height=500,\n",
    "        hovermode='x unified',\n",
    "        legend=dict(\n",
    "            orientation=\"h\",\n",
    "            yanchor=\"bottom\",\n",
    "            y=1.02,\n",
    "            xanchor=\"right\",\n",
    "            x=1\n",
    "        )\n",
    "    )\n",
    "    \n",
    "    fig.show()\n",
    "    \n",
    "    # 2. Radar Chart: Multi-dimensional Quality Comparison\n",
    "    if 'alexey_linkedin' in insight_sources['utm_source'].values and 'dtc_newsletter' in insight_sources['utm_source'].values:\n",
    "        \n",
    "        alexey_data = insight_sources[insight_sources['utm_source'] == 'alexey_linkedin'].iloc[0]\n",
    "        chatgpt_data = insight_sources[insight_sources['utm_source'] == 'dtc_newsletter'].iloc[0]\n",
    "\n",
    "        categories = ['Volume Score', 'Engagement Score', 'Retention Score', 'Quality Score']\n",
    "        \n",
    "        fig = go.Figure()\n",
    "        \n",
    "        fig.add_trace(go.Scatterpolar(\n",
    "            r=[\n",
    "                alexey_data['volume_score'],\n",
    "                alexey_data['engagement_score'],\n",
    "                alexey_data['retention_score'],\n",
    "                alexey_data['quality_score']\n",
    "            ],\n",
    "            theta=categories,\n",
    "            fill='toself',\n",
    "            name='alexey_linkedin',\n",
    "            line=dict(color='green', width=2),\n",
    "            marker=dict(size=8)\n",
    "        ))\n",
    "        \n",
    "        fig.add_trace(go.Scatterpolar(\n",
    "            r=[\n",
    "                chatgpt_data['volume_score'],\n",
    "                chatgpt_data['engagement_score'],\n",
    "                chatgpt_data['retention_score'],\n",
    "                chatgpt_data['quality_score']\n",
    "            ],\n",
    "            theta=categories,\n",
    "            fill='toself',\n",
    "            name='dtc_newsletter',\n",
    "            line=dict(color='red', width=2),\n",
    "            marker=dict(size=8)\n",
    "        ))\n",
    "        \n",
    "        fig.update_layout(\n",
    "            polar=dict(\n",
    "                radialaxis=dict(\n",
    "                    visible=True,\n",
    "                    range=[0, 100]\n",
    "                )\n",
    "            ),\n",
    "            title='🎯 Quality Profile Comparison: LinkedIn vs dtc_newsletter',\n",
    "            showlegend=True,\n",
    "            height=500\n",
    "        )\n",
    "        \n",
    "        fig.show()\n",
    "    \n",
    "    # 3. Funnel Chart: Conversion Efficiency\n",
    "    # Create a funnel showing volume -> engagement -> retention\n",
    "    funnel_data = []\n",
    "            \n",
    "    for _, row in insight_sources.iterrows():\n",
    "        source = row['utm_source']\n",
    "        total_users = row['total_users']\n",
    "        engaged_users = int(total_users * row['engagement_rate'] / 100)\n",
    "        retained_users = int(total_users * row['retention_rate'] / 100)\n",
    "        \n",
    "        funnel_data.append({\n",
    "            'source': source,\n",
    "            'stage': 'Acquired',\n",
    "            'value': total_users,\n",
    "            'color': '#1f77b4'\n",
    "        })\n",
    "        funnel_data.append({\n",
    "            'source': source,\n",
    "            'stage': 'Engaged',\n",
    "            'value': engaged_users,\n",
    "            'color': '#ff7f0e'\n",
    "        })\n",
    "        funnel_data.append({\n",
    "            'source': source,\n",
    "            'stage': 'Retained',\n",
    "            'value': retained_users,\n",
    "            'color': '#2ca02c'\n",
    "        })\n",
    "    \n",
    "    funnel_df = pd.DataFrame(funnel_data)\n",
    "    \n",
    "    # Create subplots for each source\n",
    "    from plotly.subplots import make_subplots\n",
    "    \n",
    "    sources = insight_sources['utm_source'].tolist()\n",
    "    fig = make_subplots(\n",
    "        rows=1, \n",
    "        cols=len(sources),\n",
    "        subplot_titles=sources,\n",
    "        specs=[[{'type': 'funnel'}] * len(sources)]\n",
    "    )\n",
    "    \n",
    "    for i, source in enumerate(sources, 1):\n",
    "        source_data = funnel_df[funnel_df['source'] == source]\n",
    "        \n",
    "        fig.add_trace(\n",
    "            go.Funnel(\n",
    "                y=source_data['stage'],\n",
    "                x=source_data['value'],\n",
    "                textinfo='value+percent initial',\n",
    "                marker=dict(\n",
    "                    color=['#1f77b4', '#ff7f0e', '#2ca02c']\n",
    "                )\n",
    "            ),\n",
    "            row=1, col=i\n",
    "        )\n",
    "    \n",
    "    fig.update_layout(\n",
    "        title_text='🔄 User Journey Funnel: Acquisition → Engagement → Retention',\n",
    "        height=500,\n",
    "        showlegend=False\n",
    "    )\n",
    "    \n",
    "    fig.show()\n",
    "    \n",
    "    # 4. Key Insights Summary Table\n",
    "    print(\"\\n\" + \"=\" * 100)\n",
    "    print(\"💡 KEY INSIGHTS SUMMARY\")\n",
    "    print(\"=\" * 100)\n",
    "    \n",
    "    for _, row in insight_sources.iterrows():\n",
    "        source = row['utm_source']\n",
    "        \n",
    "        print(f\"\\n📍 {source.upper()}\")\n",
    "        print(f\"   Quality Tier: {row['quality_tier']}\")\n",
    "        print(f\"   Quality Score: {row['quality_score']}/100\")\n",
    "        print(f\"   Users Acquired: {int(row['total_users']):,}\")\n",
    "        print(f\"   Avg Events/User: {row['avg_events_per_user']:.1f}\")\n",
    "        print(f\"   Retention Rate: {row['retention_rate']:.1f}%\")\n",
    "        \n",
    "        # Generate insight\n",
    "        if source == 'alexey_linkedin':\n",
    "            print(f\"   💡 INSIGHT: Alexey's LinkedIn posts lead to the highest engaged users.\")\n",
    "            print(f\"      → Users from this source generate {row['avg_events_per_user']:.1f} events on average\")\n",
    "            print(f\"      → {row['retention_rate']:.1f}% retention rate shows strong user quality\")\n",
    "            print(f\"      → RECOMMENDATION: Increase content frequency and experiment with LinkedIn ads\")\n",
    "        \n",
    "        elif source == 'chatgpt.com':\n",
    "            print(f\"   ⚠️  INSIGHT: ChatGPT links drove only one user and no engagement. Can be considered noise\")\n",
    "            print(f\"      → {row['retention_rate']:.1f}% retention indicates poor user-product fit\")\n",
    "            print(f\"      → RECOMMENDATION: Reduce spend or implement better pre-qualification\")\n",
    "\n",
    "        elif source == 'dtc_newsletter':\n",
    "            print(f\"   💡 INSIGHT: DTC Newsletter drives consistent engagement.\")\n",
    "            print(f\"      → Users from this source generate {row['avg_events_per_user']:.1f} events on average\")\n",
    "            print(f\"      → {row['retention_rate']:.1f}% retention rate shows strong user quality\")\n",
    "            print(f\"      → RECOMMENDATION: Continue leveraging newsletter content and explore partnerships\")\n",
    "\n",
    "        elif source == 'ActiveCampaign':\n",
    "            print(f\"   🌟 INSIGHT: Top-performing source across all metrics.\")\n",
    "            print(f\"      → Highest quality score ({row['quality_score']}/100)\")\n",
    "            print(f\"      → Strong engagement ({row['avg_events_per_user']:.1f} events) + volume ({int(row['total_users'])} users)\")\n",
    "            print(f\"      → RECOMMENDATION: Increase budget by 25-30%\")\n",
    "        \n",
    "        elif source == 'unknown':\n",
    "            print(f\"   ❓ INSIGHT: Unknown sources contribute significant volume but quality varies.\")\n",
    "            print(f\"      → Implement better UTM tracking to identify actual sources\")\n",
    "            print(f\"      → RECOMMENDATION: Audit marketing campaigns for missing UTM parameters\")\n",
    "    \n",
    "    print(\"\\n\" + \"=\" * 100)\n",
    "\n",
    "else:\n",
    "    print(\"Insufficient data for specific source comparisons\")\n",
    "\n",
    "print(\"\\n\" + \"=\" * 100)"
   ]
  },
  {
   "cell_type": "markdown",
   "id": "491cbe71",
   "metadata": {},
   "source": [
    "## Executive Summary\n",
    "\n",
    "This analysis evaluated the quality of acquisition sources (`utm_source`) using three metrics:\n",
    "\n",
    "- **Volume (20%)** – Number of users acquired  \n",
    "- **Engagement (40%)** – Average events per user  \n",
    "- **Retention (40%)** – Percentage of users who remain active  \n",
    "\n",
    "Sources were grouped into three tiers requiring different strategic actions.\n",
    "\n",
    "---\n",
    "\n",
    "## Recommendations by Quality Tier\n",
    "\n",
    "### High-Quality Sources (Score ≥ 70) ActiveCampaign\n",
    "**Strategy:** Invest More  \n",
    "- Increase marketing budget by 20–30%.  \n",
    "- Expand campaigns and targeting.  \n",
    "- Use for high-value offerings and product launches.  \n",
    "- Build lookalike audiences and apply advanced attribution models.  \n",
    "- Continue A/B testing to refine messaging.  \n",
    "\n",
    "---\n",
    "\n",
    "### Medium-Quality Sources (Score 40–69) alexey_linkedin, dtc_newsletter\n",
    "\n",
    "- Analyze user drop-off points.  \n",
    "- Create tailored onboarding for each source.  \n",
    "- Deliver core value faster to new users.  \n",
    "- Run re-engagement and feature education campaigns.  \n",
    "- Track 7/14/30-day engagement milestones.  \n",
    "\n",
    "\n",
    "---\n",
    "\n",
    "### Low-Quality Sources (Score < 40) chatgpt.com, adrian_test\n",
    "**Strategy:** Reduce Spend or Retarget  \n",
    "- Cut or pause underperforming campaigns.  \n",
    "- Refine audience targeting and messaging.  \n",
    "- Reassess channel fit with target customers.  \n",
    "- Compare acquisition cost with lifetime value.  \n",
    "- Test new landing pages or signup flows.  \n",
    "---"
   ]
  },
  {
   "cell_type": "markdown",
   "id": "015375fc",
   "metadata": {},
   "source": [
    "## Step 15: Export Results"
   ]
  },
  {
   "cell_type": "code",
   "execution_count": 24,
   "id": "61013649",
   "metadata": {},
   "outputs": [
    {
     "name": "stdout",
     "output_type": "stream",
     "text": [
      "Results exported to: utm_source_quality_analysis.csv\n",
      "Summary exported to: utm_attribution_summary.csv\n",
      "\n",
      "Analysis complete!\n"
     ]
    }
   ],
   "source": [
    "# Export detailed results\n",
    "output_df = quality_df[[\n",
    "    'rank', 'utm_source', 'quality_score',\n",
    "    'total_users', 'avg_events_per_user', 'retention_rate',\n",
    "    'volume_score', 'engagement_score', 'retention_score'\n",
    "]].copy()\n",
    "\n",
    "output_df.to_csv(CONFIG['output_quality_file'], index=False)\n",
    "print(f\"Results exported to: {CONFIG['output_quality_file']}\")\n",
    "\n",
    "# Creating summary report\n",
    "summary_report = {\n",
    "    'Analysis Date': datetime.now().strftime('%Y-%m-%d'),\n",
    "    'Total Sources Analyzed': len(quality_df),\n",
    "    'Total Users': int(quality_df['total_users'].sum()),\n",
    "    'High Quality Sources': len(high_quality),\n",
    "    'Medium Quality Sources': len(medium_quality),\n",
    "    'Low Quality Sources': len(low_quality),\n",
    "    'Best Source': quality_df.iloc[0]['utm_source'],\n",
    "    'Best Source Quality Score': quality_df.iloc[0]['quality_score'],\n",
    "    'Avg Quality Score': round(quality_df['quality_score'].mean(), 2)\n",
    "}\n",
    "\n",
    "summary_df = pd.DataFrame([summary_report])\n",
    "summary_df.to_csv(CONFIG['output_summary_file'], index=False)\n",
    "print(f\"Summary exported to: {CONFIG['output_summary_file']}\")\n",
    "\n",
    "print(\"\\nAnalysis complete!\")"
   ]
  }
 ],
 "metadata": {
  "kernelspec": {
   "display_name": "base",
   "language": "python",
   "name": "python3"
  },
  "language_info": {
   "codemirror_mode": {
    "name": "ipython",
    "version": 3
   },
   "file_extension": ".py",
   "mimetype": "text/x-python",
   "name": "python",
   "nbconvert_exporter": "python",
   "pygments_lexer": "ipython3",
   "version": "3.12.7"
  }
 },
 "nbformat": 4,
 "nbformat_minor": 5
}
